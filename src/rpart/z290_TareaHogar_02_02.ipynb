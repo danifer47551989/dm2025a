{
  "nbformat": 4,
  "nbformat_minor": 0,
  "metadata": {
    "colab": {
      "provenance": []
    },
    "kernelspec": {
      "name": "python3",
      "display_name": "Python 3"
    },
    "language_info": {
      "name": "python"
    }
  },
  "cells": [
    {
      "cell_type": "markdown",
      "source": [
        "# Tarea para el Hogar 02"
      ],
      "metadata": {
        "id": "F3r8aa3pBigj"
      }
    },
    {
      "cell_type": "markdown",
      "source": [
        "Esta Tarea para el Hogar 02 se entrega el final de la segunda clase\n",
        "<br> se espera de usted que intente avanzar con los desafios propuestos y que los traiga terminados para la Clase 03, ya que se analizarán los resultados"
      ],
      "metadata": {
        "id": "nBm4ktHUBmZt"
      }
    },
    {
      "cell_type": "markdown",
      "source": [
        "##  1. Ensembles de Modelos"
      ],
      "metadata": {
        "id": "TK-M04ElCESC"
      }
    },
    {
      "cell_type": "markdown",
      "source": [
        "Vea el siguiente video [BBC - The Code - The Wisdom of the Crowd](https://www.youtube.com/watch?v=iOucwX7Z1HU)    ( 5 min)\n"
      ],
      "metadata": {
        "id": "biPYxgobCOSS"
      }
    },
    {
      "cell_type": "markdown",
      "source": [
        "Lea los siguientes artículos\n",
        "\n",
        "\n",
        "*   [The Wisdom of Crowds (Vox Populi) by Francis Galton](https://www.all-about-psychology.com/the-wisdom-of-crowds.html)  (10 min)\n",
        "*   [A Gentle Introduction to Ensemble Learning](https://machinelearningmastery.com/what-is-ensemble-learning/)  (10 min)\n",
        "\n"
      ],
      "metadata": {
        "id": "FBszBRyNCcjp"
      }
    },
    {
      "cell_type": "markdown",
      "source": [
        "\n",
        "\n",
        "---\n",
        "\n"
      ],
      "metadata": {
        "id": "x7SebtV2lpHQ"
      }
    },
    {
      "cell_type": "markdown",
      "source": [
        "##  2.  Zero2Hero   primera parte\n",
        "Se han lanzado los primeros fascículos coleccionables llamados \"from Zero to Hero\" que muy detalladamente, paso a paso enseñan todo lo necesario de R para entender los scripts oficiales de la asignatura.\n",
        "Están en el repositorio oficial de la asignatura, carpeta  **src/zero2hero**"
      ],
      "metadata": {
        "id": "NQcY8u2MDSLT"
      }
    },
    {
      "cell_type": "markdown",
      "source": [
        "\n",
        "\n",
        "---\n",
        "\n"
      ],
      "metadata": {
        "id": "GcO0OSiIEAGy"
      }
    },
    {
      "cell_type": "markdown",
      "source": [
        "## 3.  Grid Search"
      ],
      "metadata": {
        "id": "6MStcyn0EBdT"
      }
    },
    {
      "cell_type": "markdown",
      "source": [
        "Busque en internet el precido significado de los hiperparámetros de la librería **rpart**  que está implementando el algoritmo **CART**  Classification and Regression Trees  propuesto en el año 1984 por Leo Brieman:\n",
        "\n",
        "*   cp\n",
        "*   maxdepth\n",
        "*   minsplit\n",
        "*   minbucket\n",
        "\n",
        "Entienda que valores es razonable tome cada hiperparámetro,  en particular profundice en el hiperparámetro  **cp**  y la posibilidad que tome valores negativos.  Es válido consultar a su amigo de *capacidades especiales*  ChatGPT\n"
      ],
      "metadata": {
        "id": "gM8RKXDgEIY0"
      }
    },
    {
      "cell_type": "markdown",
      "source": [
        "En las siguientes celdas a un notebook incompleto, un esqueleto de codigo brindado a modo de facilitarle la tarea de codeo y permitir que su valiosa cognición se concentre temas conceptuales de Ciencia de Datos\n",
        "\n",
        "Modifiquelo agregando loops para que recorra TODOS los hiperparámetros de rpart  < cp, maxdepth, minsplit, minbucket >, y luego póngalo a correr. Recuerde cambiar por SU semilla\n",
        "Tenga muy presente la granularidad que eligirá para cada hiperparámetro."
      ],
      "metadata": {
        "id": "_k7eT3HIFy9y"
      }
    },
    {
      "cell_type": "markdown",
      "source": [
        "### Seteo del ambiente en Google Colab"
      ],
      "metadata": {
        "id": "kmLygy1TYPfg"
      }
    },
    {
      "cell_type": "markdown",
      "source": [
        "Esta parte se debe correr con el runtime en Python3\n",
        "<br>Ir al menu, Runtime -> Change Runtime Tipe -> Runtime type ->  **Python 3**"
      ],
      "metadata": {
        "id": "OikOm5K2YU3X"
      }
    },
    {
      "cell_type": "markdown",
      "source": [
        "Conectar la virtual machine donde esta corriendo Google Colab con el  Google Drive, para poder tener persistencia de archivos"
      ],
      "metadata": {
        "id": "4fmV5LyZdFyI"
      }
    },
    {
      "cell_type": "code",
      "source": [
        "# primero establecer el Runtime de Python 3\n",
        "from google.colab import drive\n",
        "drive.mount('/content/.drive')"
      ],
      "metadata": {
        "id": "ilEZ-bE2VybW",
        "colab": {
          "base_uri": "https://localhost:8080/"
        },
        "outputId": "bac204aa-9e28-4088-913f-5ce791806852"
      },
      "execution_count": 1,
      "outputs": [
        {
          "output_type": "stream",
          "name": "stdout",
          "text": [
            "Drive already mounted at /content/.drive; to attempt to forcibly remount, call drive.mount(\"/content/.drive\", force_remount=True).\n"
          ]
        }
      ]
    },
    {
      "cell_type": "markdown",
      "source": [
        "Para correr la siguiente celda es fundamental en Arranque en Frio haber copiado el archivo kaggle.json al Google Drive, en la carpeta indicada en el instructivo\n",
        "\n",
        "<br>los siguientes comando estan en shell script de Linux\n",
        "*   Crear las carpetas en el Google Drive\n",
        "*   \"instalar\" el archivo kaggle.json desde el Google Drive a la virtual machine para que pueda ser utilizado por la libreria  kaggle de Python\n",
        "*   Bajar el  **dataset_pequeno**  al  Google Drive  y tambien al disco local de la virtual machine que esta corriendo Google Colab\n",
        "\n"
      ],
      "metadata": {
        "id": "ilaKtqWldeWg"
      }
    },
    {
      "cell_type": "code",
      "source": [
        "%%shell\n",
        "\n",
        "mkdir -p \"/content/.drive/My Drive/dm\"\n",
        "mkdir -p \"/content/buckets\"\n",
        "ln -s \"/content/.drive/My Drive/dm\" /content/buckets/b1\n",
        "\n",
        "mkdir -p ~/.kaggle\n",
        "cp /content/buckets/b1/kaggle/kaggle.json  ~/.kaggle\n",
        "chmod 600 ~/.kaggle/kaggle.json\n",
        "\n",
        "\n",
        "mkdir -p /content/buckets/b1/exp\n",
        "mkdir -p /content/buckets/b1/datasets\n",
        "mkdir -p /content/datasets\n",
        "\n",
        "\n",
        "\n",
        "archivo_origen=\"https://storage.googleapis.com/open-courses/itba2025-8d0a/dataset_pequeno.csv\"\n",
        "archivo_destino=\"/content/datasets/dataset_pequeno.csv\"\n",
        "archivo_destino_bucket=\"/content/buckets/b1/datasets/dataset_pequeno.csv\"\n",
        "\n",
        "if ! test -f $archivo_destino_bucket; then\n",
        "  wget  $archivo_origen  -O $archivo_destino_bucket\n",
        "fi\n",
        "\n",
        "\n",
        "if ! test -f $archivo_destino; then\n",
        "  cp  $archivo_destino_bucket  $archivo_destino\n",
        "fi\n"
      ],
      "metadata": {
        "id": "W8dQFI5QYCFa",
        "outputId": "1e11a46a-3e10-4953-c39c-7198be7a265b",
        "colab": {
          "base_uri": "https://localhost:8080/"
        }
      },
      "execution_count": 2,
      "outputs": [
        {
          "output_type": "stream",
          "name": "stdout",
          "text": [
            "ln: failed to create symbolic link '/content/buckets/b1/dm': File exists\n"
          ]
        },
        {
          "output_type": "execute_result",
          "data": {
            "text/plain": []
          },
          "metadata": {},
          "execution_count": 2
        }
      ]
    },
    {
      "cell_type": "markdown",
      "source": [
        "limpio el ambiente de R"
      ],
      "metadata": {
        "id": "SE94XRhWsxkX"
      }
    },
    {
      "cell_type": "code",
      "source": [
        "# limpio la memoria\n",
        "rm(list=ls(all.names=TRUE)) # remove all objects\n",
        "gc(full=TRUE, verbose=FALSE) # garbage collection"
      ],
      "metadata": {
        "id": "oZG_4br6szlT",
        "outputId": "c20150d0-d960-46a1-b2af-1ef7c4dc4282",
        "colab": {
          "base_uri": "https://localhost:8080/",
          "height": 129
        }
      },
      "execution_count": 1,
      "outputs": [
        {
          "output_type": "display_data",
          "data": {
            "text/html": [
              "<table class=\"dataframe\">\n",
              "<caption>A matrix: 2 × 6 of type dbl</caption>\n",
              "<thead>\n",
              "\t<tr><th></th><th scope=col>used</th><th scope=col>(Mb)</th><th scope=col>gc trigger</th><th scope=col>(Mb)</th><th scope=col>max used</th><th scope=col>(Mb)</th></tr>\n",
              "</thead>\n",
              "<tbody>\n",
              "\t<tr><th scope=row>Ncells</th><td> 656417</td><td>35.1</td><td>1454474</td><td>77.7</td><td>1321186</td><td>70.6</td></tr>\n",
              "\t<tr><th scope=row>Vcells</th><td>1219191</td><td> 9.4</td><td>8388608</td><td>64.0</td><td>1975128</td><td>15.1</td></tr>\n",
              "</tbody>\n",
              "</table>\n"
            ],
            "text/markdown": "\nA matrix: 2 × 6 of type dbl\n\n| <!--/--> | used | (Mb) | gc trigger | (Mb) | max used | (Mb) |\n|---|---|---|---|---|---|---|\n| Ncells |  656417 | 35.1 | 1454474 | 77.7 | 1321186 | 70.6 |\n| Vcells | 1219191 |  9.4 | 8388608 | 64.0 | 1975128 | 15.1 |\n\n",
            "text/latex": "A matrix: 2 × 6 of type dbl\n\\begin{tabular}{r|llllll}\n  & used & (Mb) & gc trigger & (Mb) & max used & (Mb)\\\\\n\\hline\n\tNcells &  656417 & 35.1 & 1454474 & 77.7 & 1321186 & 70.6\\\\\n\tVcells & 1219191 &  9.4 & 8388608 & 64.0 & 1975128 & 15.1\\\\\n\\end{tabular}\n",
            "text/plain": [
              "       used    (Mb) gc trigger (Mb) max used (Mb)\n",
              "Ncells  656417 35.1 1454474    77.7 1321186  70.6\n",
              "Vcells 1219191  9.4 8388608    64.0 1975128  15.1"
            ]
          },
          "metadata": {}
        }
      ]
    },
    {
      "cell_type": "code",
      "source": [
        "# cargo las librerias que necesito\n",
        "require(\"data.table\")\n",
        "require(\"rpart\")\n",
        "require(\"parallel\")\n",
        "if (!require(\"primes\")) install.packages(\"primes\")\n",
        "require(\"primes\")"
      ],
      "metadata": {
        "id": "JO-12d7YHkWy",
        "outputId": "18d19a0a-ce33-4a25-e6ec-e6e509b4c442",
        "colab": {
          "base_uri": "https://localhost:8080/"
        }
      },
      "execution_count": 2,
      "outputs": [
        {
          "output_type": "stream",
          "name": "stderr",
          "text": [
            "Loading required package: data.table\n",
            "\n",
            "Loading required package: rpart\n",
            "\n",
            "Loading required package: parallel\n",
            "\n",
            "Loading required package: primes\n",
            "\n"
          ]
        }
      ]
    },
    {
      "cell_type": "markdown",
      "source": [
        "Aqui debe poner SU semiila primigenia"
      ],
      "metadata": {
        "id": "0MclPEJ6Q8Bp"
      }
    },
    {
      "cell_type": "code",
      "source": [
        "PARAM <- list()\n",
        "# reemplazar por su primer semilla\n",
        "PARAM$semilla_primigenia <- 100019\n",
        "PARAM$qsemillas <- 1\n",
        "\n",
        "PARAM$training_pct <- 70L  # entre  1L y 99L\n",
        "\n",
        "# elegir SU dataset comentando/ descomentando\n",
        "PARAM$dataset_nom <- \"~/datasets/dataset_pequeno.csv\""
      ],
      "metadata": {
        "id": "Vt5fC6bWHu5r"
      },
      "execution_count": 3,
      "outputs": []
    },
    {
      "cell_type": "code",
      "source": [
        "# particionar agrega una columna llamada fold a un dataset\n",
        "#  que consiste en una particion estratificada segun agrupa\n",
        "# particionar( data=dataset, division=c(70,30), agrupa=clase_ternaria, seed=semilla)\n",
        "#   crea una particion 70, 30\n",
        "\n",
        "particionar <- function(data, division, agrupa = \"\", campo = \"fold\", start = 1, seed = NA) {\n",
        "  if (!is.na(seed)) set.seed(seed)\n",
        "\n",
        "  bloque <- unlist(mapply(function(x, y) {\n",
        "    rep(y, x)\n",
        "  }, division, seq(from = start, length.out = length(division))))\n",
        "\n",
        "  data[, (campo) := sample(rep(bloque, ceiling(.N / length(bloque))))[1:.N],\n",
        "    by = agrupa\n",
        "  ]\n",
        "}\n"
      ],
      "metadata": {
        "id": "Z1dchsrWH4MD"
      },
      "execution_count": 4,
      "outputs": []
    },
    {
      "cell_type": "code",
      "source": [
        "ArbolEstimarGanancia <- function(semilla, training_pct, param_basicos) {\n",
        "  # particiono estratificadamente el dataset\n",
        "  particionar(dataset,\n",
        "    division = c(training_pct, 100L -training_pct),\n",
        "    agrupa = \"clase_ternaria\",\n",
        "    seed = semilla # aqui se usa SU semilla\n",
        "  )\n",
        "\n",
        "  # genero el modelo\n",
        "  # predecir clase_ternaria a partir del resto\n",
        "  modelo <- rpart(\"clase_ternaria ~ .\",\n",
        "    data = dataset[fold == 1], # fold==1  es training,  el 70% de los datos\n",
        "    xval = 0,\n",
        "    control = param_basicos\n",
        "  ) # aqui van los parametros del arbol\n",
        "\n",
        "  # aplico el modelo a los datos de testing\n",
        "  prediccion <- predict(modelo, # el modelo que genere recien\n",
        "    dataset[fold == 2], # fold==2  es testing, el 30% de los datos\n",
        "    type = \"prob\"\n",
        "  ) # type= \"prob\"  es que devuelva la probabilidad\n",
        "\n",
        "  # prediccion es una matriz con TRES columnas,\n",
        "  #  llamadas \"BAJA+1\", \"BAJA+2\"  y \"CONTINUA\"\n",
        "  # cada columna es el vector de probabilidades\n",
        "\n",
        "\n",
        "  # calculo la ganancia en testing  qu es fold==2\n",
        "  ganancia_test <- dataset[\n",
        "    fold == 2,\n",
        "    sum(ifelse(prediccion[, \"BAJA+2\"] > 0.025,\n",
        "      ifelse(clase_ternaria == \"BAJA+2\", 117000, -3000),\n",
        "      0\n",
        "    ))\n",
        "  ]\n",
        "\n",
        "  # escalo la ganancia como si fuera todo el dataset\n",
        "  ganancia_test_normalizada <- ganancia_test / (( 100 - PARAM$training_pct ) / 100 )\n",
        "\n",
        "  return(\n",
        "    c( list(\"semilla\" = semilla),\n",
        "      param_basicos,\n",
        "      list( \"ganancia_test\" = ganancia_test_normalizada )\n",
        "     )\n",
        "  )\n",
        "}\n"
      ],
      "metadata": {
        "id": "xsHwS1CzIA70"
      },
      "execution_count": 5,
      "outputs": []
    },
    {
      "cell_type": "code",
      "source": [
        "ArbolesMontecarlo <- function(semillas, param_basicos) {\n",
        "\n",
        "  # la funcion mcmapply  llama a la funcion ArbolEstimarGanancia\n",
        "  #  tantas veces como valores tenga el vector  PARAM$semillas\n",
        "  salida <- mcmapply(ArbolEstimarGanancia,\n",
        "    semillas, # paso el vector de semillas\n",
        "    MoreArgs = list(PARAM$training_pct, param_basicos), # aqui paso el segundo parametro\n",
        "    SIMPLIFY = FALSE,\n",
        "    mc.cores = detectCores()\n",
        "  )\n",
        "\n",
        "  return(salida)\n",
        "}\n"
      ],
      "metadata": {
        "id": "BvBVOuhqIEjD"
      },
      "execution_count": 6,
      "outputs": []
    },
    {
      "cell_type": "code",
      "source": [
        "# carpeta de trabajo\n",
        "# por fabor cambiar numero de experimento si se cambia el loop principal\n",
        "setwd(\"/content/buckets/b1/exp\")\n",
        "experimento <- \"HT2910\"\n",
        "dir.create(experimento, showWarnings=FALSE)\n",
        "setwd( paste0(\"/content/buckets/b1/exp/\", experimento ))"
      ],
      "metadata": {
        "id": "L-DOGHOjIG7G"
      },
      "execution_count": 7,
      "outputs": []
    },
    {
      "cell_type": "code",
      "source": [
        "# lectura del dataset\n",
        "dataset <- fread(\"/content/datasets/dataset_pequeno.csv\")\n",
        "\n",
        "# trabajo solo con los datos con clase, es decir 202107\n",
        "dataset <- dataset[clase_ternaria != \"\"]"
      ],
      "metadata": {
        "id": "NM-mrLWcIPo6"
      },
      "execution_count": 8,
      "outputs": []
    },
    {
      "cell_type": "code",
      "source": [
        "\n",
        "# genero numeros primos\n",
        "primos <- generate_primes(min = 100000, max = 1000000)\n",
        "set.seed(PARAM$semilla_primigenia) # inicializo\n",
        "# me quedo con PARAM$qsemillas   semillas\n",
        "PARAM$semillas <- sample(primos, PARAM$qsemillas )\n"
      ],
      "metadata": {
        "id": "tSlY0EcgIWdi"
      },
      "execution_count": 9,
      "outputs": []
    },
    {
      "cell_type": "code",
      "source": [
        "# genero la data.table donde van los resultados detallados del Grid Search\n",
        "# un registro para cada combinacion de < semilla, parametros >\n",
        "\n",
        "if(file.exists(\"gridsearch_detalle.txt\")){\n",
        "  tb_grid_search_detalle <- fread(\"gridsearch_detalle.txt\")\n",
        "}else{\n",
        "  tb_grid_search_detalle <- data.table(\n",
        "    semilla = integer(),\n",
        "    cp = numeric(),\n",
        "    maxdepth = integer(),\n",
        "   minsplit = integer(),\n",
        "    minbucket = integer(),\n",
        "    ganancia_test = numeric()\n",
        "  )\n",
        "}\n",
        "\n",
        "nrow( tb_grid_search_detalle )"
      ],
      "metadata": {
        "id": "xxCAwIKyIaTl",
        "outputId": "eae9b603-355b-46bc-a7fe-cc6d53bf42f8",
        "colab": {
          "base_uri": "https://localhost:8080/",
          "height": 34
        }
      },
      "execution_count": 10,
      "outputs": [
        {
          "output_type": "display_data",
          "data": {
            "text/html": [
              "87"
            ],
            "text/markdown": "87",
            "text/latex": "87",
            "text/plain": [
              "[1] 87"
            ]
          },
          "metadata": {}
        }
      ]
    },
    {
      "cell_type": "markdown",
      "source": [
        "Esta es la parte del código que usted debe expandir a TODOS los hiperparámetros de rpart,\n",
        "<br>ya que actualmente apenas recorre  maxdepth y  minsplit  dejando fijos  cp=-0.5  y minbucket=5"
      ],
      "metadata": {
        "id": "eAuGBNL8IkOD"
      }
    },
    {
      "cell_type": "code",
      "source": [
        "# ⚠️ OPCIONAL: Limpiar resultados anteriores si querés empezar de cero\n",
        "tb_grid_search_detalle <- data.table()\n",
        "\n",
        "# ⚠️ Eliminar archivo de resultados anterior si existe\n",
        "if (file.exists(\"gridsearch_detalle.txt\")) file.remove(\"gridsearch_detalle.txt\")\n",
        "if (file.exists(\"gridsearch_log.txt\")) file.remove(\"gridsearch_log.txt\")\n",
        "\n",
        "\n",
        "# Verifica existencia de PARAM\n",
        "if (!exists(\"PARAM\")) stop(\"⚠️ El objeto global 'PARAM' no está definido. Defínelo antes de correr este script.\")\n",
        "\n",
        "# Crear grilla de combinaciones\n",
        "grid <- expand.grid(\n",
        "  cp = c(-0.5),                     # dejamos fijo como sugirió el profesor\n",
        "  minbucket = c(1, 5, 10, 20),            # valores conservadores pero comunes\n",
        "  maxdepth = c(4, 6, 8, 10, 12, 14),         # baja, media y alta profundidad\n",
        "  minsplit = c(1000, 800, 600, 400, 200, 100, 50, 20, 10)            # uno grande y uno pequeño\n",
        ")\n",
        "\n",
        "# Inicializar tabla si no existe\n",
        "if (!exists(\"tb_grid_search_detalle\")) {\n",
        "  tb_grid_search_detalle <- data.table()\n",
        "}\n",
        "\n",
        "# Total de combinaciones\n",
        "total_iter <- nrow(grid)\n",
        "cat(\"Total de combinaciones:\", total_iter, \"\\n\")\n",
        "\n",
        "# Archivo de log\n",
        "log_file <- \"gridsearch_log.txt\"\n",
        "writeLines(paste0(\"🟢 Inicio grid search: \", Sys.time()), con = log_file)\n",
        "\n",
        "# Iteración principal\n",
        "for (i in seq_len(total_iter)) {\n",
        "  cat(\"[\", i, \"/\", total_iter, \"] Ejecutando combinación...\\n\")\n",
        "  flush.console()\n",
        "\n",
        "  # Saltear si ya se evaluó\n",
        "  if (i * PARAM$qsemillas < nrow(tb_grid_search_detalle) + 1) next\n",
        "\n",
        "  row <- grid[i, ]\n",
        "  param_basicos <- list(\n",
        "    cp        = row$cp,\n",
        "    maxdepth  = row$maxdepth,\n",
        "    minsplit  = row$minsplit,\n",
        "    minbucket = row$minbucket\n",
        "  )\n",
        "\n",
        "  # Log inicio\n",
        "  start_time <- Sys.time()\n",
        "\n",
        "  # Ejecutar con manejo de errores\n",
        "  resultado <- tryCatch({\n",
        "    ganancias <- ArbolesMontecarlo(PARAM$semillas, param_basicos)\n",
        "\n",
        "    # Acumular resultados\n",
        "    tb_grid_search_detalle <- rbindlist(\n",
        "      list(tb_grid_search_detalle, rbindlist(ganancias))\n",
        "    )\n",
        "\n",
        "    # Log fin\n",
        "    end_time <- Sys.time()\n",
        "    tiempo <- round(difftime(end_time, start_time, units = \"secs\"), 2)\n",
        "\n",
        "    log_line <- paste0(\n",
        "      \"[\", format(Sys.time(), \"%Y-%m-%d %H:%M:%S\"), \"] \",\n",
        "      \"✔ Iter \", i, \"/\", total_iter, \" | \",\n",
        "      \"cp=\", row$cp, \", minbucket=\", row$minbucket,\n",
        "      \", maxdepth=\", row$maxdepth, \", minsplit=\", row$minsplit,\n",
        "      \" | Tiempo: \", tiempo, \"s\"\n",
        "    )\n",
        "    write(log_line, file = log_file, append = TRUE)\n",
        "\n",
        "    # Guardar cada 10 iteraciones o al final\n",
        "    if (i %% 10 == 0 || i == total_iter) {\n",
        "      fwrite(tb_grid_search_detalle, file = \"gridsearch_detalle.txt\", sep = \"\\t\")\n",
        "    }\n",
        "\n",
        "  }, error = function(e) {\n",
        "    error_line <- paste0(\n",
        "      \"[\", format(Sys.time(), \"%Y-%m-%d %H:%M:%S\"), \"] \",\n",
        "      \"❌ Error en iter \", i, \"/\", total_iter, \" | \",\n",
        "      \"cp=\", row$cp, \", minbucket=\", row$minbucket,\n",
        "      \", maxdepth=\", row$maxdepth, \", minsplit=\", row$minsplit,\n",
        "      \" | Mensaje: \", e$message\n",
        "    )\n",
        "    write(error_line, file = log_file, append = TRUE)\n",
        "  })\n",
        "}\n",
        "\n",
        "cat(\"🟢 Grid search completado. Resultados guardados.\\n\")\n"
      ],
      "metadata": {
        "id": "ipLHm3STIfmb",
        "outputId": "397396a2-4c28-45b5-9ba9-ee2083c523e9",
        "colab": {
          "base_uri": "https://localhost:8080/",
          "height": 295
        }
      },
      "execution_count": 15,
      "outputs": [
        {
          "output_type": "display_data",
          "data": {
            "text/html": [
              "TRUE"
            ],
            "text/markdown": "TRUE",
            "text/latex": "TRUE",
            "text/plain": [
              "[1] TRUE"
            ]
          },
          "metadata": {}
        },
        {
          "output_type": "display_data",
          "data": {
            "text/html": [
              "TRUE"
            ],
            "text/markdown": "TRUE",
            "text/latex": "TRUE",
            "text/plain": [
              "[1] TRUE"
            ]
          },
          "metadata": {}
        },
        {
          "output_type": "stream",
          "name": "stdout",
          "text": [
            "Total de combinaciones: 12 \n",
            "[ 1 / 12 ] Ejecutando combinación...\n",
            "[ 2 / 12 ] Ejecutando combinación...\n",
            "[ 3 / 12 ] Ejecutando combinación...\n",
            "[ 4 / 12 ] Ejecutando combinación...\n",
            "[ 5 / 12 ] Ejecutando combinación...\n",
            "[ 6 / 12 ] Ejecutando combinación...\n",
            "[ 7 / 12 ] Ejecutando combinación...\n",
            "[ 8 / 12 ] Ejecutando combinación...\n",
            "[ 9 / 12 ] Ejecutando combinación...\n",
            "[ 10 / 12 ] Ejecutando combinación...\n",
            "[ 11 / 12 ] Ejecutando combinación...\n",
            "[ 12 / 12 ] Ejecutando combinación...\n",
            "🟢 Grid search completado. Resultados guardados.\n"
          ]
        }
      ]
    },
    {
      "cell_type": "code",
      "source": [
        "fwrite( tb_grid_search_detalle,\n",
        "   file = \"gridsearch_detalle.txt\",\n",
        "   sep = \"\\t\"\n",
        ")"
      ],
      "metadata": {
        "id": "WZaSqYBxiDFu"
      },
      "execution_count": 16,
      "outputs": []
    },
    {
      "cell_type": "code",
      "source": [
        "# cantidad de registros de la tabla\n",
        "nrow(tb_grid_search_detalle)"
      ],
      "metadata": {
        "id": "STp0duM-RYVJ",
        "outputId": "3a26b305-264e-4a74-f909-e1de8d48c106",
        "colab": {
          "base_uri": "https://localhost:8080/",
          "height": 34
        }
      },
      "execution_count": 17,
      "outputs": [
        {
          "output_type": "display_data",
          "data": {
            "text/html": [
              "12"
            ],
            "text/markdown": "12",
            "text/latex": "12",
            "text/plain": [
              "[1] 12"
            ]
          },
          "metadata": {}
        }
      ]
    },
    {
      "cell_type": "code",
      "source": [
        "# muestro la tabla\n",
        "tb_grid_search_detalle"
      ],
      "metadata": {
        "id": "k7fhk_H0iNez",
        "outputId": "d6dd73bb-b867-43a8-e8e5-b380e33301dd",
        "colab": {
          "base_uri": "https://localhost:8080/",
          "height": 474
        }
      },
      "execution_count": 18,
      "outputs": [
        {
          "output_type": "display_data",
          "data": {
            "text/html": [
              "<table class=\"dataframe\">\n",
              "<caption>A data.table: 12 × 6</caption>\n",
              "<thead>\n",
              "\t<tr><th scope=col>semilla</th><th scope=col>cp</th><th scope=col>maxdepth</th><th scope=col>minsplit</th><th scope=col>minbucket</th><th scope=col>ganancia_test</th></tr>\n",
              "\t<tr><th scope=col>&lt;int&gt;</th><th scope=col>&lt;dbl&gt;</th><th scope=col>&lt;dbl&gt;</th><th scope=col>&lt;dbl&gt;</th><th scope=col>&lt;dbl&gt;</th><th scope=col>&lt;dbl&gt;</th></tr>\n",
              "</thead>\n",
              "<tbody>\n",
              "\t<tr><td>912523</td><td>-0.5</td><td> 6</td><td>100</td><td> 5</td><td>46980000</td></tr>\n",
              "\t<tr><td>912523</td><td>-0.5</td><td> 6</td><td>100</td><td>10</td><td>47690000</td></tr>\n",
              "\t<tr><td>912523</td><td>-0.5</td><td>10</td><td>100</td><td> 5</td><td>46460000</td></tr>\n",
              "\t<tr><td>912523</td><td>-0.5</td><td>10</td><td>100</td><td>10</td><td>46090000</td></tr>\n",
              "\t<tr><td>912523</td><td>-0.5</td><td>14</td><td>100</td><td> 5</td><td>43920000</td></tr>\n",
              "\t<tr><td>912523</td><td>-0.5</td><td>14</td><td>100</td><td>10</td><td>42020000</td></tr>\n",
              "\t<tr><td>912523</td><td>-0.5</td><td> 6</td><td> 20</td><td> 5</td><td>46440000</td></tr>\n",
              "\t<tr><td>912523</td><td>-0.5</td><td> 6</td><td> 20</td><td>10</td><td>47170000</td></tr>\n",
              "\t<tr><td>912523</td><td>-0.5</td><td>10</td><td> 20</td><td> 5</td><td>44460000</td></tr>\n",
              "\t<tr><td>912523</td><td>-0.5</td><td>10</td><td> 20</td><td>10</td><td>43890000</td></tr>\n",
              "\t<tr><td>912523</td><td>-0.5</td><td>14</td><td> 20</td><td> 5</td><td>35840000</td></tr>\n",
              "\t<tr><td>912523</td><td>-0.5</td><td>14</td><td> 20</td><td>10</td><td>38270000</td></tr>\n",
              "</tbody>\n",
              "</table>\n"
            ],
            "text/markdown": "\nA data.table: 12 × 6\n\n| semilla &lt;int&gt; | cp &lt;dbl&gt; | maxdepth &lt;dbl&gt; | minsplit &lt;dbl&gt; | minbucket &lt;dbl&gt; | ganancia_test &lt;dbl&gt; |\n|---|---|---|---|---|---|\n| 912523 | -0.5 |  6 | 100 |  5 | 46980000 |\n| 912523 | -0.5 |  6 | 100 | 10 | 47690000 |\n| 912523 | -0.5 | 10 | 100 |  5 | 46460000 |\n| 912523 | -0.5 | 10 | 100 | 10 | 46090000 |\n| 912523 | -0.5 | 14 | 100 |  5 | 43920000 |\n| 912523 | -0.5 | 14 | 100 | 10 | 42020000 |\n| 912523 | -0.5 |  6 |  20 |  5 | 46440000 |\n| 912523 | -0.5 |  6 |  20 | 10 | 47170000 |\n| 912523 | -0.5 | 10 |  20 |  5 | 44460000 |\n| 912523 | -0.5 | 10 |  20 | 10 | 43890000 |\n| 912523 | -0.5 | 14 |  20 |  5 | 35840000 |\n| 912523 | -0.5 | 14 |  20 | 10 | 38270000 |\n\n",
            "text/latex": "A data.table: 12 × 6\n\\begin{tabular}{llllll}\n semilla & cp & maxdepth & minsplit & minbucket & ganancia\\_test\\\\\n <int> & <dbl> & <dbl> & <dbl> & <dbl> & <dbl>\\\\\n\\hline\n\t 912523 & -0.5 &  6 & 100 &  5 & 46980000\\\\\n\t 912523 & -0.5 &  6 & 100 & 10 & 47690000\\\\\n\t 912523 & -0.5 & 10 & 100 &  5 & 46460000\\\\\n\t 912523 & -0.5 & 10 & 100 & 10 & 46090000\\\\\n\t 912523 & -0.5 & 14 & 100 &  5 & 43920000\\\\\n\t 912523 & -0.5 & 14 & 100 & 10 & 42020000\\\\\n\t 912523 & -0.5 &  6 &  20 &  5 & 46440000\\\\\n\t 912523 & -0.5 &  6 &  20 & 10 & 47170000\\\\\n\t 912523 & -0.5 & 10 &  20 &  5 & 44460000\\\\\n\t 912523 & -0.5 & 10 &  20 & 10 & 43890000\\\\\n\t 912523 & -0.5 & 14 &  20 &  5 & 35840000\\\\\n\t 912523 & -0.5 & 14 &  20 & 10 & 38270000\\\\\n\\end{tabular}\n",
            "text/plain": [
              "   semilla cp   maxdepth minsplit minbucket ganancia_test\n",
              "1  912523  -0.5  6       100       5        46980000     \n",
              "2  912523  -0.5  6       100      10        47690000     \n",
              "3  912523  -0.5 10       100       5        46460000     \n",
              "4  912523  -0.5 10       100      10        46090000     \n",
              "5  912523  -0.5 14       100       5        43920000     \n",
              "6  912523  -0.5 14       100      10        42020000     \n",
              "7  912523  -0.5  6        20       5        46440000     \n",
              "8  912523  -0.5  6        20      10        47170000     \n",
              "9  912523  -0.5 10        20       5        44460000     \n",
              "10 912523  -0.5 10        20      10        43890000     \n",
              "11 912523  -0.5 14        20       5        35840000     \n",
              "12 912523  -0.5 14        20      10        38270000     "
            ]
          },
          "metadata": {}
        }
      ]
    },
    {
      "cell_type": "code",
      "source": [
        "# genero y grabo el resumen\n",
        "tb_grid_search <- tb_grid_search_detalle[,\n",
        "  list( \"ganancia_mean\" = mean(ganancia_test),\n",
        "    \"qty\" = .N ),\n",
        "  list( cp, maxdepth, minsplit, minbucket )\n",
        "]\n"
      ],
      "metadata": {
        "id": "DjCxtx8bIsgl"
      },
      "execution_count": 19,
      "outputs": []
    },
    {
      "cell_type": "code",
      "source": [
        "# ordeno descendente por ganancia\n",
        "setorder( tb_grid_search, -ganancia_mean )\n"
      ],
      "metadata": {
        "id": "LU29UhL1Ivg5"
      },
      "execution_count": 20,
      "outputs": []
    },
    {
      "cell_type": "code",
      "source": [
        "# veo los 10 mejores hiperparámetros\n",
        "tb_grid_search[1:10]"
      ],
      "metadata": {
        "id": "g-EjGY7aIyWL",
        "outputId": "41fd922d-7f4c-48a3-c59f-4e44e7fba1a6",
        "colab": {
          "base_uri": "https://localhost:8080/",
          "height": 412
        }
      },
      "execution_count": 21,
      "outputs": [
        {
          "output_type": "display_data",
          "data": {
            "text/html": [
              "<table class=\"dataframe\">\n",
              "<caption>A data.table: 10 × 6</caption>\n",
              "<thead>\n",
              "\t<tr><th scope=col>cp</th><th scope=col>maxdepth</th><th scope=col>minsplit</th><th scope=col>minbucket</th><th scope=col>ganancia_mean</th><th scope=col>qty</th></tr>\n",
              "\t<tr><th scope=col>&lt;dbl&gt;</th><th scope=col>&lt;dbl&gt;</th><th scope=col>&lt;dbl&gt;</th><th scope=col>&lt;dbl&gt;</th><th scope=col>&lt;dbl&gt;</th><th scope=col>&lt;int&gt;</th></tr>\n",
              "</thead>\n",
              "<tbody>\n",
              "\t<tr><td>-0.5</td><td> 6</td><td>100</td><td>10</td><td>47690000</td><td>1</td></tr>\n",
              "\t<tr><td>-0.5</td><td> 6</td><td> 20</td><td>10</td><td>47170000</td><td>1</td></tr>\n",
              "\t<tr><td>-0.5</td><td> 6</td><td>100</td><td> 5</td><td>46980000</td><td>1</td></tr>\n",
              "\t<tr><td>-0.5</td><td>10</td><td>100</td><td> 5</td><td>46460000</td><td>1</td></tr>\n",
              "\t<tr><td>-0.5</td><td> 6</td><td> 20</td><td> 5</td><td>46440000</td><td>1</td></tr>\n",
              "\t<tr><td>-0.5</td><td>10</td><td>100</td><td>10</td><td>46090000</td><td>1</td></tr>\n",
              "\t<tr><td>-0.5</td><td>10</td><td> 20</td><td> 5</td><td>44460000</td><td>1</td></tr>\n",
              "\t<tr><td>-0.5</td><td>14</td><td>100</td><td> 5</td><td>43920000</td><td>1</td></tr>\n",
              "\t<tr><td>-0.5</td><td>10</td><td> 20</td><td>10</td><td>43890000</td><td>1</td></tr>\n",
              "\t<tr><td>-0.5</td><td>14</td><td>100</td><td>10</td><td>42020000</td><td>1</td></tr>\n",
              "</tbody>\n",
              "</table>\n"
            ],
            "text/markdown": "\nA data.table: 10 × 6\n\n| cp &lt;dbl&gt; | maxdepth &lt;dbl&gt; | minsplit &lt;dbl&gt; | minbucket &lt;dbl&gt; | ganancia_mean &lt;dbl&gt; | qty &lt;int&gt; |\n|---|---|---|---|---|---|\n| -0.5 |  6 | 100 | 10 | 47690000 | 1 |\n| -0.5 |  6 |  20 | 10 | 47170000 | 1 |\n| -0.5 |  6 | 100 |  5 | 46980000 | 1 |\n| -0.5 | 10 | 100 |  5 | 46460000 | 1 |\n| -0.5 |  6 |  20 |  5 | 46440000 | 1 |\n| -0.5 | 10 | 100 | 10 | 46090000 | 1 |\n| -0.5 | 10 |  20 |  5 | 44460000 | 1 |\n| -0.5 | 14 | 100 |  5 | 43920000 | 1 |\n| -0.5 | 10 |  20 | 10 | 43890000 | 1 |\n| -0.5 | 14 | 100 | 10 | 42020000 | 1 |\n\n",
            "text/latex": "A data.table: 10 × 6\n\\begin{tabular}{llllll}\n cp & maxdepth & minsplit & minbucket & ganancia\\_mean & qty\\\\\n <dbl> & <dbl> & <dbl> & <dbl> & <dbl> & <int>\\\\\n\\hline\n\t -0.5 &  6 & 100 & 10 & 47690000 & 1\\\\\n\t -0.5 &  6 &  20 & 10 & 47170000 & 1\\\\\n\t -0.5 &  6 & 100 &  5 & 46980000 & 1\\\\\n\t -0.5 & 10 & 100 &  5 & 46460000 & 1\\\\\n\t -0.5 &  6 &  20 &  5 & 46440000 & 1\\\\\n\t -0.5 & 10 & 100 & 10 & 46090000 & 1\\\\\n\t -0.5 & 10 &  20 &  5 & 44460000 & 1\\\\\n\t -0.5 & 14 & 100 &  5 & 43920000 & 1\\\\\n\t -0.5 & 10 &  20 & 10 & 43890000 & 1\\\\\n\t -0.5 & 14 & 100 & 10 & 42020000 & 1\\\\\n\\end{tabular}\n",
            "text/plain": [
              "   cp   maxdepth minsplit minbucket ganancia_mean qty\n",
              "1  -0.5  6       100      10        47690000      1  \n",
              "2  -0.5  6        20      10        47170000      1  \n",
              "3  -0.5  6       100       5        46980000      1  \n",
              "4  -0.5 10       100       5        46460000      1  \n",
              "5  -0.5  6        20       5        46440000      1  \n",
              "6  -0.5 10       100      10        46090000      1  \n",
              "7  -0.5 10        20       5        44460000      1  \n",
              "8  -0.5 14       100       5        43920000      1  \n",
              "9  -0.5 10        20      10        43890000      1  \n",
              "10 -0.5 14       100      10        42020000      1  "
            ]
          },
          "metadata": {}
        }
      ]
    },
    {
      "cell_type": "code",
      "source": [
        "# genero un id a la tabla\n",
        "tb_grid_search[, id := .I ]\n",
        "\n",
        "fwrite( tb_grid_search,\n",
        "  file = \"gridsearch.txt\",\n",
        "  sep = \"\\t\"\n",
        ")\n"
      ],
      "metadata": {
        "id": "K3S-I2PTI5ZE"
      },
      "execution_count": 22,
      "outputs": []
    },
    {
      "cell_type": "markdown",
      "source": [
        "# 4.  Análisis de resultados de Grid Search"
      ],
      "metadata": {
        "id": "1rYHk1YkI_9k"
      }
    },
    {
      "cell_type": "code",
      "source": [
        "library(data.table)\n",
        "library(ggplot2)\n",
        "library(dplyr)\n",
        "\n",
        "# La tabla tb_grid_search ya contiene las ganancias medias\n",
        "# Si necesitas cargarla desde archivo, usa esta ruta:\n",
        "# ruta_archivo <- \"/content/buckets/b1/exp/HT2910/gridsearch.txt\"\n",
        "# df <- fread(ruta_archivo)\n",
        "\n",
        "# Usamos la tabla tb_grid_search que ya está en memoria\n",
        "df <- tb_grid_search\n",
        "\n",
        "# Ver las primeras filas\n",
        "print(head(df))\n",
        "\n",
        "# Ordenar por ganancia promedio descendente\n",
        "top_ganancias <- df %>%\n",
        "  arrange(desc(ganancia_mean))\n",
        "\n",
        "# Ver las mejores combinaciones\n",
        "print(head(top_ganancias, 10))\n",
        "\n",
        "# ¿Algún valor de hiperparámetro que SIEMPRE da mal?\n",
        "df %>%\n",
        "  group_by(cp) %>%\n",
        "  summarise(\n",
        "    media_ganancia = mean(ganancia_mean, na.rm = TRUE),\n",
        "    min_ganancia = min(ganancia_mean, na.rm = TRUE),\n",
        "    max_ganancia = max(ganancia_mean, na.rm = TRUE)\n",
        "  ) %>%\n",
        "  arrange(media_ganancia) %>%\n",
        "  print()\n",
        "\n",
        "df %>%\n",
        "  group_by(maxdepth) %>%\n",
        "  summarise(\n",
        "    media_ganancia = mean(ganancia_mean, na.rm = TRUE),\n",
        "    min_ganancia = min(ganancia_mean, na.rm = TRUE),\n",
        "    max_ganancia = max(ganancia_mean, na.rm = TRUE)\n",
        "  ) %>%\n",
        "  arrange(media_ganancia) %>%\n",
        "  print()\n",
        "\n",
        "df %>%\n",
        "  group_by(minsplit) %>%\n",
        "  summarise(\n",
        "    media_ganancia = mean(ganancia_mean, na.rm = TRUE),\n",
        "    min_ganancia = min(ganancia_mean, na.rm = TRUE),\n",
        "    max_ganancia = max(ganancia_mean, na.rm = TRUE)\n",
        "  ) %>%\n",
        "  arrange(media_ganancia) %>%\n",
        "  print()\n",
        "\n",
        "df %>%\n",
        "  group_by(minbucket) %>%\n",
        "  summarise(\n",
        "    media_ganancia = mean(ganancia_mean, na.rm = TRUE),\n",
        "    min_ganancia = min(ganancia_mean, na.rm = TRUE),\n",
        "    max_ganancia = max(ganancia_mean, na.rm = TRUE)\n",
        "  ) %>%\n",
        "  arrange(media_ganancia) %>%\n",
        "  print()\n",
        "\n",
        "\n",
        "# Combinaciones MUY malas: por debajo del percentil 10\n",
        "umbral_pesimo <- quantile(df$ganancia_mean, 0.10, na.rm = TRUE)\n",
        "combinaciones_pesimas <- df %>% filter(ganancia_mean <= umbral_pesimo)\n",
        "\n",
        "# Mostrar\n",
        "print(\"Combinaciones pésimas (por debajo del percentil 10):\")\n",
        "print(combinaciones_pesimas)"
      ],
      "metadata": {
        "id": "f_qjcHntqLjd",
        "outputId": "d8dddc8f-729b-4364-b20a-a77e29b29732",
        "colab": {
          "base_uri": "https://localhost:8080/"
        }
      },
      "execution_count": 26,
      "outputs": [
        {
          "output_type": "stream",
          "name": "stdout",
          "text": [
            "      cp maxdepth minsplit minbucket ganancia_mean   qty    id\n",
            "   <num>    <num>    <num>     <num>         <num> <int> <int>\n",
            "1:  -0.5        6      100        10      47690000     1     1\n",
            "2:  -0.5        6       20        10      47170000     1     2\n",
            "3:  -0.5        6      100         5      46980000     1     3\n",
            "4:  -0.5       10      100         5      46460000     1     4\n",
            "5:  -0.5        6       20         5      46440000     1     5\n",
            "6:  -0.5       10      100        10      46090000     1     6\n",
            "       cp maxdepth minsplit minbucket ganancia_mean   qty    id\n",
            "    <num>    <num>    <num>     <num>         <num> <int> <int>\n",
            " 1:  -0.5        6      100        10      47690000     1     1\n",
            " 2:  -0.5        6       20        10      47170000     1     2\n",
            " 3:  -0.5        6      100         5      46980000     1     3\n",
            " 4:  -0.5       10      100         5      46460000     1     4\n",
            " 5:  -0.5        6       20         5      46440000     1     5\n",
            " 6:  -0.5       10      100        10      46090000     1     6\n",
            " 7:  -0.5       10       20         5      44460000     1     7\n",
            " 8:  -0.5       14      100         5      43920000     1     8\n",
            " 9:  -0.5       10       20        10      43890000     1     9\n",
            "10:  -0.5       14      100        10      42020000     1    10\n",
            "\u001b[90m# A tibble: 1 × 4\u001b[39m\n",
            "     cp media_ganancia min_ganancia max_ganancia\n",
            "  \u001b[3m\u001b[90m<dbl>\u001b[39m\u001b[23m          \u001b[3m\u001b[90m<dbl>\u001b[39m\u001b[23m        \u001b[3m\u001b[90m<dbl>\u001b[39m\u001b[23m        \u001b[3m\u001b[90m<dbl>\u001b[39m\u001b[23m\n",
            "\u001b[90m1\u001b[39m  -\u001b[31m0\u001b[39m\u001b[31m.\u001b[39m\u001b[31m5\u001b[39m       44\u001b[4m1\u001b[24m\u001b[4m0\u001b[24m\u001b[4m2\u001b[24m500     35\u001b[4m8\u001b[24m\u001b[4m4\u001b[24m\u001b[4m0\u001b[24m000     47\u001b[4m6\u001b[24m\u001b[4m9\u001b[24m\u001b[4m0\u001b[24m000\n",
            "\u001b[90m# A tibble: 3 × 4\u001b[39m\n",
            "  maxdepth media_ganancia min_ganancia max_ganancia\n",
            "     \u001b[3m\u001b[90m<dbl>\u001b[39m\u001b[23m          \u001b[3m\u001b[90m<dbl>\u001b[39m\u001b[23m        \u001b[3m\u001b[90m<dbl>\u001b[39m\u001b[23m        \u001b[3m\u001b[90m<dbl>\u001b[39m\u001b[23m\n",
            "\u001b[90m1\u001b[39m       14       40\u001b[4m0\u001b[24m\u001b[4m1\u001b[24m\u001b[4m2\u001b[24m500     35\u001b[4m8\u001b[24m\u001b[4m4\u001b[24m\u001b[4m0\u001b[24m000     43\u001b[4m9\u001b[24m\u001b[4m2\u001b[24m\u001b[4m0\u001b[24m000\n",
            "\u001b[90m2\u001b[39m       10       45\u001b[4m2\u001b[24m\u001b[4m2\u001b[24m\u001b[4m5\u001b[24m000     43\u001b[4m8\u001b[24m\u001b[4m9\u001b[24m\u001b[4m0\u001b[24m000     46\u001b[4m4\u001b[24m\u001b[4m6\u001b[24m\u001b[4m0\u001b[24m000\n",
            "\u001b[90m3\u001b[39m        6       47\u001b[4m0\u001b[24m\u001b[4m7\u001b[24m\u001b[4m0\u001b[24m000     46\u001b[4m4\u001b[24m\u001b[4m4\u001b[24m\u001b[4m0\u001b[24m000     47\u001b[4m6\u001b[24m\u001b[4m9\u001b[24m\u001b[4m0\u001b[24m000\n",
            "\u001b[90m# A tibble: 2 × 4\u001b[39m\n",
            "  minsplit media_ganancia min_ganancia max_ganancia\n",
            "     \u001b[3m\u001b[90m<dbl>\u001b[39m\u001b[23m          \u001b[3m\u001b[90m<dbl>\u001b[39m\u001b[23m        \u001b[3m\u001b[90m<dbl>\u001b[39m\u001b[23m        \u001b[3m\u001b[90m<dbl>\u001b[39m\u001b[23m\n",
            "\u001b[90m1\u001b[39m       20      42\u001b[4m6\u001b[24m\u001b[4m7\u001b[24m\u001b[4m8\u001b[24m333.     35\u001b[4m8\u001b[24m\u001b[4m4\u001b[24m\u001b[4m0\u001b[24m000     47\u001b[4m1\u001b[24m\u001b[4m7\u001b[24m\u001b[4m0\u001b[24m000\n",
            "\u001b[90m2\u001b[39m      100      45\u001b[4m5\u001b[24m\u001b[4m2\u001b[24m\u001b[4m6\u001b[24m667.     42\u001b[4m0\u001b[24m\u001b[4m2\u001b[24m\u001b[4m0\u001b[24m000     47\u001b[4m6\u001b[24m\u001b[4m9\u001b[24m\u001b[4m0\u001b[24m000\n",
            "\u001b[90m# A tibble: 2 × 4\u001b[39m\n",
            "  minbucket media_ganancia min_ganancia max_ganancia\n",
            "      \u001b[3m\u001b[90m<dbl>\u001b[39m\u001b[23m          \u001b[3m\u001b[90m<dbl>\u001b[39m\u001b[23m        \u001b[3m\u001b[90m<dbl>\u001b[39m\u001b[23m        \u001b[3m\u001b[90m<dbl>\u001b[39m\u001b[23m\n",
            "\u001b[90m1\u001b[39m         5      44\u001b[4m0\u001b[24m\u001b[4m1\u001b[24m\u001b[4m6\u001b[24m667.     35\u001b[4m8\u001b[24m\u001b[4m4\u001b[24m\u001b[4m0\u001b[24m000     46\u001b[4m9\u001b[24m\u001b[4m8\u001b[24m\u001b[4m0\u001b[24m000\n",
            "\u001b[90m2\u001b[39m        10      44\u001b[4m1\u001b[24m\u001b[4m8\u001b[24m\u001b[4m8\u001b[24m333.     38\u001b[4m2\u001b[24m\u001b[4m7\u001b[24m\u001b[4m0\u001b[24m000     47\u001b[4m6\u001b[24m\u001b[4m9\u001b[24m\u001b[4m0\u001b[24m000\n",
            "[1] \"Combinaciones pésimas (por debajo del percentil 10):\"\n",
            "      cp maxdepth minsplit minbucket ganancia_mean   qty    id\n",
            "   <num>    <num>    <num>     <num>         <num> <int> <int>\n",
            "1:  -0.5       14       20        10      38270000     1    11\n",
            "2:  -0.5       14       20         5      35840000     1    12\n"
          ]
        }
      ]
    },
    {
      "cell_type": "markdown",
      "source": [
        "La salida de la corrida anterior queda en ~/buckets/b1/exp/HT2900  que corresponde a su Google Drive\n",
        "<br>HT significa Hyperparameter Tuning\n",
        "<br>El Grid Search es un método de fuerza bruta de un altísimo costo computacional.\n",
        "<br>Queremos ver si es posible crear un algoritmo de optimización de hiperparámetros que se ahorre recorrer ciertas porciones muy malas del espacio de búsqueda. Algo del estilo “cada vez que pruebo una combinación de hiperparámetros donde  cp > 1 , la ganancia es muy mala, con lo cual ni vale la pena perder el tiempo explorando en esa region”\n"
      ],
      "metadata": {
        "id": "ZTJgPhMWJHTk"
      }
    },
    {
      "cell_type": "markdown",
      "source": [
        "<br>Levante el archivo de salida gridsearch.txt  a una planilla tipo Excel y analícelo detenidamente\n",
        "<br>Ordene por ganancia_mean descendente\n",
        "<br>\n",
        "<br>El de mayor ganancia_mean  decimos que es el primero del ranking\n",
        "En el channel  #Labo1R-Tarea Hogar 02 , topic Analisis Grid Search   intente contestar estas preguntas:\n",
        "\n",
        "* ¿Qué combinaciones de hiperparámetros poseen una ganancia muy buena?\n",
        "* ¿Hay algun hiperparámetro que para cierto valor siempre genera una ganancia muy mala, a independientemente de lo que valgan los otros hiperparámetros ?\n",
        "* ¿Que combinaciones de hiperparámetros es pésima y hubiera sido bueno ahorrarse esas corridas ?\n",
        "\n",
        "( tiempo estimado 30 minutos, dificultad media )"
      ],
      "metadata": {
        "id": "IaVgMu4tPwyB"
      }
    }
  ]
}