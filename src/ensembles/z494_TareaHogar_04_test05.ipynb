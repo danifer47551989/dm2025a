{
 "cells": [
  {
   "cell_type": "markdown",
   "metadata": {
    "id": "0cEmzeUKFkPh"
   },
   "source": [
    "# Tarea para el Hogar 04"
   ]
  },
  {
   "cell_type": "markdown",
   "metadata": {
    "id": "nSICPpyTGQmC"
   },
   "source": [
    "Esta Tarea para el Hogar 02 se entrega el final de la cuarta clase\n",
    "<br> se espera de usted que intente avanzar con los desafios propuestos y que los traiga terminados para la Clase 05 que será el viernes 01-agosto"
   ]
  },
  {
   "cell_type": "markdown",
   "metadata": {
    "id": "DenyKXkiJ5JN"
   },
   "source": [
    "##  1. Cazatalentos"
   ]
  },
  {
   "cell_type": "markdown",
   "metadata": {
    "id": "l-K2_ZsZGrVD"
   },
   "source": [
    "En la Clase 03 nos hemos enfrentado a  \"La Maldicion del Ganandor\",  elegir el modelo con el mejor puntaje simple no suele ser la mejor estrategia.\n",
    "<br> Lea y ejecute el notebook  **src/CazaTalentos/CazaTalentos.ipynb**\n",
    "<br> en caso de interesarle, participe del Desafío Ordenamiento  que vence el sábado 02 de agosto a las 19:00"
   ]
  },
  {
   "cell_type": "markdown",
   "metadata": {
    "id": "K9GkTOk5J9t3"
   },
   "source": [
    "## 2. Hiperparámetros del LightGBM"
   ]
  },
  {
   "cell_type": "markdown",
   "metadata": {
    "id": "VmEFy0ukKL5T"
   },
   "source": [
    "Los objetivos de esta tarea son:\n",
    "\n",
    "\n",
    "*   Aumentar la rentabilidad de la campaña de marketing de retención proactiva de clientes.\n",
    "*   Generar un mejor modelo optimizando sus hiperparámetros\n",
    "*   Conceptual : investigar los mas relevantes hiperparámetros de LightGBM\n",
    "*   Familiarizarse con la Bayesian Optimization, sus largos tiempos de corrida y opciones para reducirlos\n",
    "*   Familiarizarse con el uso de máquinas virtuales de Google Colab\n",
    "*   Ver un pipeline completo de optimización de hiperparámetros y puesta en producción"
   ]
  },
  {
   "cell_type": "markdown",
   "metadata": {
    "id": "5yvlS6JQLRMd"
   },
   "source": [
    "LightGBM cuenta con mas de 60 hiperparámetros, siendo posible utilizar 40 al mismo tiempo, aunque no razonable.\n",
    "<br> La documentación oficial de los hiperparámetros de LightGBM es  https://lightgbm.readthedocs.io/en/latest/Parameters.html#core-parameters\n"
   ]
  },
  {
   "cell_type": "markdown",
   "metadata": {
    "id": "eydI4YNAsFaf"
   },
   "source": [
    "Se lo alerta sobre que una Optimizacion Bayesiana lleva varias horas de corrida, y usted deberá correr VARIAS optimizaciones para descubrir cuales parámetros conviene optimizar.\n",
    "<br> A pesar que la próxima clase es recien en viernes 01 de agosto, inicie la tarea con tiempo, aprenda a planificar estratégicamente sus corridas como un@ científ@  de datos."
   ]
  },
  {
   "cell_type": "markdown",
   "metadata": {
    "id": "RzU4S0SeMcpp"
   },
   "source": [
    "Es necesario investigar cuales son los hiperparámetros de LightGBM que vale la pena optimizar en una Bayesian Optimization, ya que los realmente utiles son apenas un reducido subconjunto.\n",
    "<br>Usted deberá investigar cuales son los hiperparámetros mas relevantes de LightGBM, su primer alternativa es preguntándole a su amigo con capacidades especiales ChatGPT o sus endogámicos familiares Claude, DeepSeek, Gemini, Grok, etc\n",
    "<br> La segunda alternativa es la propia documentación de LightGBM  https://lightgbm.readthedocs.io/en/latest/Parameters-Tuning.html\n"
   ]
  },
  {
   "cell_type": "markdown",
   "metadata": {
    "id": "LNptUgI_NWWG"
   },
   "source": [
    "Adicionalmente podra buscar información como la que proveen esta diminuta muestra aleatoria de artículos ligeros:\n",
    "*  https://medium.com/@sarahzouinina/a-deep-dive-into-lightgbm-how-to-choose-and-tune-parameters-7c584945842e\n",
    "*  https://www.kaggle.com/code/somang1418/tuning-hyperparameters-under-10-minutes-lgbm\n",
    "*  https://towardsdatascience.com/beginners-guide-to-the-must-know-lightgbm-hyperparameters-a0005a812702/\n",
    "\n",
    "\n",
    "<br>  La muestra anterior se brinda a modo de ejemplo, usted deberá buscar muuuuchas  fuentes adicionales de información\n",
    "<br> Tenga presente que LightGBM es el estado del arte en modelado predictivo para datasets estructurado, que son el 90% del trabajo del 95% de los Data Scientists en Argentina."
   ]
  },
  {
   "cell_type": "markdown",
   "metadata": {
    "id": "WpUThBojODyK"
   },
   "source": [
    "El desafío de esta tarea es:\n",
    "* Qué hiperparparámetros conviene optimizar?  Las recomendaciones de los artículos ligeros es siempre sensata?  Sus autores realmente hicieron experimentos o son siemplemente escritores de entretenimiento carente de base científica?\n",
    "* Elegidos los hiperparámetros, cual es el  <desde, hasta> que se debe utilizar en la Bayesian Optimization ?\n",
    "* Realmente vale la pena optimizar 10 o 16 hiperparámetros al mismo tiempo ?  No resulta contraproducente una búsqueda en un espacio de tal alta dimensionalidad ?"
   ]
  },
  {
   "cell_type": "markdown",
   "metadata": {
    "id": "PX0qg_c0yqob"
   },
   "source": [
    "#### 2.1  Seteo del ambiente en Google Colab"
   ]
  },
  {
   "cell_type": "markdown",
   "metadata": {
    "id": "NGY7H9xza7Zr"
   },
   "source": [
    "Esta parte se debe correr con el runtime en Python3\n",
    "<br>Ir al menu, Runtime -> Change Runtime Type -> Runtime type ->  **Python 3**"
   ]
  },
  {
   "cell_type": "markdown",
   "metadata": {
    "id": "7PupIBNba7Zr"
   },
   "source": [
    "Conectar la virtual machine donde esta corriendo Google Colab con el  Google Drive, para poder tener persistencia de archivos"
   ]
  },
  {
   "cell_type": "code",
   "execution_count": null,
   "metadata": {
    "id": "9LpZCst5a7Zs"
   },
   "outputs": [],
   "source": [
    "# primero establecer el Runtime de Python 3\n",
    "from google.colab import drive\n",
    "drive.mount('/content/.drive')"
   ]
  },
  {
   "cell_type": "markdown",
   "metadata": {
    "id": "JYC_F-wla7Zs"
   },
   "source": [
    "Para correr la siguiente celda es fundamental en Arranque en Frio haber copiado el archivo kaggle.json al Google Drive, en la carpeta indicada en el instructivo\n",
    "\n",
    "<br>los siguientes comando estan en shell script de Linux\n",
    "*   Crear las carpetas en el Google Drive\n",
    "*   \"instalar\" el archivo kaggle.json desde el Google Drive a la virtual machine para que pueda ser utilizado por la libreria  kaggle de Python\n",
    "*   Bajar el  **dataset_pequeno**  al  Google Drive  y tambien al disco local de la virtual machine que esta corriendo Google Colab\n",
    "\n"
   ]
  },
  {
   "cell_type": "code",
   "execution_count": null,
   "metadata": {
    "id": "XWLelftXa7Zt"
   },
   "outputs": [],
   "source": [
    "%%shell\n",
    "\n",
    "mkdir -p \"/content/.drive/My Drive/dm\"\n",
    "mkdir -p \"/content/buckets\"\n",
    "ln -s \"/content/.drive/My Drive/dm\" /content/buckets/b1\n",
    "\n",
    "mkdir -p ~/.kaggle\n",
    "cp /content/buckets/b1/kaggle/kaggle.json  ~/.kaggle\n",
    "chmod 600 ~/.kaggle/kaggle.json\n",
    "\n",
    "\n",
    "mkdir -p /content/buckets/b1/exp\n",
    "mkdir -p /content/buckets/b1/datasets\n",
    "mkdir -p /content/datasets\n",
    "\n",
    "\n",
    "\n",
    "archivo_origen=\"https://storage.googleapis.com/open-courses/itba2025-8d0a/dataset_pequeno.csv\"\n",
    "archivo_destino=\"/content/datasets/dataset_pequeno.csv\"\n",
    "archivo_destino_bucket=\"/content/buckets/b1/datasets/dataset_pequeno.csv\"\n",
    "\n",
    "if ! test -f $archivo_destino_bucket; then\n",
    "  wget  $archivo_origen  -O $archivo_destino_bucket\n",
    "fi\n",
    "\n",
    "\n",
    "if ! test -f $archivo_destino; then\n",
    "  cp  $archivo_destino_bucket  $archivo_destino\n",
    "fi\n"
   ]
  },
  {
   "cell_type": "markdown",
   "metadata": {
    "id": "oSKhZRToy2F7"
   },
   "source": [
    "### 2.2 Optimizacion Hiperparámetros"
   ]
  },
  {
   "cell_type": "markdown",
   "metadata": {
    "id": "2kwPpHAtSmix"
   },
   "source": [
    "Esta parte se debe correr con el runtime en lenguaje R Ir al menu, Runtime -> Change Runtime Type -> Runtime type -> R"
   ]
  },
  {
   "cell_type": "markdown",
   "metadata": {
    "id": "xp4-Bj3aYI8d"
   },
   "source": [
    "### 2.2.1 Inicio"
   ]
  },
  {
   "cell_type": "markdown",
   "metadata": {
    "id": "zy8YTZfESxeJ"
   },
   "source": [
    "limpio el ambiente de R"
   ]
  },
  {
   "cell_type": "code",
   "execution_count": 111,
   "metadata": {
    "id": "gBq__iAdQliq"
   },
   "outputs": [
    {
     "data": {
      "text/html": [
       "'Thu Jul 31 15:02:49 2025'"
      ],
      "text/latex": [
       "'Thu Jul 31 15:02:49 2025'"
      ],
      "text/markdown": [
       "'Thu Jul 31 15:02:49 2025'"
      ],
      "text/plain": [
       "[1] \"Thu Jul 31 15:02:49 2025\""
      ]
     },
     "metadata": {},
     "output_type": "display_data"
    }
   ],
   "source": [
    "format(Sys.time(), \"%a %b %d %X %Y\")"
   ]
  },
  {
   "cell_type": "code",
   "execution_count": 112,
   "metadata": {
    "id": "7rdVrBojS1IV"
   },
   "outputs": [
    {
     "data": {
      "text/html": [
       "<table class=\"dataframe\">\n",
       "<caption>A matrix: 2 × 6 of type dbl</caption>\n",
       "<thead>\n",
       "\t<tr><th></th><th scope=col>used</th><th scope=col>(Mb)</th><th scope=col>gc trigger</th><th scope=col>(Mb)</th><th scope=col>max used</th><th scope=col>(Mb)</th></tr>\n",
       "</thead>\n",
       "<tbody>\n",
       "\t<tr><th scope=row>Ncells</th><td> 2397563</td><td>128.1</td><td>  7542764</td><td> 402.9</td><td>  7542764</td><td> 402.9</td></tr>\n",
       "\t<tr><th scope=row>Vcells</th><td>17897174</td><td>136.6</td><td>146179864</td><td>1115.3</td><td>190210232</td><td>1451.2</td></tr>\n",
       "</tbody>\n",
       "</table>\n"
      ],
      "text/latex": [
       "A matrix: 2 × 6 of type dbl\n",
       "\\begin{tabular}{r|llllll}\n",
       "  & used & (Mb) & gc trigger & (Mb) & max used & (Mb)\\\\\n",
       "\\hline\n",
       "\tNcells &  2397563 & 128.1 &   7542764 &  402.9 &   7542764 &  402.9\\\\\n",
       "\tVcells & 17897174 & 136.6 & 146179864 & 1115.3 & 190210232 & 1451.2\\\\\n",
       "\\end{tabular}\n"
      ],
      "text/markdown": [
       "\n",
       "A matrix: 2 × 6 of type dbl\n",
       "\n",
       "| <!--/--> | used | (Mb) | gc trigger | (Mb) | max used | (Mb) |\n",
       "|---|---|---|---|---|---|---|\n",
       "| Ncells |  2397563 | 128.1 |   7542764 |  402.9 |   7542764 |  402.9 |\n",
       "| Vcells | 17897174 | 136.6 | 146179864 | 1115.3 | 190210232 | 1451.2 |\n",
       "\n"
      ],
      "text/plain": [
       "       used     (Mb)  gc trigger (Mb)   max used  (Mb)  \n",
       "Ncells  2397563 128.1   7542764   402.9   7542764  402.9\n",
       "Vcells 17897174 136.6 146179864  1115.3 190210232 1451.2"
      ]
     },
     "metadata": {},
     "output_type": "display_data"
    }
   ],
   "source": [
    "# limpio la memoria\n",
    "rm(list=ls(all.names=TRUE)) # remove all objects\n",
    "gc(full=TRUE, verbose=FALSE) # garbage collection"
   ]
  },
  {
   "cell_type": "markdown",
   "metadata": {
    "id": "kuPfQ7ksjwW3"
   },
   "source": [
    "### 2.2.2 Carga de Librerias"
   ]
  },
  {
   "cell_type": "code",
   "execution_count": 113,
   "metadata": {
    "id": "lVyxLaJ1j1J_"
   },
   "outputs": [],
   "source": [
    "# cargo las librerias que necesito\n",
    "require(\"data.table\")\n",
    "require(\"parallel\")\n",
    "\n",
    "if( !require(\"primes\") ) install.packages(\"primes\")\n",
    "require(\"primes\")\n",
    "\n",
    "if( !require(\"utils\") ) install.packages(\"utils\")\n",
    "require(\"utils\")\n",
    "\n",
    "if( !require(\"rlist\") ) install.packages(\"rlist\")\n",
    "require(\"rlist\")\n",
    "\n",
    "if( !require(\"yaml\")) install.packages(\"yaml\")\n",
    "require(\"yaml\")\n",
    "\n",
    "if( !require(\"lightgbm\") ) install.packages(\"lightgbm\")\n",
    "require(\"lightgbm\")\n",
    "\n",
    "if( !require(\"DiceKriging\") ) install.packages(\"DiceKriging\")\n",
    "require(\"DiceKriging\")\n",
    "\n",
    "if( !require(\"mlrMBO\") ) install.packages(\"mlrMBO\")\n",
    "require(\"mlrMBO\")"
   ]
  },
  {
   "cell_type": "markdown",
   "metadata": {
    "id": "Iz-6Qt6BUaA3"
   },
   "source": [
    "### 2.2.3 Definicion de Parametros"
   ]
  },
  {
   "cell_type": "markdown",
   "metadata": {
    "id": "cOdlKd7lUm2I"
   },
   "source": [
    "aqui debe cargar SU semilla primigenia\n",
    "<br>recuerde cambiar el numero de experimento en cada corrida nueva"
   ]
  },
  {
   "cell_type": "code",
   "execution_count": 114,
   "metadata": {
    "id": "ASYkebOu2mF6"
   },
   "outputs": [],
   "source": [
    "PARAM <- list()\n",
    "PARAM$experimento <- 49999\n",
    "PARAM$semilla_primigenia <- 100019\n"
   ]
  },
  {
   "cell_type": "code",
   "execution_count": 115,
   "metadata": {
    "id": "ezOhQdbA293o"
   },
   "outputs": [],
   "source": [
    "PARAM$kaggle$competencia <- \"data-mining-analista-sr-2025-a\"\n",
    "PARAM$kaggle$cortes <- seq(10000, 12000, by= 500)"
   ]
  },
  {
   "cell_type": "code",
   "execution_count": 116,
   "metadata": {
    "id": "jtB0Lub42rHO"
   },
   "outputs": [],
   "source": [
    "# un undersampling de 0.1  toma solo el 10% de los CONTINUA\n",
    "# undersampling de 1.0  implica tomar TODOS los datos\n",
    "\n",
    "PARAM$trainingstrategy$undersampling <- 0.5"
   ]
  },
  {
   "cell_type": "code",
   "execution_count": 117,
   "metadata": {
    "id": "OFxm-xiNUOJX"
   },
   "outputs": [],
   "source": [
    "# Parametros LightGBM (fijos)\n",
    "PARAM$hyperparametertuning$xval_folds <- 5\n",
    "# Parámetros fijos\n",
    "PARAM$lgbm$param_fijos <- list(\n",
    "  boosting = \"gbdt\",\n",
    "  objective = \"binary\",\n",
    "  metric = \"auc\",\n",
    "  first_metric_only = TRUE,\n",
    "  boost_from_average = TRUE,\n",
    "  feature_pre_filter = FALSE,\n",
    "  force_row_wise = TRUE,\n",
    "  verbosity = -100,\n",
    "  seed = PARAM$semilla_primigenia,\n",
    "  num_iterations = 120\n",
    ")\n",
    "\n",
    "PARAM$lgbm$param_BO <- list(\n",
    "  num_leaves            = c(10L, 80L),\n",
    "  min_data_in_leaf      = c(1L, 50L),\n",
    "  learning_rate         = c(0.05, 0.3),\n",
    "  feature_fraction      = c(0.85, 1.0),\n",
    "  bagging_fraction      = c(0.85, 1.0),\n",
    "  max_depth             = c(3L, 8L),          # NUEVO\n",
    "  min_sum_hessian_in_leaf = c(1e-3, 0.1),     # NUEVO\n",
    "  lambda_l1             = c(0, 5),            # NUEVO\n",
    "  lambda_l2             = c(0, 5),            # NUEVO\n",
    "  min_gain_to_split     = c(0, 0.1)           # NUEVO\n",
    ")\n"
   ]
  },
  {
   "cell_type": "markdown",
   "metadata": {
    "id": "D5Yj-JV4yvOt"
   },
   "source": [
    "Aqui se definen los hiperparámetros de LightGBM que participan de la Bayesian Optimization\n",
    "<br> si es un numero entero debe ir  makeIntegerParam\n",
    "<br> si es un numero real (con decimales) debe ir  makeNumericParam\n",
    "<br> es muy importante leer cuales son un lower y upper  permitidos y ademas razonables"
   ]
  },
  {
   "cell_type": "code",
   "execution_count": 118,
   "metadata": {
    "id": "jENpR26ZyuS8"
   },
   "outputs": [],
   "source": [
    "PARAM$hyperparametertuning$hs <- makeParamSet(\n",
    "  makeIntegerParam(\"num_leaves\", lower = 10L, upper = 80L),\n",
    "  makeIntegerParam(\"min_data_in_leaf\", lower = 1L, upper = 50L),\n",
    "  makeNumericParam(\"learning_rate\", lower = 0.05, upper = 0.3),\n",
    "  makeNumericParam(\"feature_fraction\", lower = 0.85, upper = 1.0),\n",
    "  makeNumericParam(\"bagging_fraction\", lower = 0.85, upper = 1.0),\n",
    "  makeIntegerParam(\"max_depth\", lower = 3L, upper = 8L),\n",
    "  makeNumericParam(\"min_sum_hessian_in_leaf\", lower = 1e-3, upper = 0.1),\n",
    "  makeNumericParam(\"lambda_l1\", lower = 0, upper = 5),\n",
    "  makeNumericParam(\"lambda_l2\", lower = 0, upper = 5),\n",
    "  makeNumericParam(\"min_gain_to_split\", lower = 0, upper = 0.1)\n",
    ")\n"
   ]
  },
  {
   "cell_type": "markdown",
   "metadata": {
    "id": "-_RPFUb3zMoW"
   },
   "source": [
    "A mayor cantidad de hiperparámetros, se debe aumentar las iteraciones de la Bayesian Optimization\n",
    "<br> 30 es un valor muy tacaño, pero corre rápido\n",
    "<br> deberia partir de 50, alcanzando los 100 si se dispone de tiempo"
   ]
  },
  {
   "cell_type": "code",
   "execution_count": 119,
   "metadata": {
    "id": "q5Rd3pnbzSiG"
   },
   "outputs": [],
   "source": [
    "PARAM$hyperparametertuning$iteraciones <- 120 # iteraciones bayesianas"
   ]
  },
  {
   "cell_type": "markdown",
   "metadata": {
    "id": "4RWZXL1VZjMI"
   },
   "source": [
    "### 2.2.4  Preprocesamiento"
   ]
  },
  {
   "cell_type": "code",
   "execution_count": 120,
   "metadata": {
    "id": "j3toG9-lZm4K"
   },
   "outputs": [],
   "source": [
    "# carpeta de trabajo\n",
    "\n",
    "setwd(\"/content/buckets/b1/exp\")\n",
    "experimento_folder <- paste0(\"HT\", PARAM$experimento)\n",
    "dir.create(experimento_folder, showWarnings=FALSE)\n",
    "setwd( paste0(\"/content/buckets/b1/exp/\", experimento_folder ))"
   ]
  },
  {
   "cell_type": "code",
   "execution_count": 121,
   "metadata": {
    "id": "FM3lxKoLZ643"
   },
   "outputs": [],
   "source": [
    "# lectura del dataset\n",
    "\n",
    "dataset <- fread(\"/content/datasets/dataset_pequeno.csv\")"
   ]
  },
  {
   "cell_type": "code",
   "execution_count": 122,
   "metadata": {
    "id": "OsJ-91UeZ-I_"
   },
   "outputs": [],
   "source": [
    "dataset_train <- dataset[foto_mes %in% c(202107)]"
   ]
  },
  {
   "cell_type": "code",
   "execution_count": 123,
   "metadata": {
    "id": "vrWE7BE0aB2J"
   },
   "outputs": [],
   "source": [
    "# paso la clase a binaria que tome valores {0,1}  enteros\n",
    "#  BAJA+1 y BAJA+2  son  1,   CONTINUA es 0\n",
    "\n",
    "dataset_train[,\n",
    "  clase01 := ifelse(clase_ternaria %in% c(\"BAJA+2\",\"BAJA+1\"), 1L, 0L)\n",
    "]"
   ]
  },
  {
   "cell_type": "code",
   "execution_count": 124,
   "metadata": {
    "id": "jP7YlQBnaW6W"
   },
   "outputs": [],
   "source": [
    "# defino los datos que forma parte del training\n",
    "# aqui se hace el undersampling de los CONTINUA\n",
    "# notar que para esto utilizo la SEGUNDA semilla\n",
    "\n",
    "set.seed(PARAM$semilla_primigenia, kind = \"L'Ecuyer-CMRG\")\n",
    "dataset_train[, azar := runif(nrow(dataset_train))]\n",
    "dataset_train[, training := 0L]\n",
    "\n",
    "dataset_train[\n",
    "  foto_mes %in% c(202107) &\n",
    "    (azar <= PARAM$trainingstrategy$undersampling | clase_ternaria %in% c(\"BAJA+1\", \"BAJA+2\")),\n",
    "  training := 1L\n",
    "]"
   ]
  },
  {
   "cell_type": "code",
   "execution_count": 125,
   "metadata": {
    "id": "xElu4s5W4rX7"
   },
   "outputs": [],
   "source": [
    "# los campos que se van a utilizar\n",
    "\n",
    "campos_buenos <- setdiff(\n",
    "  colnames(dataset_train),\n",
    "  c(\"clase_ternaria\", \"clase01\", \"azar\", \"training\")\n",
    ")"
   ]
  },
  {
   "cell_type": "code",
   "execution_count": 126,
   "metadata": {
    "id": "PppMHcGYaaol"
   },
   "outputs": [
    {
     "data": {
      "text/html": [
       "83617"
      ],
      "text/latex": [
       "83617"
      ],
      "text/markdown": [
       "83617"
      ],
      "text/plain": [
       "[1] 83617"
      ]
     },
     "metadata": {},
     "output_type": "display_data"
    },
    {
     "data": {
      "text/html": [
       "154"
      ],
      "text/latex": [
       "154"
      ],
      "text/markdown": [
       "154"
      ],
      "text/plain": [
       "[1] 154"
      ]
     },
     "metadata": {},
     "output_type": "display_data"
    }
   ],
   "source": [
    "# dejo los datos en el formato que necesita LightGBM\n",
    "\n",
    "dtrain <- lgb.Dataset(\n",
    "  data= data.matrix(dataset_train[training == 1L, campos_buenos, with= FALSE]),\n",
    "  label= dataset_train[training == 1L, clase01],\n",
    "  free_raw_data= FALSE\n",
    ")\n",
    "\n",
    "nrow(dtrain)\n",
    "ncol(dtrain)"
   ]
  },
  {
   "cell_type": "markdown",
   "metadata": {
    "id": "Ta-EkOu3cphF"
   },
   "source": [
    "2.2.5 Configuracion Bayesian Optimization"
   ]
  },
  {
   "cell_type": "code",
   "execution_count": 127,
   "metadata": {
    "id": "cjgfurjdfiXb"
   },
   "outputs": [],
   "source": [
    "# En el argumento x llegan los parmaetros de la bayesiana\n",
    "#  devuelve la AUC en cross validation del modelo entrenado\n",
    "\n",
    "EstimarGanancia_AUC_lightgbm <- function(x) {\n",
    "\n",
    "  # x pisa (o agrega) a param_fijos\n",
    "  param_completo <- modifyList(PARAM$lgbm$param_fijos, x)\n",
    "\n",
    "  # entreno LightGBM\n",
    "  modelocv <- lgb.cv(\n",
    "    data= dtrain,\n",
    "    nfold= PARAM$hyperparametertuning$xval_folds,\n",
    "    stratified= TRUE,\n",
    "    param= param_completo\n",
    "  )\n",
    "\n",
    "  # obtengo la ganancia\n",
    "  AUC <- modelocv$best_score\n",
    "\n",
    "  # hago espacio en la memoria\n",
    "  rm(modelocv)\n",
    "  gc(full= TRUE, verbose= FALSE)\n",
    "\n",
    "  message(format(Sys.time(), \"%a %b %d %X %Y\"), \" AUC \", AUC)\n",
    "\n",
    "  return(AUC)\n",
    "}"
   ]
  },
  {
   "cell_type": "code",
   "execution_count": 128,
   "metadata": {
    "id": "WLi_o1hocvN-"
   },
   "outputs": [],
   "source": [
    "# Aqui comienza la configuracion de la Bayesian Optimization\n",
    "\n",
    "# en este archivo quedan la evolucion binaria de la BO\n",
    "kbayesiana <- \"bayesiana.RDATA\"\n",
    "\n",
    "funcion_optimizar <- EstimarGanancia_AUC_lightgbm # la funcion que voy a maximizar\n",
    "\n",
    "configureMlr(show.learner.output= FALSE)\n",
    "\n",
    "# configuro la busqueda bayesiana,  los hiperparametros que se van a optimizar\n",
    "# por favor, no desesperarse por lo complejo\n",
    "\n",
    "obj.fun <- makeSingleObjectiveFunction(\n",
    "  fn= funcion_optimizar, # la funcion que voy a maximizar\n",
    "  minimize= FALSE, # estoy Maximizando la ganancia\n",
    "  noisy= TRUE,\n",
    "  par.set = PARAM$hyperparametertuning$hs, # definido al comienzo del programa\n",
    "  has.simple.signature= FALSE # paso los parametros en una lista\n",
    ")\n",
    "\n",
    "# cada 600 segundos guardo el resultado intermedio\n",
    "ctrl <- makeMBOControl(\n",
    "  save.on.disk.at.time= 600, # se graba cada 600 segundos\n",
    "  save.file.path= kbayesiana\n",
    ") # se graba cada 600 segundos\n",
    "\n",
    "# indico la cantidad de iteraciones que va a tener la Bayesian Optimization\n",
    "ctrl <- setMBOControlTermination(\n",
    "  ctrl,\n",
    "  iters= PARAM$hyperparametertuning$iteraciones\n",
    ") # cantidad de iteraciones\n",
    "\n",
    "# defino el método estandar para la creacion de los puntos iniciales,\n",
    "# los \"No Inteligentes\"\n",
    "ctrl <- setMBOControlInfill(ctrl, crit= makeMBOInfillCritEI())\n",
    "\n",
    "# establezco la funcion que busca el maximo\n",
    "surr.km <- makeLearner(\n",
    "  \"regr.km\",\n",
    "  predict.type= \"se\",\n",
    "  covtype= \"matern3_2\",\n",
    "  control= list(trace= TRUE)\n",
    ")\n"
   ]
  },
  {
   "cell_type": "markdown",
   "metadata": {
    "id": "_uUeVo5pc4zc"
   },
   "source": [
    "2.2.6 Corrida Bayesian Optimization"
   ]
  },
  {
   "cell_type": "code",
   "execution_count": 129,
   "metadata": {
    "id": "RcABNaKGciaz"
   },
   "outputs": [
    {
     "name": "stderr",
     "output_type": "stream",
     "text": [
      "Computing y column(s) for design. Not provided.\n",
      "\n",
      "Thu Jul 31 15:03:29 2025 AUC 0.927978539938738\n",
      "\n",
      "Thu Jul 31 15:03:35 2025 AUC 0.924765358127648\n",
      "\n",
      "Thu Jul 31 15:03:43 2025 AUC 0.927940627572244\n",
      "\n",
      "Thu Jul 31 15:03:49 2025 AUC 0.927840219398682\n",
      "\n",
      "Thu Jul 31 15:03:54 2025 AUC 0.928744417131071\n",
      "\n",
      "Thu Jul 31 15:04:03 2025 AUC 0.92302062981923\n",
      "\n",
      "Thu Jul 31 15:04:08 2025 AUC 0.928494457787948\n",
      "\n",
      "Thu Jul 31 15:04:12 2025 AUC 0.927429790944127\n",
      "\n",
      "Thu Jul 31 15:04:17 2025 AUC 0.927832727291627\n",
      "\n",
      "Thu Jul 31 15:04:20 2025 AUC 0.92688349233943\n",
      "\n",
      "Thu Jul 31 15:04:26 2025 AUC 0.927215176162157\n",
      "\n",
      "Thu Jul 31 15:04:33 2025 AUC 0.927678689002408\n",
      "\n",
      "Thu Jul 31 15:04:40 2025 AUC 0.928456593255714\n",
      "\n",
      "Thu Jul 31 15:04:50 2025 AUC 0.920777577203271\n",
      "\n",
      "Thu Jul 31 15:04:54 2025 AUC 0.927901134793156\n",
      "\n",
      "Thu Jul 31 15:05:01 2025 AUC 0.92238050954433\n",
      "\n",
      "Thu Jul 31 15:05:09 2025 AUC 0.92676958995166\n",
      "\n",
      "Thu Jul 31 15:05:15 2025 AUC 0.923941798474854\n",
      "\n",
      "Thu Jul 31 15:05:19 2025 AUC 0.927570718287632\n",
      "\n",
      "Thu Jul 31 15:05:25 2025 AUC 0.928117311028676\n",
      "\n",
      "Thu Jul 31 15:05:31 2025 AUC 0.928011400393115\n",
      "\n",
      "Thu Jul 31 15:05:36 2025 AUC 0.928096758319078\n",
      "\n",
      "Thu Jul 31 15:05:44 2025 AUC 0.926641315540156\n",
      "\n",
      "Thu Jul 31 15:05:48 2025 AUC 0.928208035022034\n",
      "\n",
      "Thu Jul 31 15:05:54 2025 AUC 0.926596634535737\n",
      "\n",
      "Thu Jul 31 15:05:57 2025 AUC 0.928383617690654\n",
      "\n",
      "Thu Jul 31 15:06:04 2025 AUC 0.924840783032949\n",
      "\n",
      "Thu Jul 31 15:06:14 2025 AUC 0.924805491245299\n",
      "\n",
      "Thu Jul 31 15:06:21 2025 AUC 0.92947973794588\n",
      "\n",
      "Thu Jul 31 15:06:24 2025 AUC 0.927880706080802\n",
      "\n",
      "Thu Jul 31 15:06:30 2025 AUC 0.927987955216732\n",
      "\n",
      "Thu Jul 31 15:06:36 2025 AUC 0.927318809402919\n",
      "\n",
      "Thu Jul 31 15:06:44 2025 AUC 0.91712314359486\n",
      "\n",
      "Thu Jul 31 15:06:54 2025 AUC 0.926618608765935\n",
      "\n",
      "Thu Jul 31 15:07:01 2025 AUC 0.928436414445401\n",
      "\n",
      "Thu Jul 31 15:07:04 2025 AUC 0.927061204372726\n",
      "\n",
      "Thu Jul 31 15:07:08 2025 AUC 0.924819055834877\n",
      "\n",
      "Thu Jul 31 15:07:12 2025 AUC 0.925306518148126\n",
      "\n",
      "Thu Jul 31 15:07:22 2025 AUC 0.928788382731662\n",
      "\n",
      "Thu Jul 31 15:07:27 2025 AUC 0.925826553960518\n",
      "\n",
      "[mbo] 0: num_leaves=30; min_data_in_leaf=34; learning_rate=0.143; feature_fraction=0.911; bagging_fraction=0.91; max_depth=6; min_sum_hessian_in_leaf=0.0256; lambda_l1=2.98; lambda_l2=4.02; min_gain_to_split=0.0768 : y = 0.928 : 7.1 secs : initdesign\n",
      "\n",
      "[mbo] 0: num_leaves=35; min_data_in_leaf=8; learning_rate=0.233; feature_fraction=0.95; bagging_fraction=0.925; max_depth=5; min_sum_hessian_in_leaf=0.059; lambda_l1=3.04; lambda_l2=3.79; min_gain_to_split=0.0831 : y = 0.925 : 5.9 secs : initdesign\n",
      "\n",
      "[mbo] 0: num_leaves=38; min_data_in_leaf=24; learning_rate=0.103; feature_fraction=0.944; bagging_fraction=0.933; max_depth=6; min_sum_hessian_in_leaf=0.0532; lambda_l1=2.36; lambda_l2=3.23; min_gain_to_split=0.0704 : y = 0.928 : 8.1 secs : initdesign\n",
      "\n",
      "[mbo] 0: num_leaves=57; min_data_in_leaf=41; learning_rate=0.173; feature_fraction=0.893; bagging_fraction=0.952; max_depth=5; min_sum_hessian_in_leaf=0.0158; lambda_l1=4; lambda_l2=1.63; min_gain_to_split=0.0211 : y = 0.928 : 5.6 secs : initdesign\n",
      "\n",
      "[mbo] 0: num_leaves=25; min_data_in_leaf=37; learning_rate=0.186; feature_fraction=0.931; bagging_fraction=0.921; max_depth=5; min_sum_hessian_in_leaf=0.0274; lambda_l1=3.63; lambda_l2=2.82; min_gain_to_split=0.0682 : y = 0.929 : 5.5 secs : initdesign\n",
      "\n",
      "[mbo] 0: num_leaves=53; min_data_in_leaf=35; learning_rate=0.238; feature_fraction=0.957; bagging_fraction=0.862; max_depth=7; min_sum_hessian_in_leaf=0.0666; lambda_l1=2.65; lambda_l2=1.96; min_gain_to_split=0.0553 : y = 0.923 : 9.0 secs : initdesign\n",
      "\n",
      "[mbo] 0: num_leaves=45; min_data_in_leaf=12; learning_rate=0.176; feature_fraction=0.967; bagging_fraction=0.873; max_depth=4; min_sum_hessian_in_leaf=0.043; lambda_l1=2.61; lambda_l2=3.01; min_gain_to_split=0.0418 : y = 0.928 : 4.5 secs : initdesign\n",
      "\n",
      "[mbo] 0: num_leaves=63; min_data_in_leaf=20; learning_rate=0.0878; feature_fraction=0.918; bagging_fraction=0.962; max_depth=4; min_sum_hessian_in_leaf=0.0692; lambda_l1=0.753; lambda_l2=2.39; min_gain_to_split=0.0101 : y = 0.927 : 4.6 secs : initdesign\n",
      "\n",
      "[mbo] 0: num_leaves=70; min_data_in_leaf=25; learning_rate=0.149; feature_fraction=0.901; bagging_fraction=0.982; max_depth=4; min_sum_hessian_in_leaf=0.046; lambda_l1=4.56; lambda_l2=4.75; min_gain_to_split=0.0232 : y = 0.928 : 4.5 secs : initdesign\n",
      "\n",
      "[mbo] 0: num_leaves=47; min_data_in_leaf=31; learning_rate=0.202; feature_fraction=0.896; bagging_fraction=0.87; max_depth=3; min_sum_hessian_in_leaf=0.0169; lambda_l1=0.642; lambda_l2=0.843; min_gain_to_split=0.0675 : y = 0.927 : 3.5 secs : initdesign\n",
      "\n",
      "[mbo] 0: num_leaves=28; min_data_in_leaf=40; learning_rate=0.199; feature_fraction=0.925; bagging_fraction=0.947; max_depth=5; min_sum_hessian_in_leaf=0.0985; lambda_l1=1.88; lambda_l2=2.32; min_gain_to_split=0.0469 : y = 0.927 : 5.7 secs : initdesign\n",
      "\n",
      "[mbo] 0: num_leaves=41; min_data_in_leaf=13; learning_rate=0.166; feature_fraction=0.859; bagging_fraction=0.889; max_depth=6; min_sum_hessian_in_leaf=0.0807; lambda_l1=1.05; lambda_l2=3.33; min_gain_to_split=0.0607 : y = 0.928 : 7.1 secs : initdesign\n",
      "\n",
      "[mbo] 0: num_leaves=38; min_data_in_leaf=19; learning_rate=0.0804; feature_fraction=0.977; bagging_fraction=0.969; max_depth=6; min_sum_hessian_in_leaf=0.0299; lambda_l1=1.62; lambda_l2=3.69; min_gain_to_split=0.0279 : y = 0.928 : 7.0 secs : initdesign\n",
      "\n",
      "[mbo] 0: num_leaves=78; min_data_in_leaf=44; learning_rate=0.247; feature_fraction=0.964; bagging_fraction=0.93; max_depth=8; min_sum_hessian_in_leaf=0.0506; lambda_l1=0.0335; lambda_l2=1.54; min_gain_to_split=0.0318 : y = 0.921 : 10.0 secs : initdesign\n",
      "\n",
      "[mbo] 0: num_leaves=60; min_data_in_leaf=28; learning_rate=0.283; feature_fraction=0.888; bagging_fraction=0.938; max_depth=3; min_sum_hessian_in_leaf=0.0786; lambda_l1=1.67; lambda_l2=2.06; min_gain_to_split=0.0331 : y = 0.928 : 3.5 secs : initdesign\n",
      "\n",
      "[mbo] 0: num_leaves=26; min_data_in_leaf=6; learning_rate=0.281; feature_fraction=0.959; bagging_fraction=0.9; max_depth=7; min_sum_hessian_in_leaf=0.045; lambda_l1=3.14; lambda_l2=0.133; min_gain_to_split=0.0161 : y = 0.922 : 7.1 secs : initdesign\n",
      "\n",
      "[mbo] 0: num_leaves=52; min_data_in_leaf=23; learning_rate=0.124; feature_fraction=0.906; bagging_fraction=0.976; max_depth=7; min_sum_hessian_in_leaf=0.0185; lambda_l1=2.24; lambda_l2=1.45; min_gain_to_split=0.0876 : y = 0.927 : 8.6 secs : initdesign\n",
      "\n",
      "[mbo] 0: num_leaves=34; min_data_in_leaf=30; learning_rate=0.294; feature_fraction=0.993; bagging_fraction=0.913; max_depth=4; min_sum_hessian_in_leaf=0.0558; lambda_l1=3.78; lambda_l2=3.95; min_gain_to_split=0.0627 : y = 0.924 : 5.5 secs : initdesign\n",
      "\n",
      "[mbo] 0: num_leaves=45; min_data_in_leaf=12; learning_rate=0.0977; feature_fraction=0.879; bagging_fraction=0.924; max_depth=3; min_sum_hessian_in_leaf=0.0359; lambda_l1=3.25; lambda_l2=0.438; min_gain_to_split=0.0148 : y = 0.928 : 3.8 secs : initdesign\n",
      "\n",
      "[mbo] 0: num_leaves=21; min_data_in_leaf=48; learning_rate=0.189; feature_fraction=0.97; bagging_fraction=0.881; max_depth=8; min_sum_hessian_in_leaf=0.00589; lambda_l1=2.84; lambda_l2=2.9; min_gain_to_split=0.000948 : y = 0.928 : 6.6 secs : initdesign\n",
      "\n",
      "[mbo] 0: num_leaves=63; min_data_in_leaf=36; learning_rate=0.0851; feature_fraction=0.926; bagging_fraction=0.998; max_depth=5; min_sum_hessian_in_leaf=0.0921; lambda_l1=3.5; lambda_l2=0.353; min_gain_to_split=0.0394 : y = 0.928 : 5.7 secs : initdesign\n",
      "\n",
      "[mbo] 0: num_leaves=31; min_data_in_leaf=43; learning_rate=0.133; feature_fraction=0.907; bagging_fraction=0.985; max_depth=5; min_sum_hessian_in_leaf=0.00957; lambda_l1=0.224; lambda_l2=4.74; min_gain_to_split=0.0731 : y = 0.928 : 5.4 secs : initdesign\n",
      "\n",
      "[mbo] 0: num_leaves=66; min_data_in_leaf=9; learning_rate=0.219; feature_fraction=0.863; bagging_fraction=0.886; max_depth=6; min_sum_hessian_in_leaf=0.0966; lambda_l1=4.4; lambda_l2=4.42; min_gain_to_split=0.0443 : y = 0.927 : 7.6 secs : initdesign\n",
      "\n",
      "[mbo] 0: num_leaves=17; min_data_in_leaf=28; learning_rate=0.126; feature_fraction=0.915; bagging_fraction=0.893; max_depth=4; min_sum_hessian_in_leaf=0.0768; lambda_l1=3.5; lambda_l2=3.5; min_gain_to_split=0.078 : y = 0.928 : 4.4 secs : initdesign\n",
      "\n",
      "[mbo] 0: num_leaves=13; min_data_in_leaf=16; learning_rate=0.261; feature_fraction=1; bagging_fraction=0.897; max_depth=8; min_sum_hessian_in_leaf=0.0897; lambda_l1=1.44; lambda_l2=4.36; min_gain_to_split=0.0821 : y = 0.927 : 5.3 secs : initdesign\n",
      "\n",
      "[mbo] 0: num_leaves=76; min_data_in_leaf=15; learning_rate=0.21; feature_fraction=0.944; bagging_fraction=0.979; max_depth=3; min_sum_hessian_in_leaf=0.0117; lambda_l1=5; lambda_l2=2.55; min_gain_to_split=0.0975 : y = 0.928 : 3.5 secs : initdesign\n",
      "\n",
      "[mbo] 0: num_leaves=22; min_data_in_leaf=7; learning_rate=0.252; feature_fraction=0.937; bagging_fraction=0.992; max_depth=7; min_sum_hessian_in_leaf=0.0388; lambda_l1=4.22; lambda_l2=3.61; min_gain_to_split=0.05 : y = 0.925 : 6.4 secs : initdesign\n",
      "\n",
      "[mbo] 0: num_leaves=73; min_data_in_leaf=38; learning_rate=0.213; feature_fraction=0.874; bagging_fraction=0.917; max_depth=8; min_sum_hessian_in_leaf=0.0637; lambda_l1=1.36; lambda_l2=4.58; min_gain_to_split=0.00552 : y = 0.925 : 10.9 secs : initdesign\n",
      "\n",
      "[mbo] 0: num_leaves=19; min_data_in_leaf=1; learning_rate=0.0701; feature_fraction=0.936; bagging_fraction=0.851; max_depth=8; min_sum_hessian_in_leaf=0.0498; lambda_l1=2.49; lambda_l2=1.03; min_gain_to_split=0.0531 : y = 0.929 : 6.6 secs : initdesign\n",
      "\n",
      "[mbo] 0: num_leaves=50; min_data_in_leaf=32; learning_rate=0.225; feature_fraction=0.99; bagging_fraction=0.957; max_depth=3; min_sum_hessian_in_leaf=0.0716; lambda_l1=0.533; lambda_l2=1.19; min_gain_to_split=0.0961 : y = 0.928 : 3.4 secs : initdesign\n",
      "\n",
      "[mbo] 0: num_leaves=13; min_data_in_leaf=21; learning_rate=0.0634; feature_fraction=0.853; bagging_fraction=0.963; max_depth=8; min_sum_hessian_in_leaf=0.0934; lambda_l1=0.418; lambda_l2=1.79; min_gain_to_split=0.0499 : y = 0.928 : 5.4 secs : initdesign\n",
      "\n",
      "[mbo] 0: num_leaves=16; min_data_in_leaf=46; learning_rate=0.161; feature_fraction=0.982; bagging_fraction=0.942; max_depth=7; min_sum_hessian_in_leaf=0.033; lambda_l1=3.94; lambda_l2=0.527; min_gain_to_split=0.0927 : y = 0.927 : 6.6 secs : initdesign\n",
      "\n",
      "[mbo] 0: num_leaves=75; min_data_in_leaf=4; learning_rate=0.268; feature_fraction=0.884; bagging_fraction=0.861; max_depth=6; min_sum_hessian_in_leaf=0.0853; lambda_l1=1.19; lambda_l2=0.031; min_gain_to_split=0.00461 : y = 0.917 : 8.0 secs : initdesign\n",
      "\n",
      "[mbo] 0: num_leaves=67; min_data_in_leaf=18; learning_rate=0.152; feature_fraction=0.979; bagging_fraction=0.867; max_depth=7; min_sum_hessian_in_leaf=0.00602; lambda_l1=2.09; lambda_l2=4.89; min_gain_to_split=0.0857 : y = 0.927 : 9.2 secs : initdesign\n",
      "\n",
      "[mbo] 0: num_leaves=58; min_data_in_leaf=44; learning_rate=0.11; feature_fraction=0.854; bagging_fraction=0.877; max_depth=6; min_sum_hessian_in_leaf=0.002; lambda_l1=4.65; lambda_l2=2.19; min_gain_to_split=0.0182 : y = 0.928 : 7.2 secs : initdesign\n",
      "\n",
      "[mbo] 0: num_leaves=43; min_data_in_leaf=47; learning_rate=0.117; feature_fraction=0.988; bagging_fraction=0.854; max_depth=3; min_sum_hessian_in_leaf=0.0732; lambda_l1=1.75; lambda_l2=1.25; min_gain_to_split=0.00991 : y = 0.927 : 3.5 secs : initdesign\n",
      "\n",
      "[mbo] 0: num_leaves=69; min_data_in_leaf=5; learning_rate=0.0567; feature_fraction=0.871; bagging_fraction=0.996; max_depth=3; min_sum_hessian_in_leaf=0.0219; lambda_l1=0.316; lambda_l2=0.904; min_gain_to_split=0.06 : y = 0.925 : 3.6 secs : initdesign\n",
      "\n",
      "[mbo] 0: num_leaves=80; min_data_in_leaf=50; learning_rate=0.293; feature_fraction=0.866; bagging_fraction=0.972; max_depth=4; min_sum_hessian_in_leaf=0.0626; lambda_l1=4.26; lambda_l2=0.727; min_gain_to_split=0.0917 : y = 0.925 : 4.5 secs : initdesign\n",
      "\n",
      "[mbo] 0: num_leaves=55; min_data_in_leaf=26; learning_rate=0.056; feature_fraction=0.952; bagging_fraction=0.949; max_depth=8; min_sum_hessian_in_leaf=0.0834; lambda_l1=4.86; lambda_l2=4.15; min_gain_to_split=0.0258 : y = 0.929 : 10.0 secs : initdesign\n",
      "\n",
      "[mbo] 0: num_leaves=10; min_data_in_leaf=3; learning_rate=0.274; feature_fraction=0.881; bagging_fraction=0.906; max_depth=4; min_sum_hessian_in_leaf=0.0335; lambda_l1=0.921; lambda_l2=2.69; min_gain_to_split=0.0371 : y = 0.926 : 4.1 secs : initdesign\n",
      "\n",
      "Thu Jul 31 15:07:36 2025 AUC 0.929358241640734\n",
      "\n",
      "[mbo] 1: num_leaves=19; min_data_in_leaf=7; learning_rate=0.0748; feature_fraction=0.974; bagging_fraction=0.876; max_depth=8; min_sum_hessian_in_leaf=0.0212; lambda_l1=4.09; lambda_l2=2.69; min_gain_to_split=0.0166 : y = 0.929 : 7.8 secs : infill_ei\n",
      "\n",
      "Thu Jul 31 15:07:45 2025 AUC 0.928310321018365\n",
      "\n",
      "[mbo] 2: num_leaves=29; min_data_in_leaf=27; learning_rate=0.0594; feature_fraction=0.954; bagging_fraction=0.851; max_depth=8; min_sum_hessian_in_leaf=0.0634; lambda_l1=4.85; lambda_l2=1.28; min_gain_to_split=0.0335 : y = 0.928 : 8.0 secs : infill_ei\n",
      "\n",
      "Thu Jul 31 15:07:51 2025 AUC 0.92888161453663\n",
      "\n",
      "[mbo] 3: num_leaves=11; min_data_in_leaf=9; learning_rate=0.137; feature_fraction=0.881; bagging_fraction=0.861; max_depth=5; min_sum_hessian_in_leaf=0.00324; lambda_l1=3.96; lambda_l2=2.63; min_gain_to_split=0.0101 : y = 0.929 : 5.0 secs : infill_ei\n",
      "\n",
      "Thu Jul 31 15:07:56 2025 AUC 0.927498244366599\n",
      "\n",
      "[mbo] 4: num_leaves=50; min_data_in_leaf=42; learning_rate=0.184; feature_fraction=0.911; bagging_fraction=0.972; max_depth=3; min_sum_hessian_in_leaf=0.0764; lambda_l1=4.95; lambda_l2=2.67; min_gain_to_split=0.0488 : y = 0.927 : 3.6 secs : infill_ei\n",
      "\n",
      "Thu Jul 31 15:08:06 2025 AUC 0.929256174350578\n",
      "\n",
      "[mbo] 5: num_leaves=38; min_data_in_leaf=1; learning_rate=0.0743; feature_fraction=0.902; bagging_fraction=0.869; max_depth=8; min_sum_hessian_in_leaf=0.0221; lambda_l1=2.57; lambda_l2=3.46; min_gain_to_split=0.0129 : y = 0.929 : 9.3 secs : infill_ei\n",
      "\n",
      "Thu Jul 31 15:08:13 2025 AUC 0.92848867706547\n",
      "\n",
      "[mbo] 6: num_leaves=12; min_data_in_leaf=1; learning_rate=0.0806; feature_fraction=0.963; bagging_fraction=0.878; max_depth=8; min_sum_hessian_in_leaf=0.0805; lambda_l1=3.04; lambda_l2=4.12; min_gain_to_split=0.0381 : y = 0.928 : 5.5 secs : infill_ei\n",
      "\n",
      "Thu Jul 31 15:08:20 2025 AUC 0.927405396116841\n",
      "\n",
      "[mbo] 7: num_leaves=14; min_data_in_leaf=4; learning_rate=0.0786; feature_fraction=0.938; bagging_fraction=0.89; max_depth=8; min_sum_hessian_in_leaf=0.0048; lambda_l1=2.2; lambda_l2=0.431; min_gain_to_split=0.00401 : y = 0.927 : 5.7 secs : infill_ei\n",
      "\n",
      "Thu Jul 31 15:08:29 2025 AUC 0.927808328458119\n",
      "\n",
      "[mbo] 8: num_leaves=25; min_data_in_leaf=3; learning_rate=0.0638; feature_fraction=0.972; bagging_fraction=0.865; max_depth=8; min_sum_hessian_in_leaf=0.0442; lambda_l1=1.18; lambda_l2=2.48; min_gain_to_split=0.0728 : y = 0.928 : 7.7 secs : infill_ei\n",
      "\n",
      "Thu Jul 31 15:08:37 2025 AUC 0.928770634543806\n",
      "\n",
      "[mbo] 9: num_leaves=20; min_data_in_leaf=6; learning_rate=0.076; feature_fraction=0.865; bagging_fraction=0.865; max_depth=8; min_sum_hessian_in_leaf=0.0555; lambda_l1=3.71; lambda_l2=2.21; min_gain_to_split=0.0376 : y = 0.929 : 6.7 secs : infill_ei\n",
      "\n",
      "Thu Jul 31 15:08:44 2025 AUC 0.927418672223602\n",
      "\n",
      "[mbo] 10: num_leaves=18; min_data_in_leaf=43; learning_rate=0.141; feature_fraction=0.956; bagging_fraction=0.911; max_depth=5; min_sum_hessian_in_leaf=0.00241; lambda_l1=3.49; lambda_l2=2.86; min_gain_to_split=0.0343 : y = 0.927 : 5.3 secs : infill_ei\n",
      "\n",
      "Thu Jul 31 15:08:55 2025 AUC 0.928962719841527\n",
      "\n",
      "[mbo] 11: num_leaves=56; min_data_in_leaf=1; learning_rate=0.0734; feature_fraction=0.96; bagging_fraction=0.864; max_depth=7; min_sum_hessian_in_leaf=0.029; lambda_l1=4.83; lambda_l2=3.96; min_gain_to_split=0.0188 : y = 0.929 : 9.5 secs : infill_ei\n",
      "\n",
      "Thu Jul 31 15:09:02 2025 AUC 0.927967085623149\n",
      "\n",
      "[mbo] 12: num_leaves=36; min_data_in_leaf=7; learning_rate=0.105; feature_fraction=0.851; bagging_fraction=0.886; max_depth=5; min_sum_hessian_in_leaf=0.0378; lambda_l1=4.55; lambda_l2=3.74; min_gain_to_split=0.00952 : y = 0.928 : 5.8 secs : infill_ei\n",
      "\n",
      "Thu Jul 31 15:09:09 2025 AUC 0.928349626754851\n",
      "\n",
      "[mbo] 13: num_leaves=20; min_data_in_leaf=11; learning_rate=0.17; feature_fraction=0.872; bagging_fraction=0.85; max_depth=5; min_sum_hessian_in_leaf=0.0214; lambda_l1=4.82; lambda_l2=2.43; min_gain_to_split=0.0628 : y = 0.928 : 5.7 secs : infill_ei\n",
      "\n",
      "Thu Jul 31 15:09:21 2025 AUC 0.928737133459152\n",
      "\n",
      "[mbo] 14: num_leaves=57; min_data_in_leaf=10; learning_rate=0.0723; feature_fraction=0.956; bagging_fraction=0.964; max_depth=8; min_sum_hessian_in_leaf=0.0103; lambda_l1=3.35; lambda_l2=3.29; min_gain_to_split=0.0239 : y = 0.929 : 10.6 secs : infill_ei\n",
      "\n",
      "Thu Jul 31 15:09:30 2025 AUC 0.929710744472907\n",
      "\n",
      "[mbo] 15: num_leaves=29; min_data_in_leaf=30; learning_rate=0.0713; feature_fraction=0.953; bagging_fraction=0.86; max_depth=8; min_sum_hessian_in_leaf=0.00907; lambda_l1=4.33; lambda_l2=4.62; min_gain_to_split=0.0126 : y = 0.93 : 8.0 secs : infill_ei\n",
      "\n",
      "Thu Jul 31 15:09:41 2025 AUC 0.928299832850355\n",
      "\n",
      "[mbo] 16: num_leaves=45; min_data_in_leaf=43; learning_rate=0.0852; feature_fraction=0.97; bagging_fraction=0.853; max_depth=8; min_sum_hessian_in_leaf=0.0457; lambda_l1=3.89; lambda_l2=4.59; min_gain_to_split=0.0127 : y = 0.928 : 9.4 secs : infill_ei\n",
      "\n",
      "Thu Jul 31 15:09:51 2025 AUC 0.927674374085825\n",
      "\n",
      "[mbo] 17: num_leaves=20; min_data_in_leaf=6; learning_rate=0.0595; feature_fraction=0.992; bagging_fraction=0.875; max_depth=8; min_sum_hessian_in_leaf=0.0148; lambda_l1=3.87; lambda_l2=4.99; min_gain_to_split=0.0157 : y = 0.928 : 8.0 secs : infill_ei\n",
      "\n",
      "Thu Jul 31 15:10:00 2025 AUC 0.928402370828709\n",
      "\n",
      "[mbo] 18: num_leaves=36; min_data_in_leaf=24; learning_rate=0.0704; feature_fraction=0.944; bagging_fraction=0.983; max_depth=8; min_sum_hessian_in_leaf=0.0956; lambda_l1=4.81; lambda_l2=3.97; min_gain_to_split=0.0311 : y = 0.928 : 8.7 secs : infill_ei\n",
      "\n",
      "Thu Jul 31 15:10:08 2025 AUC 0.929219946843569\n",
      "\n",
      "[mbo] 19: num_leaves=19; min_data_in_leaf=37; learning_rate=0.0718; feature_fraction=0.904; bagging_fraction=0.865; max_depth=8; min_sum_hessian_in_leaf=0.00119; lambda_l1=4.89; lambda_l2=3.9; min_gain_to_split=0.011 : y = 0.929 : 6.4 secs : infill_ei\n",
      "\n",
      "Thu Jul 31 15:10:19 2025 AUC 0.929498445143097\n",
      "\n",
      "[mbo] 20: num_leaves=48; min_data_in_leaf=34; learning_rate=0.0723; feature_fraction=0.962; bagging_fraction=0.855; max_depth=8; min_sum_hessian_in_leaf=0.0271; lambda_l1=3.18; lambda_l2=3.75; min_gain_to_split=0.0369 : y = 0.929 : 9.8 secs : infill_ei\n",
      "\n",
      "Thu Jul 31 15:10:27 2025 AUC 0.928582350392402\n",
      "\n",
      "[mbo] 21: num_leaves=17; min_data_in_leaf=33; learning_rate=0.072; feature_fraction=0.892; bagging_fraction=0.852; max_depth=6; min_sum_hessian_in_leaf=0.071; lambda_l1=2.57; lambda_l2=4.16; min_gain_to_split=0.0271 : y = 0.929 : 5.8 secs : infill_ei\n",
      "\n",
      "Thu Jul 31 15:10:33 2025 AUC 0.927746824451038\n",
      "\n",
      "[mbo] 22: num_leaves=11; min_data_in_leaf=16; learning_rate=0.184; feature_fraction=0.976; bagging_fraction=0.869; max_depth=6; min_sum_hessian_in_leaf=0.0229; lambda_l1=4.77; lambda_l2=4.62; min_gain_to_split=0.0267 : y = 0.928 : 5.2 secs : infill_ei\n",
      "\n",
      "Thu Jul 31 15:10:41 2025 AUC 0.92934790463468\n",
      "\n",
      "[mbo] 23: num_leaves=54; min_data_in_leaf=10; learning_rate=0.132; feature_fraction=0.863; bagging_fraction=0.85; max_depth=5; min_sum_hessian_in_leaf=0.0601; lambda_l1=4.27; lambda_l2=3.99; min_gain_to_split=0.00676 : y = 0.929 : 5.9 secs : infill_ei\n",
      "\n",
      "Thu Jul 31 15:10:48 2025 AUC 0.927499086247571\n",
      "\n",
      "[mbo] 24: num_leaves=51; min_data_in_leaf=1; learning_rate=0.134; feature_fraction=0.879; bagging_fraction=0.906; max_depth=5; min_sum_hessian_in_leaf=0.0486; lambda_l1=4.45; lambda_l2=1.34; min_gain_to_split=0.0991 : y = 0.927 : 6.1 secs : infill_ei\n",
      "\n",
      "Thu Jul 31 15:11:00 2025 AUC 0.927286461770754\n",
      "\n",
      "[mbo] 25: num_leaves=66; min_data_in_leaf=29; learning_rate=0.0695; feature_fraction=0.925; bagging_fraction=0.873; max_depth=8; min_sum_hessian_in_leaf=0.0381; lambda_l1=4.53; lambda_l2=3.78; min_gain_to_split=0.00522 : y = 0.927 : 10.7 secs : infill_ei\n",
      "\n",
      "Thu Jul 31 15:11:07 2025 AUC 0.927837282798578\n",
      "\n",
      "[mbo] 26: num_leaves=12; min_data_in_leaf=38; learning_rate=0.0747; feature_fraction=0.93; bagging_fraction=0.857; max_depth=8; min_sum_hessian_in_leaf=0.00673; lambda_l1=4; lambda_l2=3.82; min_gain_to_split=0.0507 : y = 0.928 : 5.3 secs : infill_ei\n",
      "\n",
      "Thu Jul 31 15:11:20 2025 AUC 0.927465235995097\n",
      "\n",
      "[mbo] 27: num_leaves=48; min_data_in_leaf=1; learning_rate=0.073; feature_fraction=0.958; bagging_fraction=0.855; max_depth=8; min_sum_hessian_in_leaf=0.049; lambda_l1=1.67; lambda_l2=1.39; min_gain_to_split=0.0472 : y = 0.927 : 11.2 secs : infill_ei\n",
      "\n",
      "Thu Jul 31 15:11:30 2025 AUC 0.927963755414868\n",
      "\n",
      "[mbo] 28: num_leaves=47; min_data_in_leaf=29; learning_rate=0.0628; feature_fraction=0.903; bagging_fraction=0.908; max_depth=7; min_sum_hessian_in_leaf=0.00232; lambda_l1=3.75; lambda_l2=3.75; min_gain_to_split=0.0241 : y = 0.928 : 8.5 secs : infill_ei\n",
      "\n",
      "Thu Jul 31 15:11:41 2025 AUC 0.927802924496306\n",
      "\n",
      "[mbo] 29: num_leaves=53; min_data_in_leaf=39; learning_rate=0.0752; feature_fraction=0.945; bagging_fraction=0.853; max_depth=8; min_sum_hessian_in_leaf=0.0303; lambda_l1=4.34; lambda_l2=3.27; min_gain_to_split=0.026 : y = 0.928 : 9.7 secs : infill_ei\n",
      "\n",
      "Thu Jul 31 15:11:52 2025 AUC 0.928672100085267\n",
      "\n",
      "[mbo] 30: num_leaves=46; min_data_in_leaf=7; learning_rate=0.0726; feature_fraction=0.998; bagging_fraction=0.9; max_depth=8; min_sum_hessian_in_leaf=0.0161; lambda_l1=3.94; lambda_l2=4.04; min_gain_to_split=0.0335 : y = 0.929 : 9.7 secs : infill_ei\n",
      "\n",
      "Thu Jul 31 15:12:02 2025 AUC 0.928892669969095\n",
      "\n",
      "[mbo] 31: num_leaves=27; min_data_in_leaf=16; learning_rate=0.0707; feature_fraction=0.966; bagging_fraction=0.858; max_depth=8; min_sum_hessian_in_leaf=0.0773; lambda_l1=2.87; lambda_l2=2.64; min_gain_to_split=0.0297 : y = 0.929 : 7.7 secs : infill_ei\n",
      "\n",
      "Thu Jul 31 15:12:09 2025 AUC 0.928114538305426\n",
      "\n",
      "[mbo] 32: num_leaves=10; min_data_in_leaf=1; learning_rate=0.0647; feature_fraction=0.905; bagging_fraction=0.85; max_depth=8; min_sum_hessian_in_leaf=0.0838; lambda_l1=4.14; lambda_l2=0.968; min_gain_to_split=0.0531 : y = 0.928 : 5.1 secs : infill_ei\n",
      "\n",
      "Thu Jul 31 15:12:19 2025 AUC 0.928710989870721\n",
      "\n",
      "[mbo] 33: num_leaves=31; min_data_in_leaf=21; learning_rate=0.0677; feature_fraction=0.966; bagging_fraction=0.943; max_depth=8; min_sum_hessian_in_leaf=0.0127; lambda_l1=4.34; lambda_l2=3.92; min_gain_to_split=0.0214 : y = 0.929 : 8.4 secs : infill_ei\n",
      "\n",
      "Thu Jul 31 15:12:28 2025 AUC 0.928530425336965\n",
      "\n",
      "[mbo] 34: num_leaves=26; min_data_in_leaf=7; learning_rate=0.0811; feature_fraction=0.99; bagging_fraction=0.852; max_depth=8; min_sum_hessian_in_leaf=0.0018; lambda_l1=4.97; lambda_l2=2.39; min_gain_to_split=0.0189 : y = 0.929 : 7.7 secs : infill_ei\n",
      "\n",
      "Thu Jul 31 15:12:38 2025 AUC 0.928975135200703\n",
      "\n",
      "[mbo] 35: num_leaves=27; min_data_in_leaf=25; learning_rate=0.0771; feature_fraction=0.949; bagging_fraction=0.853; max_depth=8; min_sum_hessian_in_leaf=0.0214; lambda_l1=1.45; lambda_l2=3.95; min_gain_to_split=0.00877 : y = 0.929 : 8.5 secs : infill_ei\n",
      "\n",
      "Thu Jul 31 15:12:46 2025 AUC 0.928294828597123\n",
      "\n",
      "[mbo] 36: num_leaves=56; min_data_in_leaf=19; learning_rate=0.12; feature_fraction=0.915; bagging_fraction=0.85; max_depth=5; min_sum_hessian_in_leaf=0.0285; lambda_l1=2.71; lambda_l2=3.73; min_gain_to_split=0.0371 : y = 0.928 : 5.7 secs : infill_ei\n",
      "\n",
      "Thu Jul 31 15:12:55 2025 AUC 0.927344993882456\n",
      "\n",
      "[mbo] 37: num_leaves=36; min_data_in_leaf=11; learning_rate=0.132; feature_fraction=0.868; bagging_fraction=0.854; max_depth=6; min_sum_hessian_in_leaf=0.04; lambda_l1=4.1; lambda_l2=2.47; min_gain_to_split=0.00427 : y = 0.927 : 7.6 secs : infill_ei\n",
      "\n",
      "Thu Jul 31 15:13:03 2025 AUC 0.928432225167002\n",
      "\n",
      "[mbo] 38: num_leaves=58; min_data_in_leaf=8; learning_rate=0.0944; feature_fraction=0.935; bagging_fraction=0.877; max_depth=5; min_sum_hessian_in_leaf=0.0818; lambda_l1=3.84; lambda_l2=4.27; min_gain_to_split=0.0347 : y = 0.928 : 6.0 secs : infill_ei\n",
      "\n",
      "Thu Jul 31 15:13:14 2025 AUC 0.928767470926252\n",
      "\n",
      "[mbo] 39: num_leaves=51; min_data_in_leaf=23; learning_rate=0.0696; feature_fraction=0.901; bagging_fraction=0.93; max_depth=8; min_sum_hessian_in_leaf=0.0891; lambda_l1=2.21; lambda_l2=4.34; min_gain_to_split=0.0405 : y = 0.929 : 9.7 secs : infill_ei\n",
      "\n",
      "Thu Jul 31 15:13:23 2025 AUC 0.929655312338965\n",
      "\n",
      "[mbo] 40: num_leaves=21; min_data_in_leaf=1; learning_rate=0.0732; feature_fraction=0.933; bagging_fraction=0.857; max_depth=8; min_sum_hessian_in_leaf=0.0285; lambda_l1=4.9; lambda_l2=3.44; min_gain_to_split=0.0121 : y = 0.93 : 7.0 secs : infill_ei\n",
      "\n",
      "Saved the current state after iteration 41 in the file bayesiana.RDATA.\n",
      "\n",
      "Thu Jul 31 15:13:39 2025 AUC 0.928017696764275\n",
      "\n",
      "[mbo] 41: num_leaves=43; min_data_in_leaf=33; learning_rate=0.0928; feature_fraction=0.94; bagging_fraction=0.916; max_depth=8; min_sum_hessian_in_leaf=0.0114; lambda_l1=3.02; lambda_l2=4.58; min_gain_to_split=0.00783 : y = 0.928 : 10.2 secs : infill_ei\n",
      "\n",
      "Thu Jul 31 15:13:46 2025 AUC 0.927257507038183\n",
      "\n",
      "[mbo] 42: num_leaves=13; min_data_in_leaf=10; learning_rate=0.0752; feature_fraction=0.958; bagging_fraction=0.889; max_depth=6; min_sum_hessian_in_leaf=0.0427; lambda_l1=2.96; lambda_l2=1.08; min_gain_to_split=0.0421 : y = 0.927 : 5.4 secs : infill_ei\n",
      "\n",
      "Thu Jul 31 15:13:56 2025 AUC 0.929164636036684\n",
      "\n",
      "[mbo] 43: num_leaves=36; min_data_in_leaf=37; learning_rate=0.0703; feature_fraction=0.903; bagging_fraction=0.865; max_depth=8; min_sum_hessian_in_leaf=0.0329; lambda_l1=0.317; lambda_l2=4.25; min_gain_to_split=0.0357 : y = 0.929 : 8.3 secs : infill_ei\n",
      "\n",
      "Thu Jul 31 15:14:07 2025 AUC 0.92891428312737\n",
      "\n",
      "[mbo] 44: num_leaves=56; min_data_in_leaf=14; learning_rate=0.0688; feature_fraction=0.97; bagging_fraction=0.882; max_depth=7; min_sum_hessian_in_leaf=0.0405; lambda_l1=0.463; lambda_l2=4.99; min_gain_to_split=0.0309 : y = 0.929 : 9.1 secs : infill_ei\n",
      "\n",
      "Thu Jul 31 15:14:13 2025 AUC 0.92792382160979\n",
      "\n",
      "[mbo] 45: num_leaves=15; min_data_in_leaf=12; learning_rate=0.139; feature_fraction=0.857; bagging_fraction=0.859; max_depth=4; min_sum_hessian_in_leaf=0.0377; lambda_l1=2.92; lambda_l2=4.62; min_gain_to_split=0.00693 : y = 0.928 : 4.4 secs : infill_ei\n",
      "\n",
      "Thu Jul 31 15:14:20 2025 AUC 0.928275910345368\n",
      "\n",
      "[mbo] 46: num_leaves=60; min_data_in_leaf=6; learning_rate=0.15; feature_fraction=0.86; bagging_fraction=0.854; max_depth=4; min_sum_hessian_in_leaf=0.0261; lambda_l1=4.44; lambda_l2=3.08; min_gain_to_split=0.0127 : y = 0.928 : 4.6 secs : infill_ei\n",
      "\n",
      "Thu Jul 31 15:14:28 2025 AUC 0.928143045637507\n",
      "\n",
      "[mbo] 47: num_leaves=57; min_data_in_leaf=5; learning_rate=0.129; feature_fraction=0.856; bagging_fraction=0.952; max_depth=5; min_sum_hessian_in_leaf=0.0905; lambda_l1=2.19; lambda_l2=4.54; min_gain_to_split=0.000857 : y = 0.928 : 5.7 secs : infill_ei\n",
      "\n",
      "Thu Jul 31 15:14:35 2025 AUC 0.929225800601773\n",
      "\n",
      "[mbo] 48: num_leaves=51; min_data_in_leaf=20; learning_rate=0.13; feature_fraction=0.902; bagging_fraction=0.903; max_depth=5; min_sum_hessian_in_leaf=0.0637; lambda_l1=4.73; lambda_l2=4.06; min_gain_to_split=0.0158 : y = 0.929 : 5.9 secs : infill_ei\n",
      "\n",
      "Thu Jul 31 15:14:47 2025 AUC 0.929458455778204\n",
      "\n",
      "[mbo] 49: num_leaves=42; min_data_in_leaf=33; learning_rate=0.0716; feature_fraction=0.982; bagging_fraction=0.856; max_depth=8; min_sum_hessian_in_leaf=0.0143; lambda_l1=1.55; lambda_l2=4.91; min_gain_to_split=0.00841 : y = 0.929 : 9.6 secs : infill_ei\n",
      "\n",
      "Thu Jul 31 15:14:56 2025 AUC 0.928231103996372\n",
      "\n",
      "[mbo] 50: num_leaves=57; min_data_in_leaf=27; learning_rate=0.0722; feature_fraction=0.971; bagging_fraction=0.98; max_depth=6; min_sum_hessian_in_leaf=0.0966; lambda_l1=3.83; lambda_l2=4.96; min_gain_to_split=0.0211 : y = 0.928 : 7.4 secs : infill_ei\n",
      "\n",
      "Thu Jul 31 15:15:04 2025 AUC 0.928682821610796\n",
      "\n",
      "[mbo] 51: num_leaves=53; min_data_in_leaf=45; learning_rate=0.142; feature_fraction=0.86; bagging_fraction=0.864; max_depth=5; min_sum_hessian_in_leaf=0.0673; lambda_l1=4.18; lambda_l2=4.56; min_gain_to_split=0.0292 : y = 0.929 : 5.5 secs : infill_ei\n",
      "\n",
      "Thu Jul 31 15:15:15 2025 AUC 0.928472350179643\n",
      "\n",
      "[mbo] 52: num_leaves=38; min_data_in_leaf=12; learning_rate=0.0712; feature_fraction=0.943; bagging_fraction=0.855; max_depth=8; min_sum_hessian_in_leaf=0.0111; lambda_l1=3.46; lambda_l2=4.52; min_gain_to_split=0.0228 : y = 0.928 : 8.8 secs : infill_ei\n",
      "\n",
      "Thu Jul 31 15:15:23 2025 AUC 0.928288623064479\n",
      "\n",
      "[mbo] 53: num_leaves=14; min_data_in_leaf=20; learning_rate=0.0706; feature_fraction=0.978; bagging_fraction=0.919; max_depth=8; min_sum_hessian_in_leaf=0.013; lambda_l1=2.21; lambda_l2=0.667; min_gain_to_split=0.0555 : y = 0.928 : 5.7 secs : infill_ei\n",
      "\n",
      "Thu Jul 31 15:15:35 2025 AUC 0.926998977162928\n",
      "\n",
      "[mbo] 54: num_leaves=47; min_data_in_leaf=37; learning_rate=0.0602; feature_fraction=0.997; bagging_fraction=0.868; max_depth=8; min_sum_hessian_in_leaf=0.0694; lambda_l1=1.51; lambda_l2=3.95; min_gain_to_split=0.0265 : y = 0.927 : 10.4 secs : infill_ei\n",
      "\n",
      "Thu Jul 31 15:15:44 2025 AUC 0.928378174656735\n",
      "\n",
      "[mbo] 55: num_leaves=23; min_data_in_leaf=32; learning_rate=0.0693; feature_fraction=0.876; bagging_fraction=0.857; max_depth=8; min_sum_hessian_in_leaf=0.0589; lambda_l1=0.989; lambda_l2=4.6; min_gain_to_split=0.00132 : y = 0.928 : 7.3 secs : infill_ei\n",
      "\n",
      "Thu Jul 31 15:15:56 2025 AUC 0.930016850163934\n",
      "\n",
      "[mbo] 56: num_leaves=45; min_data_in_leaf=31; learning_rate=0.0755; feature_fraction=0.977; bagging_fraction=0.897; max_depth=7; min_sum_hessian_in_leaf=0.0402; lambda_l1=1.28; lambda_l2=4.96; min_gain_to_split=0.0401 : y = 0.93 : 9.2 secs : infill_ei\n",
      "\n",
      "Thu Jul 31 15:16:03 2025 AUC 0.929844199904491\n",
      "\n",
      "[mbo] 57: num_leaves=16; min_data_in_leaf=35; learning_rate=0.121; feature_fraction=0.883; bagging_fraction=0.883; max_depth=5; min_sum_hessian_in_leaf=0.0126; lambda_l1=4.98; lambda_l2=3.96; min_gain_to_split=0.0271 : y = 0.93 : 5.2 secs : infill_ei\n",
      "\n",
      "Thu Jul 31 15:16:13 2025 AUC 0.928536084988019\n",
      "\n",
      "[mbo] 58: num_leaves=48; min_data_in_leaf=37; learning_rate=0.0755; feature_fraction=0.965; bagging_fraction=0.874; max_depth=7; min_sum_hessian_in_leaf=0.0137; lambda_l1=2.42; lambda_l2=4.98; min_gain_to_split=0.0741 : y = 0.929 : 8.4 secs : infill_ei\n",
      "\n",
      "Thu Jul 31 15:16:21 2025 AUC 0.927433959718957\n",
      "\n",
      "[mbo] 59: num_leaves=14; min_data_in_leaf=10; learning_rate=0.0517; feature_fraction=0.912; bagging_fraction=0.959; max_depth=8; min_sum_hessian_in_leaf=0.0538; lambda_l1=2.98; lambda_l2=0.373; min_gain_to_split=0.0883 : y = 0.927 : 5.7 secs : infill_ei\n",
      "\n",
      "Thu Jul 31 15:16:29 2025 AUC 0.929434090456942\n",
      "\n",
      "[mbo] 60: num_leaves=20; min_data_in_leaf=27; learning_rate=0.134; feature_fraction=0.878; bagging_fraction=0.898; max_depth=5; min_sum_hessian_in_leaf=0.0636; lambda_l1=4.15; lambda_l2=3.5; min_gain_to_split=0.0423 : y = 0.929 : 5.5 secs : infill_ei\n",
      "\n",
      "Thu Jul 31 15:16:36 2025 AUC 0.928942860282837\n",
      "\n",
      "[mbo] 61: num_leaves=39; min_data_in_leaf=39; learning_rate=0.0964; feature_fraction=0.891; bagging_fraction=0.894; max_depth=5; min_sum_hessian_in_leaf=0.0202; lambda_l1=1.4; lambda_l2=4.92; min_gain_to_split=0.034 : y = 0.929 : 5.4 secs : infill_ei\n",
      "\n",
      "Thu Jul 31 15:16:43 2025 AUC 0.928930351449282\n",
      "\n",
      "[mbo] 62: num_leaves=19; min_data_in_leaf=37; learning_rate=0.117; feature_fraction=0.862; bagging_fraction=0.888; max_depth=5; min_sum_hessian_in_leaf=0.0832; lambda_l1=2.73; lambda_l2=4.78; min_gain_to_split=0.0364 : y = 0.929 : 5.2 secs : infill_ei\n",
      "\n",
      "Thu Jul 31 15:16:53 2025 AUC 0.928428618454944\n",
      "\n",
      "[mbo] 63: num_leaves=43; min_data_in_leaf=40; learning_rate=0.0761; feature_fraction=0.899; bagging_fraction=0.857; max_depth=7; min_sum_hessian_in_leaf=0.031; lambda_l1=1.04; lambda_l2=4.97; min_gain_to_split=0.0338 : y = 0.928 : 7.9 secs : infill_ei\n",
      "\n",
      "Thu Jul 31 15:17:01 2025 AUC 0.928912453940336\n",
      "\n",
      "[mbo] 64: num_leaves=20; min_data_in_leaf=29; learning_rate=0.109; feature_fraction=0.894; bagging_fraction=0.92; max_depth=5; min_sum_hessian_in_leaf=0.0647; lambda_l1=4.61; lambda_l2=2.62; min_gain_to_split=0.029 : y = 0.929 : 5.6 secs : infill_ei\n",
      "\n",
      "Thu Jul 31 15:17:08 2025 AUC 0.928571574216541\n",
      "\n",
      "[mbo] 65: num_leaves=55; min_data_in_leaf=42; learning_rate=0.119; feature_fraction=0.877; bagging_fraction=0.909; max_depth=4; min_sum_hessian_in_leaf=0.0722; lambda_l1=4.78; lambda_l2=3.74; min_gain_to_split=0.0172 : y = 0.929 : 4.5 secs : infill_ei\n",
      "\n",
      "Thu Jul 31 15:17:15 2025 AUC 0.929002703359456\n",
      "\n",
      "[mbo] 66: num_leaves=13; min_data_in_leaf=37; learning_rate=0.161; feature_fraction=0.889; bagging_fraction=0.912; max_depth=5; min_sum_hessian_in_leaf=0.042; lambda_l1=4.45; lambda_l2=4.09; min_gain_to_split=0.0114 : y = 0.929 : 4.9 secs : infill_ei\n",
      "\n",
      "Thu Jul 31 15:17:21 2025 AUC 0.928249971296607\n",
      "\n",
      "[mbo] 67: num_leaves=53; min_data_in_leaf=20; learning_rate=0.172; feature_fraction=0.98; bagging_fraction=0.973; max_depth=3; min_sum_hessian_in_leaf=0.0304; lambda_l1=3.99; lambda_l2=1.67; min_gain_to_split=0.0946 : y = 0.928 : 3.6 secs : infill_ei\n",
      "\n",
      "Thu Jul 31 15:17:33 2025 AUC 0.929112880940041\n",
      "\n",
      "[mbo] 68: num_leaves=46; min_data_in_leaf=32; learning_rate=0.0744; feature_fraction=0.977; bagging_fraction=0.887; max_depth=7; min_sum_hessian_in_leaf=0.00313; lambda_l1=2.7; lambda_l2=4.72; min_gain_to_split=0.0383 : y = 0.929 : 9.2 secs : infill_ei\n",
      "\n",
      "Thu Jul 31 15:17:40 2025 AUC 0.929794244636832\n",
      "\n",
      "[mbo] 69: num_leaves=22; min_data_in_leaf=37; learning_rate=0.132; feature_fraction=0.864; bagging_fraction=0.924; max_depth=5; min_sum_hessian_in_leaf=0.00646; lambda_l1=4.15; lambda_l2=3.23; min_gain_to_split=0.0308 : y = 0.93 : 5.5 secs : infill_ei\n",
      "\n",
      "Thu Jul 31 15:17:49 2025 AUC 0.928372211838064\n",
      "\n",
      "[mbo] 70: num_leaves=22; min_data_in_leaf=36; learning_rate=0.112; feature_fraction=0.872; bagging_fraction=0.858; max_depth=5; min_sum_hessian_in_leaf=0.0177; lambda_l1=3.98; lambda_l2=3.19; min_gain_to_split=0.0411 : y = 0.928 : 5.5 secs : infill_ei\n",
      "\n",
      "Thu Jul 31 15:17:58 2025 AUC 0.928822949335385\n",
      "\n",
      "[mbo] 71: num_leaves=23; min_data_in_leaf=35; learning_rate=0.0714; feature_fraction=0.964; bagging_fraction=0.87; max_depth=8; min_sum_hessian_in_leaf=0.0472; lambda_l1=4.56; lambda_l2=4.16; min_gain_to_split=0.0248 : y = 0.929 : 7.1 secs : infill_ei\n",
      "\n",
      "Thu Jul 31 15:18:06 2025 AUC 0.927630605730587\n",
      "\n",
      "[mbo] 72: num_leaves=19; min_data_in_leaf=39; learning_rate=0.152; feature_fraction=0.878; bagging_fraction=0.929; max_depth=5; min_sum_hessian_in_leaf=0.00196; lambda_l1=4.68; lambda_l2=3.64; min_gain_to_split=0.0172 : y = 0.928 : 5.3 secs : infill_ei\n",
      "\n",
      "Thu Jul 31 15:18:13 2025 AUC 0.92918336623129\n",
      "\n",
      "[mbo] 73: num_leaves=13; min_data_in_leaf=24; learning_rate=0.127; feature_fraction=0.851; bagging_fraction=0.939; max_depth=5; min_sum_hessian_in_leaf=0.0239; lambda_l1=4.42; lambda_l2=2.74; min_gain_to_split=0.0336 : y = 0.929 : 4.9 secs : infill_ei\n",
      "\n",
      "Thu Jul 31 15:18:22 2025 AUC 0.929204666921748\n",
      "\n",
      "[mbo] 74: num_leaves=18; min_data_in_leaf=18; learning_rate=0.0715; feature_fraction=0.894; bagging_fraction=0.873; max_depth=8; min_sum_hessian_in_leaf=0.0538; lambda_l1=1.46; lambda_l2=4.47; min_gain_to_split=0.0564 : y = 0.929 : 6.3 secs : infill_ei\n",
      "\n",
      "Thu Jul 31 15:18:30 2025 AUC 0.927829495150799\n",
      "\n",
      "[mbo] 75: num_leaves=27; min_data_in_leaf=37; learning_rate=0.126; feature_fraction=0.872; bagging_fraction=0.962; max_depth=5; min_sum_hessian_in_leaf=0.057; lambda_l1=4.61; lambda_l2=4; min_gain_to_split=0.00289 : y = 0.928 : 5.7 secs : infill_ei\n",
      "\n",
      "Thu Jul 31 15:18:39 2025 AUC 0.928749068561786\n",
      "\n",
      "[mbo] 76: num_leaves=25; min_data_in_leaf=31; learning_rate=0.13; feature_fraction=0.855; bagging_fraction=0.869; max_depth=5; min_sum_hessian_in_leaf=0.0321; lambda_l1=4.46; lambda_l2=4.8; min_gain_to_split=0.028 : y = 0.929 : 6.5 secs : infill_ei\n",
      "\n",
      "Thu Jul 31 15:18:46 2025 AUC 0.928823774323547\n",
      "\n",
      "[mbo] 77: num_leaves=12; min_data_in_leaf=41; learning_rate=0.132; feature_fraction=0.885; bagging_fraction=0.889; max_depth=5; min_sum_hessian_in_leaf=0.0856; lambda_l1=4.25; lambda_l2=2.21; min_gain_to_split=0.025 : y = 0.929 : 4.7 secs : infill_ei\n",
      "\n",
      "Thu Jul 31 15:18:54 2025 AUC 0.92916935646232\n",
      "\n",
      "[mbo] 78: num_leaves=21; min_data_in_leaf=28; learning_rate=0.124; feature_fraction=0.894; bagging_fraction=0.904; max_depth=5; min_sum_hessian_in_leaf=0.00116; lambda_l1=4.91; lambda_l2=3.53; min_gain_to_split=0.028 : y = 0.929 : 5.4 secs : infill_ei\n",
      "\n",
      "Thu Jul 31 15:19:02 2025 AUC 0.929314001985983\n",
      "\n",
      "[mbo] 79: num_leaves=18; min_data_in_leaf=36; learning_rate=0.13; feature_fraction=0.85; bagging_fraction=0.918; max_depth=5; min_sum_hessian_in_leaf=0.0106; lambda_l1=4.98; lambda_l2=2.07; min_gain_to_split=0.00514 : y = 0.929 : 5.3 secs : infill_ei\n",
      "\n",
      "Thu Jul 31 15:19:10 2025 AUC 0.928247631569776\n",
      "\n",
      "[mbo] 80: num_leaves=46; min_data_in_leaf=7; learning_rate=0.146; feature_fraction=0.894; bagging_fraction=0.857; max_depth=5; min_sum_hessian_in_leaf=0.0721; lambda_l1=4.84; lambda_l2=4.27; min_gain_to_split=0.0249 : y = 0.928 : 5.8 secs : infill_ei\n",
      "\n",
      "Thu Jul 31 15:19:18 2025 AUC 0.928014064384004\n",
      "\n",
      "[mbo] 81: num_leaves=62; min_data_in_leaf=35; learning_rate=0.125; feature_fraction=0.858; bagging_fraction=0.926; max_depth=5; min_sum_hessian_in_leaf=0.0099; lambda_l1=3.28; lambda_l2=4.09; min_gain_to_split=0.0225 : y = 0.928 : 5.5 secs : infill_ei\n",
      "\n",
      "Thu Jul 31 15:19:30 2025 AUC 0.929192150896327\n",
      "\n",
      "[mbo] 82: num_leaves=52; min_data_in_leaf=35; learning_rate=0.0712; feature_fraction=0.985; bagging_fraction=0.953; max_depth=7; min_sum_hessian_in_leaf=0.0363; lambda_l1=1.83; lambda_l2=4.83; min_gain_to_split=0.0392 : y = 0.929 : 8.8 secs : infill_ei\n",
      "\n",
      "Thu Jul 31 15:19:42 2025 AUC 0.929810188235592\n",
      "\n",
      "[mbo] 83: num_leaves=46; min_data_in_leaf=27; learning_rate=0.0738; feature_fraction=0.959; bagging_fraction=0.938; max_depth=7; min_sum_hessian_in_leaf=0.0522; lambda_l1=0.751; lambda_l2=4.09; min_gain_to_split=0.0381 : y = 0.93 : 9.5 secs : infill_ei\n",
      "\n",
      "Thu Jul 31 15:19:52 2025 AUC 0.927243754705835\n",
      "\n",
      "[mbo] 84: num_leaves=35; min_data_in_leaf=26; learning_rate=0.0725; feature_fraction=0.97; bagging_fraction=0.875; max_depth=7; min_sum_hessian_in_leaf=0.0529; lambda_l1=0.677; lambda_l2=4.99; min_gain_to_split=0.0497 : y = 0.927 : 8.1 secs : infill_ei\n",
      "\n",
      "Thu Jul 31 15:20:04 2025 AUC 0.92961561860836\n",
      "\n",
      "[mbo] 85: num_leaves=47; min_data_in_leaf=45; learning_rate=0.0735; feature_fraction=0.971; bagging_fraction=0.904; max_depth=8; min_sum_hessian_in_leaf=0.0288; lambda_l1=2.65; lambda_l2=4.3; min_gain_to_split=0.0315 : y = 0.93 : 9.4 secs : infill_ei\n",
      "\n",
      "Thu Jul 31 15:20:16 2025 AUC 0.928229908563009\n",
      "\n",
      "[mbo] 86: num_leaves=48; min_data_in_leaf=26; learning_rate=0.0776; feature_fraction=0.97; bagging_fraction=0.919; max_depth=7; min_sum_hessian_in_leaf=0.036; lambda_l1=2.58; lambda_l2=4.65; min_gain_to_split=0.0193 : y = 0.928 : 8.4 secs : infill_ei\n",
      "\n",
      "Thu Jul 31 15:20:24 2025 AUC 0.928315828962289\n",
      "\n",
      "[mbo] 87: num_leaves=17; min_data_in_leaf=35; learning_rate=0.131; feature_fraction=0.861; bagging_fraction=0.915; max_depth=6; min_sum_hessian_in_leaf=0.0326; lambda_l1=3.51; lambda_l2=4.52; min_gain_to_split=0.0544 : y = 0.928 : 5.7 secs : infill_ei\n",
      "\n",
      "Thu Jul 31 15:20:34 2025 AUC 0.928832649472647\n",
      "\n",
      "[mbo] 88: num_leaves=45; min_data_in_leaf=35; learning_rate=0.0871; feature_fraction=0.981; bagging_fraction=0.943; max_depth=6; min_sum_hessian_in_leaf=0.0896; lambda_l1=0.933; lambda_l2=4.22; min_gain_to_split=0.0427 : y = 0.929 : 7.0 secs : infill_ei\n",
      "\n",
      "Thu Jul 31 15:20:45 2025 AUC 0.927652408581894\n",
      "\n",
      "[mbo] 89: num_leaves=31; min_data_in_leaf=47; learning_rate=0.0829; feature_fraction=0.963; bagging_fraction=0.911; max_depth=8; min_sum_hessian_in_leaf=0.0522; lambda_l1=0.34; lambda_l2=3.32; min_gain_to_split=0.0378 : y = 0.928 : 7.5 secs : infill_ei\n",
      "\n",
      "Thu Jul 31 15:20:53 2025 AUC 0.928858371138441\n",
      "\n",
      "[mbo] 90: num_leaves=17; min_data_in_leaf=28; learning_rate=0.0713; feature_fraction=0.899; bagging_fraction=0.909; max_depth=8; min_sum_hessian_in_leaf=0.0395; lambda_l1=3.22; lambda_l2=4.92; min_gain_to_split=0.0356 : y = 0.929 : 6.1 secs : infill_ei\n",
      "\n",
      "Thu Jul 31 15:21:07 2025 AUC 0.929060346869707\n",
      "\n",
      "[mbo] 91: num_leaves=47; min_data_in_leaf=30; learning_rate=0.0706; feature_fraction=0.962; bagging_fraction=0.912; max_depth=8; min_sum_hessian_in_leaf=0.022; lambda_l1=1.11; lambda_l2=3.98; min_gain_to_split=0.0602 : y = 0.929 : 10.4 secs : infill_ei\n",
      "\n",
      "Thu Jul 31 15:21:18 2025 AUC 0.928325158324132\n",
      "\n",
      "[mbo] 92: num_leaves=30; min_data_in_leaf=32; learning_rate=0.071; feature_fraction=0.893; bagging_fraction=0.857; max_depth=8; min_sum_hessian_in_leaf=0.0173; lambda_l1=4.51; lambda_l2=2.04; min_gain_to_split=0.00817 : y = 0.928 : 8.0 secs : infill_ei\n",
      "\n",
      "Thu Jul 31 15:21:26 2025 AUC 0.929105754684002\n",
      "\n",
      "[mbo] 93: num_leaves=17; min_data_in_leaf=39; learning_rate=0.123; feature_fraction=0.852; bagging_fraction=0.965; max_depth=5; min_sum_hessian_in_leaf=0.0144; lambda_l1=4.94; lambda_l2=2.22; min_gain_to_split=0.0292 : y = 0.929 : 5.2 secs : infill_ei\n",
      "\n",
      "Thu Jul 31 15:21:34 2025 AUC 0.928983964754815\n",
      "\n",
      "[mbo] 94: num_leaves=16; min_data_in_leaf=36; learning_rate=0.131; feature_fraction=0.867; bagging_fraction=0.906; max_depth=5; min_sum_hessian_in_leaf=0.0375; lambda_l1=2.36; lambda_l2=3.11; min_gain_to_split=0.0307 : y = 0.929 : 5.1 secs : infill_ei\n",
      "\n",
      "Thu Jul 31 15:21:41 2025 AUC 0.928627754505018\n",
      "\n",
      "[mbo] 95: num_leaves=50; min_data_in_leaf=30; learning_rate=0.136; feature_fraction=0.862; bagging_fraction=0.941; max_depth=4; min_sum_hessian_in_leaf=0.0233; lambda_l1=4.72; lambda_l2=1.38; min_gain_to_split=0.0263 : y = 0.929 : 4.5 secs : infill_ei\n",
      "\n",
      "Thu Jul 31 15:21:48 2025 AUC 0.92952607008879\n",
      "\n",
      "[mbo] 96: num_leaves=25; min_data_in_leaf=34; learning_rate=0.13; feature_fraction=0.859; bagging_fraction=0.906; max_depth=4; min_sum_hessian_in_leaf=0.0117; lambda_l1=4.51; lambda_l2=2.34; min_gain_to_split=0.0389 : y = 0.93 : 4.4 secs : infill_ei\n",
      "\n",
      "Thu Jul 31 15:21:57 2025 AUC 0.928997772597169\n",
      "\n",
      "[mbo] 97: num_leaves=47; min_data_in_leaf=29; learning_rate=0.129; feature_fraction=0.887; bagging_fraction=0.934; max_depth=5; min_sum_hessian_in_leaf=0.0664; lambda_l1=4.59; lambda_l2=3.84; min_gain_to_split=0.0392 : y = 0.929 : 5.7 secs : infill_ei\n",
      "\n",
      "Thu Jul 31 15:22:08 2025 AUC 0.928632278035805\n",
      "\n",
      "[mbo] 98: num_leaves=46; min_data_in_leaf=33; learning_rate=0.0718; feature_fraction=0.913; bagging_fraction=0.941; max_depth=7; min_sum_hessian_in_leaf=0.0409; lambda_l1=0.612; lambda_l2=4.47; min_gain_to_split=0.0354 : y = 0.929 : 8.2 secs : infill_ei\n",
      "\n",
      "Thu Jul 31 15:22:18 2025 AUC 0.928867385263499\n",
      "\n",
      "[mbo] 99: num_leaves=49; min_data_in_leaf=36; learning_rate=0.0732; feature_fraction=0.978; bagging_fraction=0.893; max_depth=6; min_sum_hessian_in_leaf=0.0303; lambda_l1=2.47; lambda_l2=4.55; min_gain_to_split=0.0402 : y = 0.929 : 7.0 secs : infill_ei\n",
      "\n",
      "Thu Jul 31 15:22:26 2025 AUC 0.92805126076079\n",
      "\n",
      "[mbo] 100: num_leaves=11; min_data_in_leaf=36; learning_rate=0.116; feature_fraction=0.877; bagging_fraction=0.921; max_depth=5; min_sum_hessian_in_leaf=0.0307; lambda_l1=4.97; lambda_l2=4.28; min_gain_to_split=0.0104 : y = 0.928 : 4.7 secs : infill_ei\n",
      "\n",
      "Thu Jul 31 15:22:40 2025 AUC 0.928564493132607\n",
      "\n",
      "[mbo] 101: num_leaves=63; min_data_in_leaf=47; learning_rate=0.0668; feature_fraction=0.977; bagging_fraction=0.888; max_depth=8; min_sum_hessian_in_leaf=0.079; lambda_l1=1.22; lambda_l2=3.71; min_gain_to_split=0.018 : y = 0.929 : 10.7 secs : infill_ei\n",
      "\n",
      "Thu Jul 31 15:22:49 2025 AUC 0.929334522417653\n",
      "\n",
      "[mbo] 102: num_leaves=17; min_data_in_leaf=8; learning_rate=0.074; feature_fraction=0.924; bagging_fraction=0.863; max_depth=8; min_sum_hessian_in_leaf=0.0198; lambda_l1=1.31; lambda_l2=1.51; min_gain_to_split=0.0611 : y = 0.929 : 6.3 secs : infill_ei\n",
      "\n",
      "Thu Jul 31 15:23:00 2025 AUC 0.928222729505367\n",
      "\n",
      "[mbo] 103: num_leaves=47; min_data_in_leaf=20; learning_rate=0.074; feature_fraction=0.954; bagging_fraction=0.966; max_depth=7; min_sum_hessian_in_leaf=0.0669; lambda_l1=1.24; lambda_l2=4.45; min_gain_to_split=0.0351 : y = 0.928 : 8.8 secs : infill_ei\n",
      "\n",
      "Thu Jul 31 15:23:12 2025 AUC 0.928406440909859\n",
      "\n",
      "[mbo] 104: num_leaves=44; min_data_in_leaf=49; learning_rate=0.0744; feature_fraction=0.973; bagging_fraction=0.896; max_depth=8; min_sum_hessian_in_leaf=0.0366; lambda_l1=1.45; lambda_l2=3.59; min_gain_to_split=0.0369 : y = 0.928 : 9.0 secs : infill_ei\n",
      "\n",
      "Thu Jul 31 15:23:22 2025 AUC 0.929602148650696\n",
      "\n",
      "[mbo] 105: num_leaves=20; min_data_in_leaf=25; learning_rate=0.0817; feature_fraction=0.875; bagging_fraction=0.896; max_depth=7; min_sum_hessian_in_leaf=0.0838; lambda_l1=3.07; lambda_l2=3.38; min_gain_to_split=0.0185 : y = 0.93 : 6.3 secs : infill_ei\n",
      "\n",
      "Thu Jul 31 15:23:33 2025 AUC 0.928884472985174\n",
      "\n",
      "[mbo] 106: num_leaves=53; min_data_in_leaf=30; learning_rate=0.0717; feature_fraction=0.949; bagging_fraction=0.922; max_depth=6; min_sum_hessian_in_leaf=0.0903; lambda_l1=2.56; lambda_l2=2.9; min_gain_to_split=0.0214 : y = 0.929 : 7.6 secs : infill_ei\n",
      "\n",
      "Saved the current state after iteration 107 in the file bayesiana.RDATA.\n",
      "\n",
      "Thu Jul 31 15:23:47 2025 AUC 0.930175503779964\n",
      "\n",
      "[mbo] 107: num_leaves=16; min_data_in_leaf=7; learning_rate=0.0763; feature_fraction=0.903; bagging_fraction=0.9; max_depth=8; min_sum_hessian_in_leaf=0.048; lambda_l1=1.55; lambda_l2=4.03; min_gain_to_split=0.0418 : y = 0.93 : 6.1 secs : infill_ei\n",
      "\n",
      "Thu Jul 31 15:23:56 2025 AUC 0.928604369253355\n",
      "\n",
      "[mbo] 108: num_leaves=17; min_data_in_leaf=34; learning_rate=0.131; feature_fraction=0.858; bagging_fraction=0.893; max_depth=4; min_sum_hessian_in_leaf=0.0119; lambda_l1=3.26; lambda_l2=3.93; min_gain_to_split=0.0322 : y = 0.929 : 4.4 secs : infill_ei\n",
      "\n",
      "Thu Jul 31 15:24:04 2025 AUC 0.928646450146702\n",
      "\n",
      "[mbo] 109: num_leaves=10; min_data_in_leaf=25; learning_rate=0.0976; feature_fraction=0.92; bagging_fraction=0.917; max_depth=7; min_sum_hessian_in_leaf=0.0814; lambda_l1=0.734; lambda_l2=3.57; min_gain_to_split=0.0325 : y = 0.929 : 4.8 secs : infill_ei\n",
      "\n",
      "Thu Jul 31 15:24:14 2025 AUC 0.928454304819902\n",
      "\n",
      "[mbo] 110: num_leaves=20; min_data_in_leaf=6; learning_rate=0.072; feature_fraction=0.882; bagging_fraction=0.896; max_depth=8; min_sum_hessian_in_leaf=0.0514; lambda_l1=3.22; lambda_l2=3.9; min_gain_to_split=0.0391 : y = 0.928 : 6.7 secs : infill_ei\n",
      "\n",
      "Thu Jul 31 15:24:24 2025 AUC 0.92868039196773\n",
      "\n",
      "[mbo] 111: num_leaves=19; min_data_in_leaf=20; learning_rate=0.0884; feature_fraction=0.923; bagging_fraction=0.879; max_depth=8; min_sum_hessian_in_leaf=0.0405; lambda_l1=0.943; lambda_l2=4.68; min_gain_to_split=0.0426 : y = 0.929 : 6.5 secs : infill_ei\n",
      "\n",
      "Thu Jul 31 15:24:33 2025 AUC 0.927586182903438\n",
      "\n",
      "[mbo] 112: num_leaves=18; min_data_in_leaf=12; learning_rate=0.0841; feature_fraction=0.924; bagging_fraction=0.928; max_depth=8; min_sum_hessian_in_leaf=0.0904; lambda_l1=2.66; lambda_l2=1.84; min_gain_to_split=0.0116 : y = 0.928 : 6.4 secs : infill_ei\n",
      "\n",
      "Thu Jul 31 15:24:45 2025 AUC 0.930073706867341\n",
      "\n",
      "[mbo] 113: num_leaves=28; min_data_in_leaf=27; learning_rate=0.0763; feature_fraction=0.9; bagging_fraction=0.899; max_depth=8; min_sum_hessian_in_leaf=0.0762; lambda_l1=1.26; lambda_l2=4.23; min_gain_to_split=0.00918 : y = 0.93 : 8.6 secs : infill_ei\n",
      "\n",
      "Thu Jul 31 15:24:55 2025 AUC 0.928580856215661\n",
      "\n",
      "[mbo] 114: num_leaves=16; min_data_in_leaf=31; learning_rate=0.0715; feature_fraction=0.9; bagging_fraction=0.899; max_depth=8; min_sum_hessian_in_leaf=0.0802; lambda_l1=1.96; lambda_l2=3.79; min_gain_to_split=0.0167 : y = 0.929 : 6.1 secs : infill_ei\n",
      "\n",
      "Thu Jul 31 15:25:04 2025 AUC 0.928549241077931\n",
      "\n",
      "[mbo] 115: num_leaves=19; min_data_in_leaf=37; learning_rate=0.129; feature_fraction=0.897; bagging_fraction=0.889; max_depth=5; min_sum_hessian_in_leaf=0.0268; lambda_l1=4.14; lambda_l2=4.16; min_gain_to_split=0.0327 : y = 0.929 : 5.4 secs : infill_ei\n",
      "\n",
      "Thu Jul 31 15:25:15 2025 AUC 0.927537752978155\n",
      "\n",
      "[mbo] 116: num_leaves=25; min_data_in_leaf=25; learning_rate=0.0794; feature_fraction=0.889; bagging_fraction=0.925; max_depth=8; min_sum_hessian_in_leaf=0.051; lambda_l1=0.27; lambda_l2=4.04; min_gain_to_split=0.0366 : y = 0.928 : 7.3 secs : infill_ei\n",
      "\n",
      "Thu Jul 31 15:25:27 2025 AUC 0.928760457322969\n",
      "\n",
      "[mbo] 117: num_leaves=57; min_data_in_leaf=18; learning_rate=0.0769; feature_fraction=0.897; bagging_fraction=0.902; max_depth=7; min_sum_hessian_in_leaf=0.0771; lambda_l1=1.21; lambda_l2=4.25; min_gain_to_split=0.0239 : y = 0.929 : 9.0 secs : infill_ei\n",
      "\n",
      "Thu Jul 31 15:25:38 2025 AUC 0.929565892661976\n",
      "\n",
      "[mbo] 118: num_leaves=25; min_data_in_leaf=32; learning_rate=0.078; feature_fraction=0.874; bagging_fraction=0.879; max_depth=6; min_sum_hessian_in_leaf=0.087; lambda_l1=1.47; lambda_l2=4.65; min_gain_to_split=0.0102 : y = 0.93 : 6.6 secs : infill_ei\n",
      "\n",
      "Thu Jul 31 15:25:50 2025 AUC 0.928645966662032\n",
      "\n",
      "[mbo] 119: num_leaves=33; min_data_in_leaf=31; learning_rate=0.0732; feature_fraction=0.982; bagging_fraction=0.948; max_depth=7; min_sum_hessian_in_leaf=0.045; lambda_l1=0.904; lambda_l2=4.87; min_gain_to_split=0.0368 : y = 0.929 : 8.7 secs : infill_ei\n",
      "\n",
      "Thu Jul 31 15:26:01 2025 AUC 0.928641149683753\n",
      "\n",
      "[mbo] 120: num_leaves=31; min_data_in_leaf=9; learning_rate=0.091; feature_fraction=0.906; bagging_fraction=0.89; max_depth=8; min_sum_hessian_in_leaf=0.0706; lambda_l1=4.55; lambda_l2=4.43; min_gain_to_split=0.00126 : y = 0.929 : 8.1 secs : infill_ei\n",
      "\n",
      "Saved the final state in the file bayesiana.RDATA\n",
      "\n"
     ]
    }
   ],
   "source": [
    "# inicio la optimizacion bayesiana, retomando si ya existe\n",
    "# es la celda mas lenta de todo el notebook\n",
    "\n",
    "if (!file.exists(kbayesiana)) {\n",
    "  bayesiana_salida <- mbo(obj.fun, learner= surr.km, control= ctrl)\n",
    "} else {\n",
    "  bayesiana_salida <- mboContinue(kbayesiana) # retomo en caso que ya exista\n",
    "}"
   ]
  },
  {
   "cell_type": "code",
   "execution_count": 130,
   "metadata": {
    "id": "ssk5nnMk6INK"
   },
   "outputs": [
    {
     "data": {
      "text/html": [
       "<style>\n",
       ".list-inline {list-style: none; margin:0; padding: 0}\n",
       ".list-inline>li {display: inline-block}\n",
       ".list-inline>li:not(:last-child)::after {content: \"\\00b7\"; padding: 0 .5ex}\n",
       "</style>\n",
       "<ol class=list-inline><li>'num_leaves'</li><li>'min_data_in_leaf'</li><li>'learning_rate'</li><li>'feature_fraction'</li><li>'bagging_fraction'</li><li>'max_depth'</li><li>'min_sum_hessian_in_leaf'</li><li>'lambda_l1'</li><li>'lambda_l2'</li><li>'min_gain_to_split'</li><li>'y'</li><li>'dob'</li><li>'eol'</li><li>'error.message'</li><li>'exec.time'</li><li>'ei'</li><li>'error.model'</li><li>'train.time'</li><li>'prop.type'</li><li>'propose.time'</li><li>'se'</li><li>'mean'</li></ol>\n"
      ],
      "text/latex": [
       "\\begin{enumerate*}\n",
       "\\item 'num\\_leaves'\n",
       "\\item 'min\\_data\\_in\\_leaf'\n",
       "\\item 'learning\\_rate'\n",
       "\\item 'feature\\_fraction'\n",
       "\\item 'bagging\\_fraction'\n",
       "\\item 'max\\_depth'\n",
       "\\item 'min\\_sum\\_hessian\\_in\\_leaf'\n",
       "\\item 'lambda\\_l1'\n",
       "\\item 'lambda\\_l2'\n",
       "\\item 'min\\_gain\\_to\\_split'\n",
       "\\item 'y'\n",
       "\\item 'dob'\n",
       "\\item 'eol'\n",
       "\\item 'error.message'\n",
       "\\item 'exec.time'\n",
       "\\item 'ei'\n",
       "\\item 'error.model'\n",
       "\\item 'train.time'\n",
       "\\item 'prop.type'\n",
       "\\item 'propose.time'\n",
       "\\item 'se'\n",
       "\\item 'mean'\n",
       "\\end{enumerate*}\n"
      ],
      "text/markdown": [
       "1. 'num_leaves'\n",
       "2. 'min_data_in_leaf'\n",
       "3. 'learning_rate'\n",
       "4. 'feature_fraction'\n",
       "5. 'bagging_fraction'\n",
       "6. 'max_depth'\n",
       "7. 'min_sum_hessian_in_leaf'\n",
       "8. 'lambda_l1'\n",
       "9. 'lambda_l2'\n",
       "10. 'min_gain_to_split'\n",
       "11. 'y'\n",
       "12. 'dob'\n",
       "13. 'eol'\n",
       "14. 'error.message'\n",
       "15. 'exec.time'\n",
       "16. 'ei'\n",
       "17. 'error.model'\n",
       "18. 'train.time'\n",
       "19. 'prop.type'\n",
       "20. 'propose.time'\n",
       "21. 'se'\n",
       "22. 'mean'\n",
       "\n",
       "\n"
      ],
      "text/plain": [
       " [1] \"num_leaves\"              \"min_data_in_leaf\"       \n",
       " [3] \"learning_rate\"           \"feature_fraction\"       \n",
       " [5] \"bagging_fraction\"        \"max_depth\"              \n",
       " [7] \"min_sum_hessian_in_leaf\" \"lambda_l1\"              \n",
       " [9] \"lambda_l2\"               \"min_gain_to_split\"      \n",
       "[11] \"y\"                       \"dob\"                    \n",
       "[13] \"eol\"                     \"error.message\"          \n",
       "[15] \"exec.time\"               \"ei\"                     \n",
       "[17] \"error.model\"             \"train.time\"             \n",
       "[19] \"prop.type\"               \"propose.time\"           \n",
       "[21] \"se\"                      \"mean\"                   "
      ]
     },
     "metadata": {},
     "output_type": "display_data"
    }
   ],
   "source": [
    "tb_bayesiana <- as.data.table(bayesiana_salida$opt.path)\n",
    "colnames( tb_bayesiana)"
   ]
  },
  {
   "cell_type": "code",
   "execution_count": 131,
   "metadata": {
    "id": "u4zq-vknhjGc"
   },
   "outputs": [],
   "source": [
    "# almaceno los resultados de la Bayesian Optimization\n",
    "# y capturo los mejores hiperparametros encontrados\n",
    "\n",
    "tb_bayesiana <- as.data.table(bayesiana_salida$opt.path)\n",
    "\n",
    "tb_bayesiana[, iter := .I]\n",
    "\n",
    "# ordeno en forma descendente por AUC = y\n",
    "setorder(tb_bayesiana, -y)\n",
    "\n",
    "# grabo para eventualmente poder utilizarlos en OTRA corrida\n",
    "fwrite( tb_bayesiana,\n",
    "  file= \"BO_log.txt\",\n",
    "  sep= \"\\t\"\n",
    ")\n",
    "\n",
    "# los mejores hiperparámetros son los que quedaron en el registro 1 de la tabla\n",
    "PARAM$out$lgbm$mejores_hiperparametros <- tb_bayesiana[\n",
    "  1, # el primero es el de mejor AUC\n",
    "  setdiff(colnames(tb_bayesiana),\n",
    "    c(\"y\",\"dob\",\"eol\",\"error.message\",\"exec.time\",\"ei\",\"error.model\",\n",
    "      \"train.time\",\"prop.type\",\"propose.time\",\"se\",\"mean\",\"iter\")),\n",
    "  with= FALSE\n",
    "]\n",
    "\n",
    "\n",
    "PARAM$out$lgbm$y <- tb_bayesiana[1, y]\n"
   ]
  },
  {
   "cell_type": "code",
   "execution_count": 132,
   "metadata": {
    "id": "E8v2eA427N8e"
   },
   "outputs": [],
   "source": [
    "write_yaml( PARAM, file=\"PARAM.yml\")"
   ]
  },
  {
   "cell_type": "code",
   "execution_count": 133,
   "metadata": {
    "id": "iBTWexVU7PGC"
   },
   "outputs": [
    {
     "name": "stdout",
     "output_type": "stream",
     "text": [
      "   num_leaves min_data_in_leaf learning_rate feature_fraction bagging_fraction\n",
      "        <int>            <int>         <num>            <num>            <num>\n",
      "1:         16                7    0.07629124          0.90286        0.9001251\n",
      "   max_depth min_sum_hessian_in_leaf lambda_l1 lambda_l2 min_gain_to_split\n",
      "       <int>                   <num>     <num>     <num>             <num>\n",
      "1:         8              0.04798395  1.550775  4.028847        0.04175878\n",
      "[1] 0.9301755\n"
     ]
    }
   ],
   "source": [
    "print(PARAM$out$lgbm$mejores_hiperparametros)\n",
    "print(PARAM$out$lgbm$y)"
   ]
  },
  {
   "cell_type": "markdown",
   "metadata": {
    "id": "TKsVZmAnhwX-"
   },
   "source": [
    "## 2.3  Produccion"
   ]
  },
  {
   "cell_type": "markdown",
   "metadata": {
    "id": "RQ_C33Tr5B_9"
   },
   "source": [
    "### Final Training\n",
    "Construyo el modelo final, que es uno solo, no hace ningun tipo de particion < training, validation, testing>]"
   ]
  },
  {
   "cell_type": "code",
   "execution_count": 134,
   "metadata": {
    "id": "eDqfyA14hzwv"
   },
   "outputs": [],
   "source": [
    "setwd(\"/content/buckets/b1/exp\")\n",
    "experimento <- paste0(\"exp\", PARAM$experimento)\n",
    "dir.create(experimento, showWarnings= FALSE)\n",
    "setwd( paste0(\"/content/buckets/b1/exp/\", experimento ))"
   ]
  },
  {
   "cell_type": "markdown",
   "metadata": {
    "id": "8qFmFivf5Iet"
   },
   "source": [
    "#### Final Training Dataset\n",
    "\n",
    "Aqui esta la gran decision de en qué meses hago el Final Training\n",
    "<br> debo utilizar los mejores hiperparámetros que encontré en la optimización bayesiana"
   ]
  },
  {
   "cell_type": "code",
   "execution_count": 135,
   "metadata": {
    "id": "lg5WVZncvc7H"
   },
   "outputs": [],
   "source": [
    "# clase01\n",
    "dataset[, clase01 := ifelse(clase_ternaria %in% c(\"BAJA+1\", \"BAJA+2\"), 1L, 0L)]"
   ]
  },
  {
   "cell_type": "code",
   "execution_count": 136,
   "metadata": {
    "id": "yc9QzXREv0xf"
   },
   "outputs": [],
   "source": [
    "dataset_train <- dataset[foto_mes %in% c(202107)]"
   ]
  },
  {
   "cell_type": "code",
   "execution_count": 137,
   "metadata": {
    "id": "thjdqEBLuvNt"
   },
   "outputs": [],
   "source": [
    "# dejo los datos en el formato que necesita LightGBM\n",
    "\n",
    "dtrain <- lgb.Dataset(\n",
    "  data= data.matrix(dataset_train[, campos_buenos, with= FALSE]),\n",
    "  label= dataset_train[, clase01]\n",
    ")"
   ]
  },
  {
   "cell_type": "markdown",
   "metadata": {
    "id": "VNUa-WSz5Oqu"
   },
   "source": [
    "#### Final Training Hyperparameters"
   ]
  },
  {
   "cell_type": "code",
   "execution_count": 138,
   "metadata": {
    "id": "FgCcvBfEwImu"
   },
   "outputs": [
    {
     "data": {
      "text/html": [
       "<dl>\n",
       "\t<dt>$boosting</dt>\n",
       "\t\t<dd>'gbdt'</dd>\n",
       "\t<dt>$objective</dt>\n",
       "\t\t<dd>'binary'</dd>\n",
       "\t<dt>$metric</dt>\n",
       "\t\t<dd>'auc'</dd>\n",
       "\t<dt>$first_metric_only</dt>\n",
       "\t\t<dd>TRUE</dd>\n",
       "\t<dt>$boost_from_average</dt>\n",
       "\t\t<dd>TRUE</dd>\n",
       "\t<dt>$feature_pre_filter</dt>\n",
       "\t\t<dd>FALSE</dd>\n",
       "\t<dt>$force_row_wise</dt>\n",
       "\t\t<dd>TRUE</dd>\n",
       "\t<dt>$verbosity</dt>\n",
       "\t\t<dd>-100</dd>\n",
       "\t<dt>$seed</dt>\n",
       "\t\t<dd>100019</dd>\n",
       "\t<dt>$num_iterations</dt>\n",
       "\t\t<dd>120</dd>\n",
       "\t<dt>$num_leaves</dt>\n",
       "\t\t<dd>16</dd>\n",
       "\t<dt>$min_data_in_leaf</dt>\n",
       "\t\t<dd>7</dd>\n",
       "\t<dt>$learning_rate</dt>\n",
       "\t\t<dd>0.0762912386928156</dd>\n",
       "\t<dt>$feature_fraction</dt>\n",
       "\t\t<dd>0.902860004685814</dd>\n",
       "\t<dt>$bagging_fraction</dt>\n",
       "\t\t<dd>0.900125091856697</dd>\n",
       "\t<dt>$max_depth</dt>\n",
       "\t\t<dd>8</dd>\n",
       "\t<dt>$min_sum_hessian_in_leaf</dt>\n",
       "\t\t<dd>0.0479839488964844</dd>\n",
       "\t<dt>$lambda_l1</dt>\n",
       "\t\t<dd>1.55077504226557</dd>\n",
       "\t<dt>$lambda_l2</dt>\n",
       "\t\t<dd>4.02884738216226</dd>\n",
       "\t<dt>$min_gain_to_split</dt>\n",
       "\t\t<dd>0.0417587757961876</dd>\n",
       "</dl>\n"
      ],
      "text/latex": [
       "\\begin{description}\n",
       "\\item[\\$boosting] 'gbdt'\n",
       "\\item[\\$objective] 'binary'\n",
       "\\item[\\$metric] 'auc'\n",
       "\\item[\\$first\\_metric\\_only] TRUE\n",
       "\\item[\\$boost\\_from\\_average] TRUE\n",
       "\\item[\\$feature\\_pre\\_filter] FALSE\n",
       "\\item[\\$force\\_row\\_wise] TRUE\n",
       "\\item[\\$verbosity] -100\n",
       "\\item[\\$seed] 100019\n",
       "\\item[\\$num\\_iterations] 120\n",
       "\\item[\\$num\\_leaves] 16\n",
       "\\item[\\$min\\_data\\_in\\_leaf] 7\n",
       "\\item[\\$learning\\_rate] 0.0762912386928156\n",
       "\\item[\\$feature\\_fraction] 0.902860004685814\n",
       "\\item[\\$bagging\\_fraction] 0.900125091856697\n",
       "\\item[\\$max\\_depth] 8\n",
       "\\item[\\$min\\_sum\\_hessian\\_in\\_leaf] 0.0479839488964844\n",
       "\\item[\\$lambda\\_l1] 1.55077504226557\n",
       "\\item[\\$lambda\\_l2] 4.02884738216226\n",
       "\\item[\\$min\\_gain\\_to\\_split] 0.0417587757961876\n",
       "\\end{description}\n"
      ],
      "text/markdown": [
       "$boosting\n",
       ":   'gbdt'\n",
       "$objective\n",
       ":   'binary'\n",
       "$metric\n",
       ":   'auc'\n",
       "$first_metric_only\n",
       ":   TRUE\n",
       "$boost_from_average\n",
       ":   TRUE\n",
       "$feature_pre_filter\n",
       ":   FALSE\n",
       "$force_row_wise\n",
       ":   TRUE\n",
       "$verbosity\n",
       ":   -100\n",
       "$seed\n",
       ":   100019\n",
       "$num_iterations\n",
       ":   120\n",
       "$num_leaves\n",
       ":   16\n",
       "$min_data_in_leaf\n",
       ":   7\n",
       "$learning_rate\n",
       ":   0.0762912386928156\n",
       "$feature_fraction\n",
       ":   0.902860004685814\n",
       "$bagging_fraction\n",
       ":   0.900125091856697\n",
       "$max_depth\n",
       ":   8\n",
       "$min_sum_hessian_in_leaf\n",
       ":   0.0479839488964844\n",
       "$lambda_l1\n",
       ":   1.55077504226557\n",
       "$lambda_l2\n",
       ":   4.02884738216226\n",
       "$min_gain_to_split\n",
       ":   0.0417587757961876\n",
       "\n",
       "\n"
      ],
      "text/plain": [
       "$boosting\n",
       "[1] \"gbdt\"\n",
       "\n",
       "$objective\n",
       "[1] \"binary\"\n",
       "\n",
       "$metric\n",
       "[1] \"auc\"\n",
       "\n",
       "$first_metric_only\n",
       "[1] TRUE\n",
       "\n",
       "$boost_from_average\n",
       "[1] TRUE\n",
       "\n",
       "$feature_pre_filter\n",
       "[1] FALSE\n",
       "\n",
       "$force_row_wise\n",
       "[1] TRUE\n",
       "\n",
       "$verbosity\n",
       "[1] -100\n",
       "\n",
       "$seed\n",
       "[1] 100019\n",
       "\n",
       "$num_iterations\n",
       "[1] 120\n",
       "\n",
       "$num_leaves\n",
       "[1] 16\n",
       "\n",
       "$min_data_in_leaf\n",
       "[1] 7\n",
       "\n",
       "$learning_rate\n",
       "[1] 0.07629124\n",
       "\n",
       "$feature_fraction\n",
       "[1] 0.90286\n",
       "\n",
       "$bagging_fraction\n",
       "[1] 0.9001251\n",
       "\n",
       "$max_depth\n",
       "[1] 8\n",
       "\n",
       "$min_sum_hessian_in_leaf\n",
       "[1] 0.04798395\n",
       "\n",
       "$lambda_l1\n",
       "[1] 1.550775\n",
       "\n",
       "$lambda_l2\n",
       "[1] 4.028847\n",
       "\n",
       "$min_gain_to_split\n",
       "[1] 0.04175878\n"
      ]
     },
     "metadata": {},
     "output_type": "display_data"
    }
   ],
   "source": [
    "\n",
    "param_final <- modifyList(PARAM$lgbm$param_fijos,\n",
    "  PARAM$out$lgbm$mejores_hiperparametros)\n",
    "\n",
    "param_final"
   ]
  },
  {
   "cell_type": "markdown",
   "metadata": {
    "id": "TZIYn4l95TBH"
   },
   "source": [
    "#### Training\n",
    "Genero el modelo final, siempre sobre TODOS los datos de  final_train, sin hacer ningun tipo de undersampling de la clase mayoritaria"
   ]
  },
  {
   "cell_type": "code",
   "execution_count": 139,
   "metadata": {
    "id": "vPLsd4mMRe4u"
   },
   "outputs": [],
   "source": [
    "# este punto es muy SUTIL  y será revisado en la Clase 05\n",
    "\n",
    "param_normalizado <- copy(param_final)\n",
    "param_normalizado$min_data_in_leaf <-  param_final$min_data_in_leaf / PARAM$trainingstrategy$undersampling"
   ]
  },
  {
   "cell_type": "code",
   "execution_count": 140,
   "metadata": {
    "id": "WRI_-taRwOXO"
   },
   "outputs": [],
   "source": [
    "  # entreno LightGBM\n",
    "\n",
    "  modelo_final <- lgb.train(\n",
    "    data= dtrain,\n",
    "    param= param_normalizado\n",
    "  )"
   ]
  },
  {
   "cell_type": "code",
   "execution_count": 141,
   "metadata": {
    "id": "_bkhnCvj0g3Q"
   },
   "outputs": [],
   "source": [
    "# ahora imprimo la importancia de variables\n",
    "\n",
    "tb_importancia <- as.data.table(lgb.importance(modelo_final))\n",
    "archivo_importancia <- \"impo.txt\"\n",
    "\n",
    "fwrite(tb_importancia,\n",
    "  file= archivo_importancia,\n",
    "  sep= \"\\t\"\n",
    ")"
   ]
  },
  {
   "cell_type": "code",
   "execution_count": 142,
   "metadata": {
    "id": "lZ3sLmbh0kFj"
   },
   "outputs": [],
   "source": [
    "# grabo a disco el modelo en un formato para seres humanos ... ponele ...\n",
    "\n",
    "lgb.save(modelo_final, \"modelo.txt\" )"
   ]
  },
  {
   "cell_type": "markdown",
   "metadata": {
    "id": "VEtp2--t5Ymg"
   },
   "source": [
    "### Scoring"
   ]
  },
  {
   "cell_type": "markdown",
   "metadata": {
    "id": "hI5008Mj5ZdI"
   },
   "source": [
    "Aplico el modelo final a los datos del futuro"
   ]
  },
  {
   "cell_type": "code",
   "execution_count": 143,
   "metadata": {
    "id": "PimBY3N_0ryP"
   },
   "outputs": [],
   "source": [
    "# aplico el modelo a los datos sin clase\n",
    "dfuture <- dataset[foto_mes == 202109]\n",
    "\n",
    "# aplico el modelo a los datos nuevos\n",
    "prediccion <- predict(\n",
    "  modelo_final,\n",
    "  data.matrix(dfuture[, campos_buenos, with= FALSE])\n",
    ")"
   ]
  },
  {
   "cell_type": "markdown",
   "metadata": {
    "id": "D26rNRh55gpw"
   },
   "source": [
    "#### Tabla Prediccion"
   ]
  },
  {
   "cell_type": "code",
   "execution_count": 144,
   "metadata": {
    "id": "RJwg7LHd11yu"
   },
   "outputs": [],
   "source": [
    "# tabla de prediccion\n",
    "\n",
    "tb_prediccion <- dfuture[, list(numero_de_cliente)]\n",
    "tb_prediccion[, prob := prediccion ]\n",
    "\n",
    "# grabo las probabilidad del modelo\n",
    "fwrite(tb_prediccion,\n",
    "  file= \"prediccion.txt\",\n",
    "  sep= \"\\t\"\n",
    ")"
   ]
  },
  {
   "cell_type": "markdown",
   "metadata": {
    "id": "jOt4eG_55ltv"
   },
   "source": [
    "Kaggle Competition Submit"
   ]
  },
  {
   "cell_type": "code",
   "execution_count": 145,
   "metadata": {
    "id": "gWW3tatE12je"
   },
   "outputs": [
    {
     "name": "stdout",
     "output_type": "stream",
     "text": [
      "Successfully submitted to Data Mining, Analista Sr 2025A \n",
      "Successfully submitted to Data Mining, Analista Sr 2025A \n",
      "Successfully submitted to Data Mining, Analista Sr 2025A \n",
      "Successfully submitted to Data Mining, Analista Sr 2025A \n",
      "Successfully submitted to Data Mining, Analista Sr 2025A \n"
     ]
    }
   ],
   "source": [
    "# genero archivos con los  \"envios\" mejores\n",
    "# suba TODOS los archivos a Kaggle\n",
    "\n",
    "# ordeno por probabilidad descendente\n",
    "setorder(tb_prediccion, -prob)\n",
    "\n",
    "dir.create(\"kaggle\")\n",
    "\n",
    "for (envios in PARAM$kaggle$cortes) {\n",
    "\n",
    "  tb_prediccion[, Predicted := 0L] # seteo inicial a 0\n",
    "  tb_prediccion[1:envios, Predicted := 1L] # marclo los primeros\n",
    "\n",
    "  archivo_kaggle <- paste0(\"./kaggle/KA\", PARAM$experimento, \"_\", envios, \".csv\")\n",
    "\n",
    "  # grabo el archivo\n",
    "  fwrite(tb_prediccion[, list(numero_de_cliente, Predicted)],\n",
    "    file= archivo_kaggle,\n",
    "    sep= \",\"\n",
    "  )\n",
    "\n",
    "  # subida a Kaggle, armo la linea de comando\n",
    "  comando <- \"kaggle competitions submit\"\n",
    "  competencia <- paste(\"-c\", PARAM$kaggle$competencia)\n",
    "  arch <- paste( \"-f\", archivo_kaggle)\n",
    "\n",
    "  mensaje <- paste0(\"-m 'envios=\", envios,\n",
    "  \"  semilla=\", PARAM$semilla_primigenia,\n",
    "    \"'\" )\n",
    "\n",
    "  linea <- paste( comando, competencia, arch, mensaje)\n",
    "\n",
    "  salida <- system(linea, intern=TRUE) # el submit a Kaggle\n",
    "  cat(salida, \"\\n\")\n",
    "}"
   ]
  },
  {
   "cell_type": "code",
   "execution_count": 146,
   "metadata": {
    "id": "B9tB2X4439Hg"
   },
   "outputs": [],
   "source": [
    "write_yaml( PARAM, file=\"PARAM.yml\")"
   ]
  },
  {
   "cell_type": "code",
   "execution_count": 147,
   "metadata": {
    "id": "9zA_W25c15DP"
   },
   "outputs": [
    {
     "data": {
      "text/html": [
       "'Thu Jul 31 15:32:18 2025'"
      ],
      "text/latex": [
       "'Thu Jul 31 15:32:18 2025'"
      ],
      "text/markdown": [
       "'Thu Jul 31 15:32:18 2025'"
      ],
      "text/plain": [
       "[1] \"Thu Jul 31 15:32:18 2025\""
      ]
     },
     "metadata": {},
     "output_type": "display_data"
    }
   ],
   "source": [
    "format(Sys.time(), \"%a %b %d %X %Y\")"
   ]
  },
  {
   "cell_type": "markdown",
   "metadata": {
    "id": "UdVZucdLHzZ0"
   },
   "source": [
    "Finalmente usted deberá cargar el resultado de su corrida en la Google Sheet Colaborativa,  hoja **TareaHogar04**\n",
    "<br> Siéntase libre de agregar las columnas que hagan falta a la planilla"
   ]
  },
  {
   "cell_type": "code",
   "execution_count": null,
   "metadata": {
    "id": "WMHh7uNVIJkT"
   },
   "outputs": [],
   "source": []
  }
 ],
 "metadata": {
  "colab": {
   "provenance": []
  },
  "kernelspec": {
   "display_name": "R",
   "language": "R",
   "name": "ir"
  },
  "language_info": {
   "codemirror_mode": "r",
   "file_extension": ".r",
   "mimetype": "text/x-r-source",
   "name": "R",
   "pygments_lexer": "r",
   "version": "4.4.3"
  }
 },
 "nbformat": 4,
 "nbformat_minor": 4
}
