{
 "cells": [
  {
   "cell_type": "markdown",
   "metadata": {
    "id": "0cEmzeUKFkPh"
   },
   "source": [
    "# Tarea para el Hogar 04"
   ]
  },
  {
   "cell_type": "markdown",
   "metadata": {
    "id": "nSICPpyTGQmC"
   },
   "source": [
    "Esta Tarea para el Hogar 02 se entrega el final de la cuarta clase\n",
    "<br> se espera de usted que intente avanzar con los desafios propuestos y que los traiga terminados para la Clase 05 que será el viernes 01-agosto"
   ]
  },
  {
   "cell_type": "markdown",
   "metadata": {
    "id": "DenyKXkiJ5JN"
   },
   "source": [
    "##  1. Cazatalentos"
   ]
  },
  {
   "cell_type": "markdown",
   "metadata": {
    "id": "l-K2_ZsZGrVD"
   },
   "source": [
    "En la Clase 03 nos hemos enfrentado a  \"La Maldicion del Ganandor\",  elegir el modelo con el mejor puntaje simple no suele ser la mejor estrategia.\n",
    "<br> Lea y ejecute el notebook  **src/CazaTalentos/CazaTalentos.ipynb**\n",
    "<br> en caso de interesarle, participe del Desafío Ordenamiento  que vence el sábado 02 de agosto a las 19:00"
   ]
  },
  {
   "cell_type": "markdown",
   "metadata": {
    "id": "K9GkTOk5J9t3"
   },
   "source": [
    "## 2. Hiperparámetros del LightGBM"
   ]
  },
  {
   "cell_type": "markdown",
   "metadata": {
    "id": "VmEFy0ukKL5T"
   },
   "source": [
    "Los objetivos de esta tarea son:\n",
    "\n",
    "\n",
    "*   Aumentar la rentabilidad de la campaña de marketing de retención proactiva de clientes.\n",
    "*   Generar un mejor modelo optimizando sus hiperparámetros\n",
    "*   Conceptual : investigar los mas relevantes hiperparámetros de LightGBM\n",
    "*   Familiarizarse con la Bayesian Optimization, sus largos tiempos de corrida y opciones para reducirlos\n",
    "*   Familiarizarse con el uso de máquinas virtuales de Google Colab\n",
    "*   Ver un pipeline completo de optimización de hiperparámetros y puesta en producción"
   ]
  },
  {
   "cell_type": "markdown",
   "metadata": {
    "id": "5yvlS6JQLRMd"
   },
   "source": [
    "LightGBM cuenta con mas de 60 hiperparámetros, siendo posible utilizar 40 al mismo tiempo, aunque no razonable.\n",
    "<br> La documentación oficial de los hiperparámetros de LightGBM es  https://lightgbm.readthedocs.io/en/latest/Parameters.html#core-parameters\n"
   ]
  },
  {
   "cell_type": "markdown",
   "metadata": {
    "id": "eydI4YNAsFaf"
   },
   "source": [
    "Se lo alerta sobre que una Optimizacion Bayesiana lleva varias horas de corrida, y usted deberá correr VARIAS optimizaciones para descubrir cuales parámetros conviene optimizar.\n",
    "<br> A pesar que la próxima clase es recien en viernes 01 de agosto, inicie la tarea con tiempo, aprenda a planificar estratégicamente sus corridas como un@ científ@  de datos."
   ]
  },
  {
   "cell_type": "markdown",
   "metadata": {
    "id": "RzU4S0SeMcpp"
   },
   "source": [
    "Es necesario investigar cuales son los hiperparámetros de LightGBM que vale la pena optimizar en una Bayesian Optimization, ya que los realmente utiles son apenas un reducido subconjunto.\n",
    "<br>Usted deberá investigar cuales son los hiperparámetros mas relevantes de LightGBM, su primer alternativa es preguntándole a su amigo con capacidades especiales ChatGPT o sus endogámicos familiares Claude, DeepSeek, Gemini, Grok, etc\n",
    "<br> La segunda alternativa es la propia documentación de LightGBM  https://lightgbm.readthedocs.io/en/latest/Parameters-Tuning.html\n"
   ]
  },
  {
   "cell_type": "markdown",
   "metadata": {
    "id": "LNptUgI_NWWG"
   },
   "source": [
    "Adicionalmente podra buscar información como la que proveen esta diminuta muestra aleatoria de artículos ligeros:\n",
    "*  https://medium.com/@sarahzouinina/a-deep-dive-into-lightgbm-how-to-choose-and-tune-parameters-7c584945842e\n",
    "*  https://www.kaggle.com/code/somang1418/tuning-hyperparameters-under-10-minutes-lgbm\n",
    "*  https://towardsdatascience.com/beginners-guide-to-the-must-know-lightgbm-hyperparameters-a0005a812702/\n",
    "\n",
    "\n",
    "<br>  La muestra anterior se brinda a modo de ejemplo, usted deberá buscar muuuuchas  fuentes adicionales de información\n",
    "<br> Tenga presente que LightGBM es el estado del arte en modelado predictivo para datasets estructurado, que son el 90% del trabajo del 95% de los Data Scientists en Argentina."
   ]
  },
  {
   "cell_type": "markdown",
   "metadata": {
    "id": "WpUThBojODyK"
   },
   "source": [
    "El desafío de esta tarea es:\n",
    "* Qué hiperparparámetros conviene optimizar?  Las recomendaciones de los artículos ligeros es siempre sensata?  Sus autores realmente hicieron experimentos o son siemplemente escritores de entretenimiento carente de base científica?\n",
    "* Elegidos los hiperparámetros, cual es el  <desde, hasta> que se debe utilizar en la Bayesian Optimization ?\n",
    "* Realmente vale la pena optimizar 10 o 16 hiperparámetros al mismo tiempo ?  No resulta contraproducente una búsqueda en un espacio de tal alta dimensionalidad ?"
   ]
  },
  {
   "cell_type": "markdown",
   "metadata": {
    "id": "PX0qg_c0yqob"
   },
   "source": [
    "#### 2.1  Seteo del ambiente en Google Colab"
   ]
  },
  {
   "cell_type": "markdown",
   "metadata": {
    "id": "NGY7H9xza7Zr"
   },
   "source": [
    "Esta parte se debe correr con el runtime en Python3\n",
    "<br>Ir al menu, Runtime -> Change Runtime Type -> Runtime type ->  **Python 3**"
   ]
  },
  {
   "cell_type": "markdown",
   "metadata": {
    "id": "7PupIBNba7Zr"
   },
   "source": [
    "Conectar la virtual machine donde esta corriendo Google Colab con el  Google Drive, para poder tener persistencia de archivos"
   ]
  },
  {
   "cell_type": "code",
   "execution_count": null,
   "metadata": {
    "id": "9LpZCst5a7Zs"
   },
   "outputs": [],
   "source": [
    "# primero establecer el Runtime de Python 3\n",
    "from google.colab import drive\n",
    "drive.mount('/content/.drive')"
   ]
  },
  {
   "cell_type": "markdown",
   "metadata": {
    "id": "JYC_F-wla7Zs"
   },
   "source": [
    "Para correr la siguiente celda es fundamental en Arranque en Frio haber copiado el archivo kaggle.json al Google Drive, en la carpeta indicada en el instructivo\n",
    "\n",
    "<br>los siguientes comando estan en shell script de Linux\n",
    "*   Crear las carpetas en el Google Drive\n",
    "*   \"instalar\" el archivo kaggle.json desde el Google Drive a la virtual machine para que pueda ser utilizado por la libreria  kaggle de Python\n",
    "*   Bajar el  **dataset_pequeno**  al  Google Drive  y tambien al disco local de la virtual machine que esta corriendo Google Colab\n",
    "\n"
   ]
  },
  {
   "cell_type": "code",
   "execution_count": null,
   "metadata": {
    "id": "XWLelftXa7Zt"
   },
   "outputs": [],
   "source": [
    "%%shell\n",
    "\n",
    "mkdir -p \"/content/.drive/My Drive/dm\"\n",
    "mkdir -p \"/content/buckets\"\n",
    "ln -s \"/content/.drive/My Drive/dm\" /content/buckets/b1\n",
    "\n",
    "mkdir -p ~/.kaggle\n",
    "cp /content/buckets/b1/kaggle/kaggle.json  ~/.kaggle\n",
    "chmod 600 ~/.kaggle/kaggle.json\n",
    "\n",
    "\n",
    "mkdir -p /content/buckets/b1/exp\n",
    "mkdir -p /content/buckets/b1/datasets\n",
    "mkdir -p /content/datasets\n",
    "\n",
    "\n",
    "\n",
    "archivo_origen=\"https://storage.googleapis.com/open-courses/itba2025-8d0a/dataset_pequeno.csv\"\n",
    "archivo_destino=\"/content/datasets/dataset_pequeno.csv\"\n",
    "archivo_destino_bucket=\"/content/buckets/b1/datasets/dataset_pequeno.csv\"\n",
    "\n",
    "if ! test -f $archivo_destino_bucket; then\n",
    "  wget  $archivo_origen  -O $archivo_destino_bucket\n",
    "fi\n",
    "\n",
    "\n",
    "if ! test -f $archivo_destino; then\n",
    "  cp  $archivo_destino_bucket  $archivo_destino\n",
    "fi\n"
   ]
  },
  {
   "cell_type": "markdown",
   "metadata": {
    "id": "oSKhZRToy2F7"
   },
   "source": [
    "### 2.2 Optimizacion Hiperparámetros"
   ]
  },
  {
   "cell_type": "markdown",
   "metadata": {
    "id": "2kwPpHAtSmix"
   },
   "source": [
    "Esta parte se debe correr con el runtime en lenguaje R Ir al menu, Runtime -> Change Runtime Type -> Runtime type -> R"
   ]
  },
  {
   "cell_type": "markdown",
   "metadata": {
    "id": "xp4-Bj3aYI8d"
   },
   "source": [
    "### 2.2.1 Inicio"
   ]
  },
  {
   "cell_type": "markdown",
   "metadata": {
    "id": "zy8YTZfESxeJ"
   },
   "source": [
    "limpio el ambiente de R"
   ]
  },
  {
   "cell_type": "code",
   "execution_count": 18,
   "metadata": {
    "id": "gBq__iAdQliq"
   },
   "outputs": [
    {
     "data": {
      "text/html": [
       "'Wed Jul 30 18:48:29 2025'"
      ],
      "text/latex": [
       "'Wed Jul 30 18:48:29 2025'"
      ],
      "text/markdown": [
       "'Wed Jul 30 18:48:29 2025'"
      ],
      "text/plain": [
       "[1] \"Wed Jul 30 18:48:29 2025\""
      ]
     },
     "metadata": {},
     "output_type": "display_data"
    }
   ],
   "source": [
    "format(Sys.time(), \"%a %b %d %X %Y\")"
   ]
  },
  {
   "cell_type": "code",
   "execution_count": 19,
   "metadata": {
    "id": "7rdVrBojS1IV"
   },
   "outputs": [
    {
     "data": {
      "text/html": [
       "<table class=\"dataframe\">\n",
       "<caption>A matrix: 2 × 6 of type dbl</caption>\n",
       "<thead>\n",
       "\t<tr><th></th><th scope=col>used</th><th scope=col>(Mb)</th><th scope=col>gc trigger</th><th scope=col>(Mb)</th><th scope=col>max used</th><th scope=col>(Mb)</th></tr>\n",
       "</thead>\n",
       "<tbody>\n",
       "\t<tr><th scope=row>Ncells</th><td> 2090769</td><td>111.7</td><td> 3891448</td><td>207.9</td><td>  2993725</td><td>159.9</td></tr>\n",
       "\t<tr><th scope=row>Vcells</th><td>16612277</td><td>126.8</td><td>93087104</td><td>710.2</td><td>102225585</td><td>780.0</td></tr>\n",
       "</tbody>\n",
       "</table>\n"
      ],
      "text/latex": [
       "A matrix: 2 × 6 of type dbl\n",
       "\\begin{tabular}{r|llllll}\n",
       "  & used & (Mb) & gc trigger & (Mb) & max used & (Mb)\\\\\n",
       "\\hline\n",
       "\tNcells &  2090769 & 111.7 &  3891448 & 207.9 &   2993725 & 159.9\\\\\n",
       "\tVcells & 16612277 & 126.8 & 93087104 & 710.2 & 102225585 & 780.0\\\\\n",
       "\\end{tabular}\n"
      ],
      "text/markdown": [
       "\n",
       "A matrix: 2 × 6 of type dbl\n",
       "\n",
       "| <!--/--> | used | (Mb) | gc trigger | (Mb) | max used | (Mb) |\n",
       "|---|---|---|---|---|---|---|\n",
       "| Ncells |  2090769 | 111.7 |  3891448 | 207.9 |   2993725 | 159.9 |\n",
       "| Vcells | 16612277 | 126.8 | 93087104 | 710.2 | 102225585 | 780.0 |\n",
       "\n"
      ],
      "text/plain": [
       "       used     (Mb)  gc trigger (Mb)  max used  (Mb) \n",
       "Ncells  2090769 111.7  3891448   207.9   2993725 159.9\n",
       "Vcells 16612277 126.8 93087104   710.2 102225585 780.0"
      ]
     },
     "metadata": {},
     "output_type": "display_data"
    }
   ],
   "source": [
    "# limpio la memoria\n",
    "rm(list=ls(all.names=TRUE)) # remove all objects\n",
    "gc(full=TRUE, verbose=FALSE) # garbage collection"
   ]
  },
  {
   "cell_type": "markdown",
   "metadata": {
    "id": "kuPfQ7ksjwW3"
   },
   "source": [
    "### 2.2.2 Carga de Librerias"
   ]
  },
  {
   "cell_type": "code",
   "execution_count": 20,
   "metadata": {
    "id": "lVyxLaJ1j1J_"
   },
   "outputs": [],
   "source": [
    "# cargo las librerias que necesito\n",
    "require(\"data.table\")\n",
    "require(\"parallel\")\n",
    "\n",
    "if( !require(\"primes\") ) install.packages(\"primes\")\n",
    "require(\"primes\")\n",
    "\n",
    "if( !require(\"utils\") ) install.packages(\"utils\")\n",
    "require(\"utils\")\n",
    "\n",
    "if( !require(\"rlist\") ) install.packages(\"rlist\")\n",
    "require(\"rlist\")\n",
    "\n",
    "if( !require(\"yaml\")) install.packages(\"yaml\")\n",
    "require(\"yaml\")\n",
    "\n",
    "if( !require(\"lightgbm\") ) install.packages(\"lightgbm\")\n",
    "require(\"lightgbm\")\n",
    "\n",
    "if( !require(\"DiceKriging\") ) install.packages(\"DiceKriging\")\n",
    "require(\"DiceKriging\")\n",
    "\n",
    "if( !require(\"mlrMBO\") ) install.packages(\"mlrMBO\")\n",
    "require(\"mlrMBO\")"
   ]
  },
  {
   "cell_type": "markdown",
   "metadata": {
    "id": "Iz-6Qt6BUaA3"
   },
   "source": [
    "### 2.2.3 Definicion de Parametros"
   ]
  },
  {
   "cell_type": "markdown",
   "metadata": {
    "id": "cOdlKd7lUm2I"
   },
   "source": [
    "aqui debe cargar SU semilla primigenia\n",
    "<br>recuerde cambiar el numero de experimento en cada corrida nueva"
   ]
  },
  {
   "cell_type": "code",
   "execution_count": 21,
   "metadata": {
    "id": "ASYkebOu2mF6"
   },
   "outputs": [],
   "source": [
    "PARAM <- list()\n",
    "PARAM$experimento <- 4966\n",
    "PARAM$semilla_primigenia <- 100019\n"
   ]
  },
  {
   "cell_type": "code",
   "execution_count": 22,
   "metadata": {
    "id": "ezOhQdbA293o"
   },
   "outputs": [],
   "source": [
    "PARAM$kaggle$competencia <- \"data-mining-analista-sr-2025-a\"\n",
    "PARAM$kaggle$cortes <- seq(10000, 12000, by= 500)"
   ]
  },
  {
   "cell_type": "code",
   "execution_count": 23,
   "metadata": {
    "id": "jtB0Lub42rHO"
   },
   "outputs": [],
   "source": [
    "# un undersampling de 0.1  toma solo el 10% de los CONTINUA\n",
    "# undersampling de 1.0  implica tomar TODOS los datos\n",
    "\n",
    "PARAM$trainingstrategy$undersampling <- 0.5"
   ]
  },
  {
   "cell_type": "code",
   "execution_count": 24,
   "metadata": {
    "id": "OFxm-xiNUOJX"
   },
   "outputs": [],
   "source": [
    "# Parametros LightGBM (fijos) ··probado solo con pocos parametros \n",
    "PARAM$hyperparametertuning$xval_folds <- 5\n",
    "\n",
    "PARAM$lgbm$param_fijos <- list(\n",
    "  boosting = \"gbdt\",\n",
    "  objective = \"binary\",\n",
    "  metric = \"auc\",\n",
    "  first_metric_only = FALSE,\n",
    "  boost_from_average = TRUE,\n",
    "  feature_pre_filter = FALSE,\n",
    "  force_row_wise = TRUE,\n",
    "  verbosity = -100,\n",
    "  seed = PARAM$semilla_primigenia,\n",
    "  num_iterations = 1200\n",
    ")\n",
    "\n",
    "# Hiperparámetros BO (corrida simple de 5 parámetros)\n",
    "PARAM$lgbm$param_BO <- list(\n",
    "  num_leaves       = c(31L, 1024L),     # core\n",
    "  min_data_in_leaf = c(100L, 10000L),   # core\n",
    "  learning_rate    = c(0.005, 0.2),     # tasa aprendizaje\n",
    "  feature_fraction = c(0.5, 1.0),       # submuestreo columnas\n",
    "  bagging_fraction = c(0.5, 1.0)        # submuestreo filas\n",
    ")\n",
    "\n",
    "# ParamSet compatible con mlrMBO\n",
    "PARAM$hyperparametertuning$hs <- makeParamSet(\n",
    "  makeIntegerParam(\"num_leaves\", lower = 31L, upper = 1024L),\n",
    "  makeIntegerParam(\"min_data_in_leaf\", lower = 100L, upper = 10000L),\n",
    "  makeNumericParam(\"learning_rate\", lower = 0.005, upper = 0.2),\n",
    "  makeNumericParam(\"feature_fraction\", lower = 0.5, upper = 1.0),\n",
    "  makeNumericParam(\"bagging_fraction\", lower = 0.5, upper = 1.0)\n",
    ")\n",
    "\n",
    "# Función objetivo BO con solo 5 parámetros\n",
    "lgbm_bayes_eval <- function(num_leaves,\n",
    "                            min_data_in_leaf,\n",
    "                            learning_rate,\n",
    "                            feature_fraction,\n",
    "                            bagging_fraction) {\n",
    "\n",
    "  params <- c(\n",
    "    PARAM$lgbm$param_fijos,\n",
    "    list(\n",
    "      num_leaves = as.integer(num_leaves),\n",
    "      min_data_in_leaf = as.integer(min_data_in_leaf),\n",
    "      learning_rate = learning_rate,\n",
    "      feature_fraction = feature_fraction,\n",
    "      bagging_fraction = bagging_fraction\n",
    "    )\n",
    "  )\n",
    "\n",
    "  # Aquí va tu entrenamiento con lgb.cv o lgb.train\n",
    "  # result <- lgb.cv(...)\n",
    "  # return(list(Score = result$best_score, nrounds = result$best_iter))\n",
    "}"
   ]
  },
  {
   "cell_type": "markdown",
   "metadata": {
    "id": "D5Yj-JV4yvOt"
   },
   "source": [
    "Aqui se definen los hiperparámetros de LightGBM que participan de la Bayesian Optimization\n",
    "<br> si es un numero entero debe ir  makeIntegerParam\n",
    "<br> si es un numero real (con decimales) debe ir  makeNumericParam\n",
    "<br> es muy importante leer cuales son un lower y upper  permitidos y ademas razonables"
   ]
  },
  {
   "cell_type": "code",
   "execution_count": 25,
   "metadata": {
    "id": "jENpR26ZyuS8"
   },
   "outputs": [],
   "source": [
    "# Aqui se cargan los bordes de los hiperparametros de la BO"
   ]
  },
  {
   "cell_type": "markdown",
   "metadata": {
    "id": "-_RPFUb3zMoW"
   },
   "source": [
    "A mayor cantidad de hiperparámetros, se debe aumentar las iteraciones de la Bayesian Optimization\n",
    "<br> 30 es un valor muy tacaño, pero corre rápido\n",
    "<br> deberia partir de 50, alcanzando los 100 si se dispone de tiempo"
   ]
  },
  {
   "cell_type": "code",
   "execution_count": 26,
   "metadata": {
    "id": "q5Rd3pnbzSiG"
   },
   "outputs": [],
   "source": [
    "PARAM$hyperparametertuning$iteraciones <- 40 # iteraciones bayesianas"
   ]
  },
  {
   "cell_type": "markdown",
   "metadata": {
    "id": "4RWZXL1VZjMI"
   },
   "source": [
    "### 2.2.4  Preprocesamiento"
   ]
  },
  {
   "cell_type": "code",
   "execution_count": 27,
   "metadata": {
    "id": "j3toG9-lZm4K"
   },
   "outputs": [],
   "source": [
    "# carpeta de trabajo\n",
    "\n",
    "setwd(\"/content/buckets/b1/exp\")\n",
    "experimento_folder <- paste0(\"HT\", PARAM$experimento)\n",
    "dir.create(experimento_folder, showWarnings=FALSE)\n",
    "setwd( paste0(\"/content/buckets/b1/exp/\", experimento_folder ))"
   ]
  },
  {
   "cell_type": "code",
   "execution_count": 28,
   "metadata": {
    "id": "FM3lxKoLZ643"
   },
   "outputs": [],
   "source": [
    "# lectura del dataset\n",
    "\n",
    "dataset <- fread(\"/content/datasets/dataset_pequeno.csv\")"
   ]
  },
  {
   "cell_type": "code",
   "execution_count": 29,
   "metadata": {
    "id": "OsJ-91UeZ-I_"
   },
   "outputs": [],
   "source": [
    "dataset_train <- dataset[foto_mes %in% c(202107)]"
   ]
  },
  {
   "cell_type": "code",
   "execution_count": 30,
   "metadata": {
    "id": "vrWE7BE0aB2J"
   },
   "outputs": [],
   "source": [
    "# paso la clase a binaria que tome valores {0,1}  enteros\n",
    "#  BAJA+1 y BAJA+2  son  1,   CONTINUA es 0\n",
    "\n",
    "dataset_train[,\n",
    "  clase01 := ifelse(clase_ternaria %in% c(\"BAJA+2\",\"BAJA+1\"), 1L, 0L)\n",
    "]"
   ]
  },
  {
   "cell_type": "code",
   "execution_count": 31,
   "metadata": {
    "id": "jP7YlQBnaW6W"
   },
   "outputs": [],
   "source": [
    "# defino los datos que forma parte del training\n",
    "# aqui se hace el undersampling de los CONTINUA\n",
    "# notar que para esto utilizo la SEGUNDA semilla\n",
    "\n",
    "set.seed(PARAM$semilla_primigenia, kind = \"L'Ecuyer-CMRG\")\n",
    "dataset_train[, azar := runif(nrow(dataset_train))]\n",
    "dataset_train[, training := 0L]\n",
    "\n",
    "dataset_train[\n",
    "  foto_mes %in% c(202107) &\n",
    "    (azar <= PARAM$trainingstrategy$undersampling | clase_ternaria %in% c(\"BAJA+1\", \"BAJA+2\")),\n",
    "  training := 1L\n",
    "]"
   ]
  },
  {
   "cell_type": "code",
   "execution_count": 32,
   "metadata": {
    "id": "xElu4s5W4rX7"
   },
   "outputs": [],
   "source": [
    "# los campos que se van a utilizar\n",
    "\n",
    "campos_buenos <- setdiff(\n",
    "  colnames(dataset_train),\n",
    "  c(\"clase_ternaria\", \"clase01\", \"azar\", \"training\")\n",
    ")"
   ]
  },
  {
   "cell_type": "code",
   "execution_count": 33,
   "metadata": {
    "id": "PppMHcGYaaol"
   },
   "outputs": [
    {
     "data": {
      "text/html": [
       "83617"
      ],
      "text/latex": [
       "83617"
      ],
      "text/markdown": [
       "83617"
      ],
      "text/plain": [
       "[1] 83617"
      ]
     },
     "metadata": {},
     "output_type": "display_data"
    },
    {
     "data": {
      "text/html": [
       "154"
      ],
      "text/latex": [
       "154"
      ],
      "text/markdown": [
       "154"
      ],
      "text/plain": [
       "[1] 154"
      ]
     },
     "metadata": {},
     "output_type": "display_data"
    }
   ],
   "source": [
    "# dejo los datos en el formato que necesita LightGBM\n",
    "\n",
    "dtrain <- lgb.Dataset(\n",
    "  data= data.matrix(dataset_train[training == 1L, campos_buenos, with= FALSE]),\n",
    "  label= dataset_train[training == 1L, clase01],\n",
    "  free_raw_data= FALSE\n",
    ")\n",
    "\n",
    "nrow(dtrain)\n",
    "ncol(dtrain)"
   ]
  },
  {
   "cell_type": "markdown",
   "metadata": {
    "id": "Ta-EkOu3cphF"
   },
   "source": [
    "2.2.5 Configuracion Bayesian Optimization"
   ]
  },
  {
   "cell_type": "code",
   "execution_count": 34,
   "metadata": {
    "id": "cjgfurjdfiXb"
   },
   "outputs": [],
   "source": [
    "# En el argumento x llegan los parmaetros de la bayesiana\n",
    "#  devuelve la AUC en cross validation del modelo entrenado\n",
    "\n",
    "EstimarGanancia_AUC_lightgbm <- function(x) {\n",
    "\n",
    "  # x pisa (o agrega) a param_fijos\n",
    "  param_completo <- modifyList(PARAM$lgbm$param_fijos, x)\n",
    "\n",
    "  # entreno LightGBM\n",
    "  modelocv <- lgb.cv(\n",
    "    data= dtrain,\n",
    "    nfold= PARAM$hyperparametertuning$xval_folds,\n",
    "    stratified= TRUE,\n",
    "    param= param_completo\n",
    "  )\n",
    "\n",
    "  # obtengo la ganancia\n",
    "  AUC <- modelocv$best_score\n",
    "\n",
    "  # hago espacio en la memoria\n",
    "  rm(modelocv)\n",
    "  gc(full= TRUE, verbose= FALSE)\n",
    "\n",
    "  message(format(Sys.time(), \"%a %b %d %X %Y\"), \" AUC \", AUC)\n",
    "\n",
    "  return(AUC)\n",
    "}"
   ]
  },
  {
   "cell_type": "code",
   "execution_count": 36,
   "metadata": {
    "id": "WLi_o1hocvN-"
   },
   "outputs": [],
   "source": [
    "# Aqui comienza la configuracion de la Bayesian Optimization\n",
    "\n",
    "# en este archivo quedan la evolucion binaria de la BO\n",
    "kbayesiana <- \"bayesiana.RDATA\"\n",
    "\n",
    "funcion_optimizar <- EstimarGanancia_AUC_lightgbm # la funcion que voy a maximizar\n",
    "\n",
    "configureMlr(show.learner.output= FALSE)\n",
    "\n",
    "# configuro la busqueda bayesiana,  los hiperparametros que se van a optimizar\n",
    "# por favor, no desesperarse por lo complejo\n",
    "\n",
    "obj.fun <- makeSingleObjectiveFunction(\n",
    "  fn= funcion_optimizar, # la funcion que voy a maximizar\n",
    "  minimize= FALSE, # estoy Maximizando la ganancia\n",
    "  noisy= TRUE,\n",
    "  par.set = PARAM$hyperparametertuning$hs, # definido al comienzo del programa\n",
    "  has.simple.signature= FALSE # paso los parametros en una lista\n",
    ")\n",
    "\n",
    "# cada 600 segundos guardo el resultado intermedio\n",
    "ctrl <- makeMBOControl(\n",
    "  save.on.disk.at.time= 600, # se graba cada 600 segundos\n",
    "  save.file.path= kbayesiana\n",
    ") # se graba cada 600 segundos\n",
    "\n",
    "# indico la cantidad de iteraciones que va a tener la Bayesian Optimization\n",
    "ctrl <- setMBOControlTermination(\n",
    "  ctrl,\n",
    "  iters= PARAM$hyperparametertuning$iteraciones\n",
    ") # cantidad de iteraciones\n",
    "\n",
    "# defino el método estandar para la creacion de los puntos iniciales,\n",
    "# los \"No Inteligentes\"\n",
    "ctrl <- setMBOControlInfill(ctrl, crit= makeMBOInfillCritEI())\n",
    "\n",
    "# establezco la funcion que busca el maximo\n",
    "surr.km <- makeLearner(\n",
    "  \"regr.km\",\n",
    "  predict.type= \"se\",\n",
    "  covtype= \"matern3_2\",\n",
    "  control= list(trace= TRUE)\n",
    ")\n"
   ]
  },
  {
   "cell_type": "markdown",
   "metadata": {
    "id": "_uUeVo5pc4zc"
   },
   "source": [
    "2.2.6 Corrida Bayesian Optimization"
   ]
  },
  {
   "cell_type": "code",
   "execution_count": 37,
   "metadata": {
    "id": "RcABNaKGciaz"
   },
   "outputs": [
    {
     "name": "stderr",
     "output_type": "stream",
     "text": [
      "Computing y column(s) for design. Not provided.\n",
      "\n",
      "Wed Jul 30 18:50:30 2025 AUC 0.923303173554492\n",
      "\n",
      "Wed Jul 30 18:51:12 2025 AUC 0.925772245397809\n",
      "\n",
      "Wed Jul 30 18:51:46 2025 AUC 0.925028663474537\n",
      "\n",
      "Wed Jul 30 18:53:02 2025 AUC 0.927562569209433\n",
      "\n",
      "Wed Jul 30 18:53:54 2025 AUC 0.92622854042412\n",
      "\n",
      "Wed Jul 30 18:55:34 2025 AUC 0.927047510972926\n",
      "\n",
      "Wed Jul 30 18:56:33 2025 AUC 0.926863448097132\n",
      "\n",
      "Wed Jul 30 18:57:17 2025 AUC 0.926380099444082\n",
      "\n",
      "Wed Jul 30 18:58:04 2025 AUC 0.927180170707783\n",
      "\n",
      "Wed Jul 30 18:58:41 2025 AUC 0.924566698484922\n",
      "\n",
      "Wed Jul 30 18:59:29 2025 AUC 0.925259938647546\n",
      "\n",
      "Wed Jul 30 19:00:58 2025 AUC 0.925486567621648\n",
      "\n",
      "Wed Jul 30 19:01:53 2025 AUC 0.926709992762787\n",
      "\n",
      "Wed Jul 30 19:02:34 2025 AUC 0.925773503538575\n",
      "\n",
      "Wed Jul 30 19:03:30 2025 AUC 0.923651348915679\n",
      "\n",
      "Wed Jul 30 19:05:38 2025 AUC 0.927617066791431\n",
      "\n",
      "Wed Jul 30 19:06:11 2025 AUC 0.924300658919501\n",
      "\n",
      "Wed Jul 30 19:07:08 2025 AUC 0.92409239230152\n",
      "\n",
      "Wed Jul 30 19:07:47 2025 AUC 0.9260173887032\n",
      "\n",
      "Wed Jul 30 19:09:31 2025 AUC 0.922294343284419\n",
      "\n",
      "[mbo] 0: num_leaves=790; min_data_in_leaf=7170; learning_rate=0.157; feature_fraction=0.684; bagging_fraction=0.975 : y = 0.923 : 39.3 secs : initdesign\n",
      "\n",
      "[mbo] 0: num_leaves=295; min_data_in_leaf=6177; learning_rate=0.113; feature_fraction=0.783; bagging_fraction=0.739 : y = 0.926 : 41.4 secs : initdesign\n",
      "\n",
      "[mbo] 0: num_leaves=684; min_data_in_leaf=8950; learning_rate=0.0533; feature_fraction=0.907; bagging_fraction=0.512 : y = 0.925 : 34.2 secs : initdesign\n",
      "\n",
      "[mbo] 0: num_leaves=603; min_data_in_leaf=2122; learning_rate=0.059; feature_fraction=0.593; bagging_fraction=0.607 : y = 0.928 : 75.9 secs : initdesign\n",
      "\n",
      "[mbo] 0: num_leaves=628; min_data_in_leaf=3587; learning_rate=0.038; feature_fraction=0.942; bagging_fraction=0.762 : y = 0.926 : 52.4 secs : initdesign\n",
      "\n",
      "[mbo] 0: num_leaves=369; min_data_in_leaf=1265; learning_rate=0.144; feature_fraction=0.737; bagging_fraction=0.847 : y = 0.927 : 99.7 secs : initdesign\n",
      "\n",
      "[mbo] 0: num_leaves=126; min_data_in_leaf=2947; learning_rate=0.123; feature_fraction=0.827; bagging_fraction=0.656 : y = 0.927 : 59.5 secs : initdesign\n",
      "\n",
      "[mbo] 0: num_leaves=952; min_data_in_leaf=5204; learning_rate=0.17; feature_fraction=0.851; bagging_fraction=0.649 : y = 0.926 : 44.0 secs : initdesign\n",
      "\n",
      "[mbo] 0: num_leaves=756; min_data_in_leaf=4519; learning_rate=0.0326; feature_fraction=0.718; bagging_fraction=0.87 : y = 0.927 : 46.8 secs : initdesign\n",
      "\n",
      "[mbo] 0: num_leaves=241; min_data_in_leaf=8332; learning_rate=0.0895; feature_fraction=0.773; bagging_fraction=0.923 : y = 0.925 : 37.2 secs : initdesign\n",
      "\n",
      "[mbo] 0: num_leaves=415; min_data_in_leaf=4609; learning_rate=0.199; feature_fraction=0.644; bagging_fraction=0.89 : y = 0.925 : 48.0 secs : initdesign\n",
      "\n",
      "[mbo] 0: num_leaves=884; min_data_in_leaf=1607; learning_rate=0.19; feature_fraction=0.666; bagging_fraction=0.723 : y = 0.925 : 88.5 secs : initdesign\n",
      "\n",
      "[mbo] 0: num_leaves=153; min_data_in_leaf=3297; learning_rate=0.0709; feature_fraction=0.954; bagging_fraction=0.808 : y = 0.927 : 54.8 secs : initdesign\n",
      "\n",
      "[mbo] 0: num_leaves=574; min_data_in_leaf=5950; learning_rate=0.0123; feature_fraction=0.892; bagging_fraction=0.546 : y = 0.926 : 40.9 secs : initdesign\n",
      "\n",
      "[mbo] 0: num_leaves=832; min_data_in_leaf=7705; learning_rate=0.134; feature_fraction=0.55; bagging_fraction=0.573 : y = 0.924 : 56.9 secs : initdesign\n",
      "\n",
      "[mbo] 0: num_leaves=474; min_data_in_leaf=755; learning_rate=0.0928; feature_fraction=0.536; bagging_fraction=0.993 : y = 0.928 : 127.1 secs : initdesign\n",
      "\n",
      "[mbo] 0: num_leaves=197; min_data_in_leaf=9476; learning_rate=0.105; feature_fraction=0.811; bagging_fraction=0.593 : y = 0.924 : 33.6 secs : initdesign\n",
      "\n",
      "[mbo] 0: num_leaves=502; min_data_in_leaf=9561; learning_rate=0.0206; feature_fraction=0.521; bagging_fraction=0.928 : y = 0.924 : 56.4 secs : initdesign\n",
      "\n",
      "[mbo] 0: num_leaves=1018; min_data_in_leaf=6728; learning_rate=0.074; feature_fraction=0.979; bagging_fraction=0.799 : y = 0.926 : 39.0 secs : initdesign\n",
      "\n",
      "[mbo] 0: num_leaves=63; min_data_in_leaf=351; learning_rate=0.176; feature_fraction=0.615; bagging_fraction=0.7 : y = 0.922 : 104.9 secs : initdesign\n",
      "\n",
      "Saved the current state after iteration 1 in the file bayesiana.RDATA.\n",
      "\n",
      "Wed Jul 30 19:11:24 2025 AUC 0.927330438362754\n",
      "\n",
      "[mbo] 1: num_leaves=509; min_data_in_leaf=1047; learning_rate=0.0847; feature_fraction=0.568; bagging_fraction=0.967 : y = 0.927 : 109.0 secs : infill_ei\n",
      "\n",
      "Wed Jul 30 19:12:33 2025 AUC 0.926429343157057\n",
      "\n",
      "[mbo] 2: num_leaves=410; min_data_in_leaf=2226; learning_rate=0.104; feature_fraction=0.684; bagging_fraction=0.657 : y = 0.926 : 68.3 secs : infill_ei\n",
      "\n",
      "Wed Jul 30 19:22:29 2025 AUC 0.928190970797364\n",
      "\n",
      "[mbo] 3: num_leaves=771; min_data_in_leaf=101; learning_rate=0.00523; feature_fraction=0.743; bagging_fraction=0.621 : y = 0.928 : 596.0 secs : infill_ei\n",
      "\n",
      "Saved the current state after iteration 4 in the file bayesiana.RDATA.\n",
      "\n",
      "Wed Jul 30 19:24:10 2025 AUC 0.928238597059346\n",
      "\n",
      "[mbo] 4: num_leaves=687; min_data_in_leaf=1211; learning_rate=0.037; feature_fraction=0.749; bagging_fraction=0.824 : y = 0.928 : 95.4 secs : infill_ei\n",
      "\n",
      "Wed Jul 30 19:30:51 2025 AUC 0.928453149884271\n",
      "\n",
      "[mbo] 5: num_leaves=667; min_data_in_leaf=129; learning_rate=0.00516; feature_fraction=0.5; bagging_fraction=0.805 : y = 0.928 : 399.5 secs : infill_ei\n",
      "\n",
      "Wed Jul 30 19:32:30 2025 AUC 0.930154034719398\n",
      "\n",
      "[mbo] 6: num_leaves=869; min_data_in_leaf=1904; learning_rate=0.0305; feature_fraction=0.5; bagging_fraction=0.997 : y = 0.93 : 98.2 secs : infill_ei\n",
      "\n",
      "Wed Jul 30 19:34:04 2025 AUC 0.928019064388678\n",
      "\n",
      "[mbo] 7: num_leaves=1019; min_data_in_leaf=1795; learning_rate=0.00506; feature_fraction=0.509; bagging_fraction=0.935 : y = 0.928 : 94.1 secs : infill_ei\n",
      "\n",
      "Saved the current state after iteration 8 in the file bayesiana.RDATA.\n",
      "\n",
      "Wed Jul 30 19:36:46 2025 AUC 0.929209132481005\n",
      "\n",
      "[mbo] 8: num_leaves=871; min_data_in_leaf=515; learning_rate=0.0358; feature_fraction=0.5; bagging_fraction=0.999 : y = 0.929 : 156.5 secs : infill_ei\n",
      "\n",
      "Wed Jul 30 19:38:01 2025 AUC 0.928012685228148\n",
      "\n",
      "[mbo] 9: num_leaves=803; min_data_in_leaf=2422; learning_rate=0.024; feature_fraction=0.5; bagging_fraction=0.991 : y = 0.928 : 74.5 secs : infill_ei\n",
      "\n",
      "Wed Jul 30 19:39:25 2025 AUC 0.928625369640374\n",
      "\n",
      "[mbo] 10: num_leaves=647; min_data_in_leaf=1841; learning_rate=0.0356; feature_fraction=0.508; bagging_fraction=0.996 : y = 0.929 : 83.6 secs : infill_ei\n",
      "\n",
      "Wed Jul 30 19:40:51 2025 AUC 0.927996057914697\n",
      "\n",
      "[mbo] 11: num_leaves=887; min_data_in_leaf=1688; learning_rate=0.0424; feature_fraction=0.514; bagging_fraction=0.984 : y = 0.928 : 85.0 secs : infill_ei\n",
      "\n",
      "Wed Jul 30 19:42:26 2025 AUC 0.928620964858174\n",
      "\n",
      "[mbo] 12: num_leaves=1000; min_data_in_leaf=1246; learning_rate=0.0299; feature_fraction=0.509; bagging_fraction=0.964 : y = 0.929 : 94.3 secs : infill_ei\n",
      "\n",
      "Wed Jul 30 19:43:54 2025 AUC 0.927367985287531\n",
      "\n",
      "[mbo] 13: num_leaves=884; min_data_in_leaf=1594; learning_rate=0.0564; feature_fraction=0.5; bagging_fraction=0.613 : y = 0.927 : 87.7 secs : infill_ei\n",
      "\n",
      "Wed Jul 30 19:46:01 2025 AUC 0.929894311801248\n",
      "\n",
      "[mbo] 14: num_leaves=803; min_data_in_leaf=724; learning_rate=0.031; feature_fraction=0.501; bagging_fraction=0.743 : y = 0.93 : 125.7 secs : infill_ei\n",
      "\n",
      "Saved the current state after iteration 15 in the file bayesiana.RDATA.\n",
      "\n",
      "Wed Jul 30 19:47:15 2025 AUC 0.928443561770166\n",
      "\n",
      "[mbo] 15: num_leaves=1014; min_data_in_leaf=1939; learning_rate=0.0282; feature_fraction=0.687; bagging_fraction=0.772 : y = 0.928 : 70.1 secs : infill_ei\n",
      "\n",
      "Wed Jul 30 19:49:20 2025 AUC 0.930109341953873\n",
      "\n",
      "[mbo] 16: num_leaves=802; min_data_in_leaf=728; learning_rate=0.0168; feature_fraction=0.627; bagging_fraction=0.912 : y = 0.93 : 124.7 secs : infill_ei\n",
      "\n",
      "Wed Jul 30 19:59:26 2025 AUC 0.927716232492643\n",
      "\n",
      "[mbo] 17: num_leaves=848; min_data_in_leaf=105; learning_rate=0.0144; feature_fraction=0.682; bagging_fraction=0.896 : y = 0.928 : 605.3 secs : infill_ei\n",
      "\n",
      "Saved the current state after iteration 18 in the file bayesiana.RDATA.\n",
      "\n",
      "Wed Jul 30 20:01:34 2025 AUC 0.929130514620342\n",
      "\n",
      "[mbo] 18: num_leaves=549; min_data_in_leaf=695; learning_rate=0.0188; feature_fraction=0.527; bagging_fraction=0.787 : y = 0.929 : 123.7 secs : infill_ei\n",
      "\n",
      "Wed Jul 30 20:03:11 2025 AUC 0.928696680307139\n",
      "\n",
      "[mbo] 19: num_leaves=768; min_data_in_leaf=1120; learning_rate=0.0181; feature_fraction=0.773; bagging_fraction=0.816 : y = 0.929 : 96.1 secs : infill_ei\n",
      "\n",
      "Wed Jul 30 20:05:18 2025 AUC 0.929659378023151\n",
      "\n",
      "[mbo] 20: num_leaves=982; min_data_in_leaf=751; learning_rate=0.0278; feature_fraction=0.657; bagging_fraction=0.701 : y = 0.93 : 126.8 secs : infill_ei\n",
      "\n",
      "Wed Jul 30 20:06:38 2025 AUC 0.927163408095816\n",
      "\n",
      "[mbo] 21: num_leaves=869; min_data_in_leaf=2002; learning_rate=0.0297; feature_fraction=0.501; bagging_fraction=0.998 : y = 0.927 : 78.5 secs : infill_ei\n",
      "\n",
      "Wed Jul 30 20:07:52 2025 AUC 0.926081465211906\n",
      "\n",
      "[mbo] 22: num_leaves=808; min_data_in_leaf=2099; learning_rate=0.134; feature_fraction=0.984; bagging_fraction=0.666 : y = 0.926 : 73.7 secs : infill_ei\n",
      "\n",
      "Wed Jul 30 20:10:09 2025 AUC 0.929893016191422\n",
      "\n",
      "[mbo] 23: num_leaves=930; min_data_in_leaf=665; learning_rate=0.0192; feature_fraction=0.746; bagging_fraction=0.842 : y = 0.93 : 135.9 secs : infill_ei\n",
      "\n",
      "Saved the current state after iteration 24 in the file bayesiana.RDATA.\n",
      "\n",
      "Wed Jul 30 20:12:20 2025 AUC 0.930034627604751\n",
      "\n",
      "[mbo] 24: num_leaves=913; min_data_in_leaf=692; learning_rate=0.02; feature_fraction=0.517; bagging_fraction=0.953 : y = 0.93 : 124.8 secs : infill_ei\n",
      "\n",
      "Wed Jul 30 20:13:19 2025 AUC 0.926201177051744\n",
      "\n",
      "[mbo] 25: num_leaves=595; min_data_in_leaf=2999; learning_rate=0.151; feature_fraction=0.967; bagging_fraction=0.568 : y = 0.926 : 59.0 secs : infill_ei\n",
      "\n",
      "Wed Jul 30 20:15:54 2025 AUC 0.929763701902797\n",
      "\n",
      "[mbo] 26: num_leaves=1023; min_data_in_leaf=490; learning_rate=0.0196; feature_fraction=0.533; bagging_fraction=0.946 : y = 0.93 : 154.2 secs : infill_ei\n",
      "\n",
      "Wed Jul 30 20:18:06 2025 AUC 0.930882782002933\n",
      "\n",
      "[mbo] 27: num_leaves=983; min_data_in_leaf=589; learning_rate=0.0055; feature_fraction=0.514; bagging_fraction=0.814 : y = 0.931 : 131.4 secs : infill_ei\n",
      "\n",
      "Wed Jul 30 20:20:28 2025 AUC 0.930142302788806\n",
      "\n",
      "[mbo] 28: num_leaves=958; min_data_in_leaf=568; learning_rate=0.00541; feature_fraction=0.54; bagging_fraction=0.661 : y = 0.93 : 141.2 secs : infill_ei\n",
      "\n",
      "Saved the current state after iteration 29 in the file bayesiana.RDATA.\n",
      "\n",
      "Wed Jul 30 20:22:54 2025 AUC 0.929885813424139\n",
      "\n",
      "[mbo] 29: num_leaves=928; min_data_in_leaf=595; learning_rate=0.00633; feature_fraction=0.601; bagging_fraction=0.921 : y = 0.93 : 141.4 secs : infill_ei\n",
      "\n",
      "Wed Jul 30 20:25:19 2025 AUC 0.929493383745838\n",
      "\n",
      "[mbo] 30: num_leaves=1021; min_data_in_leaf=551; learning_rate=0.0135; feature_fraction=0.569; bagging_fraction=0.805 : y = 0.929 : 144.4 secs : infill_ei\n",
      "\n",
      "Wed Jul 30 20:27:30 2025 AUC 0.928466980698039\n",
      "\n",
      "[mbo] 31: num_leaves=916; min_data_in_leaf=727; learning_rate=0.00529; feature_fraction=0.943; bagging_fraction=0.914 : y = 0.928 : 130.2 secs : infill_ei\n",
      "\n",
      "Wed Jul 30 20:29:43 2025 AUC 0.929785876655144\n",
      "\n",
      "[mbo] 32: num_leaves=1011; min_data_in_leaf=627; learning_rate=0.036; feature_fraction=0.513; bagging_fraction=0.746 : y = 0.93 : 132.0 secs : infill_ei\n",
      "\n",
      "Wed Jul 30 20:30:31 2025 AUC 0.925852049253962\n",
      "\n",
      "[mbo] 33: num_leaves=131; min_data_in_leaf=4953; learning_rate=0.133; feature_fraction=0.621; bagging_fraction=0.597 : y = 0.926 : 47.2 secs : infill_ei\n",
      "\n",
      "Wed Jul 30 20:31:54 2025 AUC 0.927332254283662\n",
      "\n",
      "[mbo] 34: num_leaves=926; min_data_in_leaf=1891; learning_rate=0.0723; feature_fraction=0.501; bagging_fraction=0.792 : y = 0.927 : 82.3 secs : infill_ei\n",
      "\n",
      "Saved the current state after iteration 35 in the file bayesiana.RDATA.\n",
      "\n",
      "Wed Jul 30 20:33:12 2025 AUC 0.926633092658649\n",
      "\n",
      "[mbo] 35: num_leaves=991; min_data_in_leaf=2565; learning_rate=0.0058; feature_fraction=0.568; bagging_fraction=0.892 : y = 0.927 : 72.0 secs : infill_ei\n",
      "\n",
      "Wed Jul 30 20:34:19 2025 AUC 0.928052840493312\n",
      "\n",
      "[mbo] 36: num_leaves=958; min_data_in_leaf=3176; learning_rate=0.0307; feature_fraction=0.56; bagging_fraction=0.55 : y = 0.928 : 66.1 secs : infill_ei\n",
      "\n",
      "Wed Jul 30 20:35:24 2025 AUC 0.926959416285695\n",
      "\n",
      "[mbo] 37: num_leaves=680; min_data_in_leaf=3152; learning_rate=0.0435; feature_fraction=0.573; bagging_fraction=0.625 : y = 0.927 : 64.8 secs : infill_ei\n",
      "\n",
      "Wed Jul 30 20:37:53 2025 AUC 0.930796752729428\n",
      "\n",
      "[mbo] 38: num_leaves=644; min_data_in_leaf=589; learning_rate=0.0202; feature_fraction=0.634; bagging_fraction=0.611 : y = 0.931 : 147.9 secs : infill_ei\n",
      "\n",
      "Wed Jul 30 20:39:02 2025 AUC 0.926160074238041\n",
      "\n",
      "[mbo] 39: num_leaves=408; min_data_in_leaf=3601; learning_rate=0.189; feature_fraction=0.533; bagging_fraction=0.83 : y = 0.926 : 68.7 secs : infill_ei\n",
      "\n",
      "Wed Jul 30 20:41:15 2025 AUC 0.930931622986564\n",
      "\n",
      "[mbo] 40: num_leaves=623; min_data_in_leaf=591; learning_rate=0.0149; feature_fraction=0.501; bagging_fraction=0.706 : y = 0.931 : 131.5 secs : infill_ei\n",
      "\n",
      "Saved the final state in the file bayesiana.RDATA\n",
      "\n"
     ]
    }
   ],
   "source": [
    "# inicio la optimizacion bayesiana, retomando si ya existe\n",
    "# es la celda mas lenta de todo el notebook\n",
    "\n",
    "if (!file.exists(kbayesiana)) {\n",
    "  bayesiana_salida <- mbo(obj.fun, learner= surr.km, control= ctrl)\n",
    "} else {\n",
    "  bayesiana_salida <- mboContinue(kbayesiana) # retomo en caso que ya exista\n",
    "}"
   ]
  },
  {
   "cell_type": "code",
   "execution_count": 38,
   "metadata": {
    "id": "ssk5nnMk6INK"
   },
   "outputs": [
    {
     "data": {
      "text/html": [
       "<style>\n",
       ".list-inline {list-style: none; margin:0; padding: 0}\n",
       ".list-inline>li {display: inline-block}\n",
       ".list-inline>li:not(:last-child)::after {content: \"\\00b7\"; padding: 0 .5ex}\n",
       "</style>\n",
       "<ol class=list-inline><li>'num_leaves'</li><li>'min_data_in_leaf'</li><li>'learning_rate'</li><li>'feature_fraction'</li><li>'bagging_fraction'</li><li>'y'</li><li>'dob'</li><li>'eol'</li><li>'error.message'</li><li>'exec.time'</li><li>'ei'</li><li>'error.model'</li><li>'train.time'</li><li>'prop.type'</li><li>'propose.time'</li><li>'se'</li><li>'mean'</li></ol>\n"
      ],
      "text/latex": [
       "\\begin{enumerate*}\n",
       "\\item 'num\\_leaves'\n",
       "\\item 'min\\_data\\_in\\_leaf'\n",
       "\\item 'learning\\_rate'\n",
       "\\item 'feature\\_fraction'\n",
       "\\item 'bagging\\_fraction'\n",
       "\\item 'y'\n",
       "\\item 'dob'\n",
       "\\item 'eol'\n",
       "\\item 'error.message'\n",
       "\\item 'exec.time'\n",
       "\\item 'ei'\n",
       "\\item 'error.model'\n",
       "\\item 'train.time'\n",
       "\\item 'prop.type'\n",
       "\\item 'propose.time'\n",
       "\\item 'se'\n",
       "\\item 'mean'\n",
       "\\end{enumerate*}\n"
      ],
      "text/markdown": [
       "1. 'num_leaves'\n",
       "2. 'min_data_in_leaf'\n",
       "3. 'learning_rate'\n",
       "4. 'feature_fraction'\n",
       "5. 'bagging_fraction'\n",
       "6. 'y'\n",
       "7. 'dob'\n",
       "8. 'eol'\n",
       "9. 'error.message'\n",
       "10. 'exec.time'\n",
       "11. 'ei'\n",
       "12. 'error.model'\n",
       "13. 'train.time'\n",
       "14. 'prop.type'\n",
       "15. 'propose.time'\n",
       "16. 'se'\n",
       "17. 'mean'\n",
       "\n",
       "\n"
      ],
      "text/plain": [
       " [1] \"num_leaves\"       \"min_data_in_leaf\" \"learning_rate\"    \"feature_fraction\"\n",
       " [5] \"bagging_fraction\" \"y\"                \"dob\"              \"eol\"             \n",
       " [9] \"error.message\"    \"exec.time\"        \"ei\"               \"error.model\"     \n",
       "[13] \"train.time\"       \"prop.type\"        \"propose.time\"     \"se\"              \n",
       "[17] \"mean\"            "
      ]
     },
     "metadata": {},
     "output_type": "display_data"
    }
   ],
   "source": [
    "\n",
    "tb_bayesiana <- as.data.table(bayesiana_salida$opt.path)\n",
    "colnames( tb_bayesiana)"
   ]
  },
  {
   "cell_type": "code",
   "execution_count": 39,
   "metadata": {
    "id": "u4zq-vknhjGc"
   },
   "outputs": [],
   "source": [
    "# almaceno los resultados de la Bayesian Optimization\n",
    "# y capturo los mejores hiperparametros encontrados\n",
    "\n",
    "tb_bayesiana <- as.data.table(bayesiana_salida$opt.path)\n",
    "\n",
    "tb_bayesiana[, iter := .I]\n",
    "\n",
    "# ordeno en forma descendente por AUC = y\n",
    "setorder(tb_bayesiana, -y)\n",
    "\n",
    "# grabo para eventualmente poder utilizarlos en OTRA corrida\n",
    "fwrite( tb_bayesiana,\n",
    "  file= \"BO_log.txt\",\n",
    "  sep= \"\\t\"\n",
    ")\n",
    "\n",
    "# los mejores hiperparámetros son los que quedaron en el registro 1 de la tabla\n",
    "PARAM$out$lgbm$mejores_hiperparametros <- tb_bayesiana[\n",
    "  1, # el primero es el de mejor AUC\n",
    "  setdiff(colnames(tb_bayesiana),\n",
    "    c(\"y\",\"dob\",\"eol\",\"error.message\",\"exec.time\",\"ei\",\"error.model\",\n",
    "      \"train.time\",\"prop.type\",\"propose.time\",\"se\",\"mean\",\"iter\")),\n",
    "  with= FALSE\n",
    "]\n",
    "\n",
    "\n",
    "PARAM$out$lgbm$y <- tb_bayesiana[1, y]\n"
   ]
  },
  {
   "cell_type": "code",
   "execution_count": 40,
   "metadata": {
    "id": "E8v2eA427N8e"
   },
   "outputs": [],
   "source": [
    "write_yaml( PARAM, file=\"PARAM.yml\")"
   ]
  },
  {
   "cell_type": "code",
   "execution_count": 41,
   "metadata": {
    "id": "iBTWexVU7PGC"
   },
   "outputs": [
    {
     "name": "stdout",
     "output_type": "stream",
     "text": [
      "   num_leaves min_data_in_leaf learning_rate feature_fraction bagging_fraction\n",
      "        <int>            <int>         <num>            <num>            <num>\n",
      "1:        623              591    0.01493045        0.5005649         0.706311\n",
      "[1] 0.9309316\n"
     ]
    }
   ],
   "source": [
    "print(PARAM$out$lgbm$mejores_hiperparametros)\n",
    "print(PARAM$out$lgbm$y)"
   ]
  },
  {
   "cell_type": "markdown",
   "metadata": {
    "id": "TKsVZmAnhwX-"
   },
   "source": [
    "## 2.3  Produccion"
   ]
  },
  {
   "cell_type": "markdown",
   "metadata": {
    "id": "RQ_C33Tr5B_9"
   },
   "source": [
    "### Final Training\n",
    "Construyo el modelo final, que es uno solo, no hace ningun tipo de particion < training, validation, testing>]"
   ]
  },
  {
   "cell_type": "code",
   "execution_count": 42,
   "metadata": {
    "id": "eDqfyA14hzwv"
   },
   "outputs": [],
   "source": [
    "setwd(\"/content/buckets/b1/exp\")\n",
    "experimento <- paste0(\"exp\", PARAM$experimento)\n",
    "dir.create(experimento, showWarnings= FALSE)\n",
    "setwd( paste0(\"/content/buckets/b1/exp/\", experimento ))"
   ]
  },
  {
   "cell_type": "markdown",
   "metadata": {
    "id": "8qFmFivf5Iet"
   },
   "source": [
    "#### Final Training Dataset\n",
    "\n",
    "Aqui esta la gran decision de en qué meses hago el Final Training\n",
    "<br> debo utilizar los mejores hiperparámetros que encontré en la optimización bayesiana"
   ]
  },
  {
   "cell_type": "code",
   "execution_count": 43,
   "metadata": {
    "id": "lg5WVZncvc7H"
   },
   "outputs": [],
   "source": [
    "# clase01\n",
    "dataset[, clase01 := ifelse(clase_ternaria %in% c(\"BAJA+1\", \"BAJA+2\"), 1L, 0L)]"
   ]
  },
  {
   "cell_type": "code",
   "execution_count": 44,
   "metadata": {
    "id": "yc9QzXREv0xf"
   },
   "outputs": [],
   "source": [
    "dataset_train <- dataset[foto_mes %in% c(202107)]"
   ]
  },
  {
   "cell_type": "code",
   "execution_count": 45,
   "metadata": {
    "id": "thjdqEBLuvNt"
   },
   "outputs": [],
   "source": [
    "# dejo los datos en el formato que necesita LightGBM\n",
    "\n",
    "dtrain <- lgb.Dataset(\n",
    "  data= data.matrix(dataset_train[, campos_buenos, with= FALSE]),\n",
    "  label= dataset_train[, clase01]\n",
    ")"
   ]
  },
  {
   "cell_type": "markdown",
   "metadata": {
    "id": "VNUa-WSz5Oqu"
   },
   "source": [
    "#### Final Training Hyperparameters"
   ]
  },
  {
   "cell_type": "code",
   "execution_count": 46,
   "metadata": {
    "id": "FgCcvBfEwImu"
   },
   "outputs": [
    {
     "data": {
      "text/html": [
       "<dl>\n",
       "\t<dt>$boosting</dt>\n",
       "\t\t<dd>'gbdt'</dd>\n",
       "\t<dt>$objective</dt>\n",
       "\t\t<dd>'binary'</dd>\n",
       "\t<dt>$metric</dt>\n",
       "\t\t<dd>'auc'</dd>\n",
       "\t<dt>$first_metric_only</dt>\n",
       "\t\t<dd>FALSE</dd>\n",
       "\t<dt>$boost_from_average</dt>\n",
       "\t\t<dd>TRUE</dd>\n",
       "\t<dt>$feature_pre_filter</dt>\n",
       "\t\t<dd>FALSE</dd>\n",
       "\t<dt>$force_row_wise</dt>\n",
       "\t\t<dd>TRUE</dd>\n",
       "\t<dt>$verbosity</dt>\n",
       "\t\t<dd>-100</dd>\n",
       "\t<dt>$seed</dt>\n",
       "\t\t<dd>100019</dd>\n",
       "\t<dt>$num_iterations</dt>\n",
       "\t\t<dd>1200</dd>\n",
       "\t<dt>$num_leaves</dt>\n",
       "\t\t<dd>623</dd>\n",
       "\t<dt>$min_data_in_leaf</dt>\n",
       "\t\t<dd>591</dd>\n",
       "\t<dt>$learning_rate</dt>\n",
       "\t\t<dd>0.0149304528182408</dd>\n",
       "\t<dt>$feature_fraction</dt>\n",
       "\t\t<dd>0.500564864151139</dd>\n",
       "\t<dt>$bagging_fraction</dt>\n",
       "\t\t<dd>0.706311048558457</dd>\n",
       "</dl>\n"
      ],
      "text/latex": [
       "\\begin{description}\n",
       "\\item[\\$boosting] 'gbdt'\n",
       "\\item[\\$objective] 'binary'\n",
       "\\item[\\$metric] 'auc'\n",
       "\\item[\\$first\\_metric\\_only] FALSE\n",
       "\\item[\\$boost\\_from\\_average] TRUE\n",
       "\\item[\\$feature\\_pre\\_filter] FALSE\n",
       "\\item[\\$force\\_row\\_wise] TRUE\n",
       "\\item[\\$verbosity] -100\n",
       "\\item[\\$seed] 100019\n",
       "\\item[\\$num\\_iterations] 1200\n",
       "\\item[\\$num\\_leaves] 623\n",
       "\\item[\\$min\\_data\\_in\\_leaf] 591\n",
       "\\item[\\$learning\\_rate] 0.0149304528182408\n",
       "\\item[\\$feature\\_fraction] 0.500564864151139\n",
       "\\item[\\$bagging\\_fraction] 0.706311048558457\n",
       "\\end{description}\n"
      ],
      "text/markdown": [
       "$boosting\n",
       ":   'gbdt'\n",
       "$objective\n",
       ":   'binary'\n",
       "$metric\n",
       ":   'auc'\n",
       "$first_metric_only\n",
       ":   FALSE\n",
       "$boost_from_average\n",
       ":   TRUE\n",
       "$feature_pre_filter\n",
       ":   FALSE\n",
       "$force_row_wise\n",
       ":   TRUE\n",
       "$verbosity\n",
       ":   -100\n",
       "$seed\n",
       ":   100019\n",
       "$num_iterations\n",
       ":   1200\n",
       "$num_leaves\n",
       ":   623\n",
       "$min_data_in_leaf\n",
       ":   591\n",
       "$learning_rate\n",
       ":   0.0149304528182408\n",
       "$feature_fraction\n",
       ":   0.500564864151139\n",
       "$bagging_fraction\n",
       ":   0.706311048558457\n",
       "\n",
       "\n"
      ],
      "text/plain": [
       "$boosting\n",
       "[1] \"gbdt\"\n",
       "\n",
       "$objective\n",
       "[1] \"binary\"\n",
       "\n",
       "$metric\n",
       "[1] \"auc\"\n",
       "\n",
       "$first_metric_only\n",
       "[1] FALSE\n",
       "\n",
       "$boost_from_average\n",
       "[1] TRUE\n",
       "\n",
       "$feature_pre_filter\n",
       "[1] FALSE\n",
       "\n",
       "$force_row_wise\n",
       "[1] TRUE\n",
       "\n",
       "$verbosity\n",
       "[1] -100\n",
       "\n",
       "$seed\n",
       "[1] 100019\n",
       "\n",
       "$num_iterations\n",
       "[1] 1200\n",
       "\n",
       "$num_leaves\n",
       "[1] 623\n",
       "\n",
       "$min_data_in_leaf\n",
       "[1] 591\n",
       "\n",
       "$learning_rate\n",
       "[1] 0.01493045\n",
       "\n",
       "$feature_fraction\n",
       "[1] 0.5005649\n",
       "\n",
       "$bagging_fraction\n",
       "[1] 0.706311\n"
      ]
     },
     "metadata": {},
     "output_type": "display_data"
    }
   ],
   "source": [
    "param_final <- modifyList(PARAM$lgbm$param_fijos,\n",
    "  PARAM$out$lgbm$mejores_hiperparametros)\n",
    "\n",
    "param_final"
   ]
  },
  {
   "cell_type": "markdown",
   "metadata": {
    "id": "TZIYn4l95TBH"
   },
   "source": [
    "#### Training\n",
    "Genero el modelo final, siempre sobre TODOS los datos de  final_train, sin hacer ningun tipo de undersampling de la clase mayoritaria"
   ]
  },
  {
   "cell_type": "code",
   "execution_count": 47,
   "metadata": {
    "id": "vPLsd4mMRe4u"
   },
   "outputs": [],
   "source": [
    "# este punto es muy SUTIL  y será revisado en la Clase 05\n",
    "\n",
    "param_normalizado <- copy(param_final)\n",
    "param_normalizado$min_data_in_leaf <-  param_final$min_data_in_leaf / PARAM$trainingstrategy$undersampling"
   ]
  },
  {
   "cell_type": "code",
   "execution_count": 48,
   "metadata": {
    "id": "WRI_-taRwOXO"
   },
   "outputs": [],
   "source": [
    "  # entreno LightGBM\n",
    "\n",
    "  modelo_final <- lgb.train(\n",
    "    data= dtrain,\n",
    "    param= param_normalizado\n",
    "  )"
   ]
  },
  {
   "cell_type": "code",
   "execution_count": 49,
   "metadata": {
    "id": "_bkhnCvj0g3Q"
   },
   "outputs": [],
   "source": [
    "# ahora imprimo la importancia de variables\n",
    "\n",
    "tb_importancia <- as.data.table(lgb.importance(modelo_final))\n",
    "archivo_importancia <- \"impo.txt\"\n",
    "\n",
    "fwrite(tb_importancia,\n",
    "  file= archivo_importancia,\n",
    "  sep= \"\\t\"\n",
    ")"
   ]
  },
  {
   "cell_type": "code",
   "execution_count": 50,
   "metadata": {
    "id": "lZ3sLmbh0kFj"
   },
   "outputs": [],
   "source": [
    "# grabo a disco el modelo en un formato para seres humanos ... ponele ...\n",
    "\n",
    "lgb.save(modelo_final, \"modelo.txt\" )"
   ]
  },
  {
   "cell_type": "markdown",
   "metadata": {
    "id": "VEtp2--t5Ymg"
   },
   "source": [
    "### Scoring"
   ]
  },
  {
   "cell_type": "markdown",
   "metadata": {
    "id": "hI5008Mj5ZdI"
   },
   "source": [
    "Aplico el modelo final a los datos del futuro"
   ]
  },
  {
   "cell_type": "code",
   "execution_count": 51,
   "metadata": {
    "id": "PimBY3N_0ryP"
   },
   "outputs": [],
   "source": [
    "# aplico el modelo a los datos sin clase\n",
    "dfuture <- dataset[foto_mes == 202109]\n",
    "\n",
    "# aplico el modelo a los datos nuevos\n",
    "prediccion <- predict(\n",
    "  modelo_final,\n",
    "  data.matrix(dfuture[, campos_buenos, with= FALSE])\n",
    ")"
   ]
  },
  {
   "cell_type": "markdown",
   "metadata": {
    "id": "D26rNRh55gpw"
   },
   "source": [
    "#### Tabla Prediccion"
   ]
  },
  {
   "cell_type": "code",
   "execution_count": 52,
   "metadata": {
    "id": "RJwg7LHd11yu"
   },
   "outputs": [],
   "source": [
    "# tabla de prediccion\n",
    "\n",
    "tb_prediccion <- dfuture[, list(numero_de_cliente)]\n",
    "tb_prediccion[, prob := prediccion ]\n",
    "\n",
    "# grabo las probabilidad del modelo\n",
    "fwrite(tb_prediccion,\n",
    "  file= \"prediccion.txt\",\n",
    "  sep= \"\\t\"\n",
    ")"
   ]
  },
  {
   "cell_type": "markdown",
   "metadata": {
    "id": "jOt4eG_55ltv"
   },
   "source": [
    "Kaggle Competition Submit"
   ]
  },
  {
   "cell_type": "code",
   "execution_count": 53,
   "metadata": {
    "id": "gWW3tatE12je"
   },
   "outputs": [
    {
     "name": "stdout",
     "output_type": "stream",
     "text": [
      "Successfully submitted to Data Mining, Analista Sr 2025A \n",
      "Successfully submitted to Data Mining, Analista Sr 2025A \n",
      "Successfully submitted to Data Mining, Analista Sr 2025A \n",
      "Successfully submitted to Data Mining, Analista Sr 2025A \n",
      "Successfully submitted to Data Mining, Analista Sr 2025A \n"
     ]
    }
   ],
   "source": [
    "# genero archivos con los  \"envios\" mejores\n",
    "# suba TODOS los archivos a Kaggle\n",
    "\n",
    "# ordeno por probabilidad descendente\n",
    "setorder(tb_prediccion, -prob)\n",
    "\n",
    "dir.create(\"kaggle\")\n",
    "\n",
    "for (envios in PARAM$kaggle$cortes) {\n",
    "\n",
    "  tb_prediccion[, Predicted := 0L] # seteo inicial a 0\n",
    "  tb_prediccion[1:envios, Predicted := 1L] # marclo los primeros\n",
    "\n",
    "  archivo_kaggle <- paste0(\"./kaggle/KA\", PARAM$experimento, \"_\", envios, \".csv\")\n",
    "\n",
    "  # grabo el archivo\n",
    "  fwrite(tb_prediccion[, list(numero_de_cliente, Predicted)],\n",
    "    file= archivo_kaggle,\n",
    "    sep= \",\"\n",
    "  )\n",
    "\n",
    "  # subida a Kaggle, armo la linea de comando\n",
    "  comando <- \"kaggle competitions submit\"\n",
    "  competencia <- paste(\"-c\", PARAM$kaggle$competencia)\n",
    "  arch <- paste( \"-f\", archivo_kaggle)\n",
    "\n",
    "  mensaje <- paste0(\"-m 'envios=\", envios,\n",
    "  \"  semilla=\", PARAM$semilla_primigenia,\n",
    "    \"'\" )\n",
    "\n",
    "  linea <- paste( comando, competencia, arch, mensaje)\n",
    "\n",
    "  salida <- system(linea, intern=TRUE) # el submit a Kaggle\n",
    "  cat(salida, \"\\n\")\n",
    "}"
   ]
  },
  {
   "cell_type": "code",
   "execution_count": 54,
   "metadata": {
    "id": "B9tB2X4439Hg"
   },
   "outputs": [],
   "source": [
    "write_yaml( PARAM, file=\"PARAM.yml\")"
   ]
  },
  {
   "cell_type": "code",
   "execution_count": 55,
   "metadata": {
    "id": "9zA_W25c15DP"
   },
   "outputs": [
    {
     "data": {
      "text/html": [
       "'Wed Jul 30 20:52:54 2025'"
      ],
      "text/latex": [
       "'Wed Jul 30 20:52:54 2025'"
      ],
      "text/markdown": [
       "'Wed Jul 30 20:52:54 2025'"
      ],
      "text/plain": [
       "[1] \"Wed Jul 30 20:52:54 2025\""
      ]
     },
     "metadata": {},
     "output_type": "display_data"
    }
   ],
   "source": [
    "format(Sys.time(), \"%a %b %d %X %Y\")"
   ]
  },
  {
   "cell_type": "markdown",
   "metadata": {
    "id": "UdVZucdLHzZ0"
   },
   "source": [
    "Finalmente usted deberá cargar el resultado de su corrida en la Google Sheet Colaborativa,  hoja **TareaHogar04**\n",
    "<br> Siéntase libre de agregar las columnas que hagan falta a la planilla"
   ]
  },
  {
   "cell_type": "code",
   "execution_count": null,
   "metadata": {
    "id": "WMHh7uNVIJkT"
   },
   "outputs": [],
   "source": []
  }
 ],
 "metadata": {
  "colab": {
   "provenance": []
  },
  "kernelspec": {
   "display_name": "R",
   "language": "R",
   "name": "ir"
  },
  "language_info": {
   "codemirror_mode": "r",
   "file_extension": ".r",
   "mimetype": "text/x-r-source",
   "name": "R",
   "pygments_lexer": "r",
   "version": "4.4.3"
  }
 },
 "nbformat": 4,
 "nbformat_minor": 4
}
